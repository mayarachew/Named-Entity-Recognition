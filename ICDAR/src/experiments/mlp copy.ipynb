{
 "cells": [
  {
   "cell_type": "markdown",
   "metadata": {},
   "source": [
    "## Apply best model on test (submit) data"
   ]
  },
  {
   "cell_type": "markdown",
   "metadata": {},
   "source": [
    "## Import"
   ]
  },
  {
   "cell_type": "code",
   "execution_count": 7,
   "metadata": {},
   "outputs": [],
   "source": [
    "import pytesseract\n",
    "import cv2\n",
    "import os\n",
    "import ntpath\n",
    "import pandas as pd\n",
    "import json\n",
    "from datasets import load_dataset\n",
    "\n",
    "from functions.add_to_file import add_to_file "
   ]
  },
  {
   "cell_type": "markdown",
   "metadata": {},
   "source": [
    "## Read data"
   ]
  },
  {
   "cell_type": "code",
   "execution_count": 25,
   "metadata": {},
   "outputs": [
    {
     "name": "stderr",
     "output_type": "stream",
     "text": [
      "Using custom data configuration input-7726882c3a6b36be\n",
      "Reusing dataset csv (/home/mayara/.cache/huggingface/datasets/csv/input-7726882c3a6b36be/0.0.0/652c3096f041ee27b04d2232d41f10547a8fecda3e284a79a0ec4053c916ef7a)\n",
      "100%|██████████| 3/3 [00:00<00:00, 674.47it/s]\n"
     ]
    }
   ],
   "source": [
    "data_files = {\"train\": \"train_dataset.csv\", \"val\": \"val_dataset.csv\", \"test\": \"test_dataset.csv\"}\n",
    "dataset = load_dataset(\"../../data/input\", data_files=data_files)"
   ]
  },
  {
   "cell_type": "code",
   "execution_count": 26,
   "metadata": {},
   "outputs": [],
   "source": [
    "labels = {0: 'B-address', 1: 'B-company', 2: 'B-date', 3: 'B-total', 4: 'O'}\n",
    "\n",
    "label_colors = {'address': 'blue', 'company': 'green',\n",
    "               'date': 'red', 'total': 'violet', 'other': 'gray'}"
   ]
  },
  {
   "cell_type": "markdown",
   "metadata": {},
   "source": [
    "1) OCR textos ruins\n",
    "2)"
   ]
  },
  {
   "cell_type": "code",
   "execution_count": 30,
   "metadata": {},
   "outputs": [
    {
     "data": {
      "text/html": [
       "<div>\n",
       "<style scoped>\n",
       "    .dataframe tbody tr th:only-of-type {\n",
       "        vertical-align: middle;\n",
       "    }\n",
       "\n",
       "    .dataframe tbody tr th {\n",
       "        vertical-align: top;\n",
       "    }\n",
       "\n",
       "    .dataframe thead th {\n",
       "        text-align: right;\n",
       "    }\n",
       "</style>\n",
       "<table border=\"1\" class=\"dataframe\">\n",
       "  <thead>\n",
       "    <tr style=\"text-align: right;\">\n",
       "      <th></th>\n",
       "      <th>id</th>\n",
       "      <th>company</th>\n",
       "      <th>date</th>\n",
       "      <th>address</th>\n",
       "      <th>total</th>\n",
       "      <th>text</th>\n",
       "    </tr>\n",
       "  </thead>\n",
       "  <tbody>\n",
       "    <tr>\n",
       "      <th>0</th>\n",
       "      <td>X51005717526</td>\n",
       "      <td>GERBANG ALAF RESTAURANTS SDN BHD</td>\n",
       "      <td>02/03/2018</td>\n",
       "      <td>LEVEL 6, BANGUNAN TH, DAMANSARA UPTOWN3 NO.3, ...</td>\n",
       "      <td>28.50</td>\n",
       "      <td>[/ 4 Aljaf Restaurants Sdn Bhd (OES 1-M) forme...</td>\n",
       "    </tr>\n",
       "    <tr>\n",
       "      <th>1</th>\n",
       "      <td>X51006334926</td>\n",
       "      <td>GOLDEN ARCHES RESTAURANTS SDN BHD</td>\n",
       "      <td>25/12/2016</td>\n",
       "      <td>LEVEL 6, BANGUNAN TH, DAMANSARA UPTOWN3 NO.3, ...</td>\n",
       "      <td>29.30</td>\n",
       "      <td>Your order number 1s 264 Golden Arches Restaur...</td>\n",
       "    </tr>\n",
       "    <tr>\n",
       "      <th>2</th>\n",
       "      <td>X51008164969</td>\n",
       "      <td>ONE ONE THREE SEAFOOD RESTAURANT SDN BHD</td>\n",
       "      <td>14-06-2018</td>\n",
       "      <td>NO. 1, TAMAN SRI DENGKIL, JALAN AIR HITAM 4380...</td>\n",
       "      <td>59.00</td>\n",
       "      <td>. ONE THREE SEAFOOD RESTAURANT SON BHD (112090...</td>\n",
       "    </tr>\n",
       "    <tr>\n",
       "      <th>3</th>\n",
       "      <td>X51006556646</td>\n",
       "      <td>GARDENIA BAKERIES (KL) SDN BHD</td>\n",
       "      <td>21/08/2017</td>\n",
       "      <td>LOT 3, JALAN PELABUR 23/1, 40300 SHAH ALAM, SE...</td>\n",
       "      <td>73.55</td>\n",
       "      <td>meee nature “Yowiet regu : “ACCOUNT'S COPY |...</td>\n",
       "    </tr>\n",
       "    <tr>\n",
       "      <th>4</th>\n",
       "      <td>X51006882603</td>\n",
       "      <td>ECO-SHOP MARKETING SDN BHD</td>\n",
       "      <td>26/02/2018</td>\n",
       "      <td>LOT F1-01, 6, JALAN 8/27A, SEKSYEN 5 WANGSA MA...</td>\n",
       "      <td>16.30</td>\n",
       "      <td>TAX INVOICE Eco-Shop Marketing Sdn Bhd GST Reg...</td>\n",
       "    </tr>\n",
       "    <tr>\n",
       "      <th>...</th>\n",
       "      <td>...</td>\n",
       "      <td>...</td>\n",
       "      <td>...</td>\n",
       "      <td>...</td>\n",
       "      <td>...</td>\n",
       "      <td>...</td>\n",
       "    </tr>\n",
       "    <tr>\n",
       "      <th>607</th>\n",
       "      <td>X51005749905</td>\n",
       "      <td>ENW HARDWARE CENTRE (M) SDN BHD</td>\n",
       "      <td>10/03/2018</td>\n",
       "      <td>NO: G3, BLK G, JIN PJU 1A/3, ARA DAMANSARA, 47...</td>\n",
       "      <td>34.00</td>\n",
       "      <td>\\ ‘ ENW Hardware Centre (M) Sdn. Bhd. Co. Reg....</td>\n",
       "    </tr>\n",
       "    <tr>\n",
       "      <th>608</th>\n",
       "      <td>X51007225417</td>\n",
       "      <td>ENW HARDWARE CENTRE (M) SDN. BHD.</td>\n",
       "      <td>09/04/2018</td>\n",
       "      <td>NO: G3, BLK G, JLN PJU 1A/3, ARA DAMANSARA, 47...</td>\n",
       "      <td>51.00</td>\n",
       "      <td>\\ baht é ENW Hardwa. 2 Centre (M) Sdn. Bhd. Co...</td>\n",
       "    </tr>\n",
       "    <tr>\n",
       "      <th>609</th>\n",
       "      <td>X51005757349</td>\n",
       "      <td>GOLDEN KEY MAKER</td>\n",
       "      <td>24-MAR-2018</td>\n",
       "      <td>NO 5, JALAN KENARI 2, BANDAR PUCHONG JAYA, 471...</td>\n",
       "      <td>21.00</td>\n",
       "      <td>31802053 = 4 . GOLDEN KEY MAKER (000760274-K) ...</td>\n",
       "    </tr>\n",
       "    <tr>\n",
       "      <th>610</th>\n",
       "      <td>X51007339643</td>\n",
       "      <td>AIK HUAT HARDWARE ENTERPRISE (SETIA ALAM) SDN BHD</td>\n",
       "      <td>30/03/2017</td>\n",
       "      <td>NO. 17-G, JALAN SETIA INDAH (X) U13/X, SETIA A...</td>\n",
       "      <td>6.00</td>\n",
       "      <td>set    LT HULL &amp; IN CRIGIEAL 03 o       : q ...</td>\n",
       "    </tr>\n",
       "    <tr>\n",
       "      <th>611</th>\n",
       "      <td>X51006414394</td>\n",
       "      <td>RESTORAN SIAM VILLAGE</td>\n",
       "      <td>27/04/2018</td>\n",
       "      <td>NO.8,JALAN PERMAS 10/7, PERMAS JAYA, 81750 JOH...</td>\n",
       "      <td>275.90</td>\n",
       "      <td>HO Bill No: 1863 Sevr By : manager-’ fay f HOL...</td>\n",
       "    </tr>\n",
       "  </tbody>\n",
       "</table>\n",
       "<p>612 rows × 6 columns</p>\n",
       "</div>"
      ],
      "text/plain": [
       "               id                                            company  \\\n",
       "0    X51005717526                   GERBANG ALAF RESTAURANTS SDN BHD   \n",
       "1    X51006334926                  GOLDEN ARCHES RESTAURANTS SDN BHD   \n",
       "2    X51008164969           ONE ONE THREE SEAFOOD RESTAURANT SDN BHD   \n",
       "3    X51006556646                     GARDENIA BAKERIES (KL) SDN BHD   \n",
       "4    X51006882603                         ECO-SHOP MARKETING SDN BHD   \n",
       "..            ...                                                ...   \n",
       "607  X51005749905                    ENW HARDWARE CENTRE (M) SDN BHD   \n",
       "608  X51007225417                  ENW HARDWARE CENTRE (M) SDN. BHD.   \n",
       "609  X51005757349                                   GOLDEN KEY MAKER   \n",
       "610  X51007339643  AIK HUAT HARDWARE ENTERPRISE (SETIA ALAM) SDN BHD   \n",
       "611  X51006414394                              RESTORAN SIAM VILLAGE   \n",
       "\n",
       "            date                                            address   total  \\\n",
       "0     02/03/2018  LEVEL 6, BANGUNAN TH, DAMANSARA UPTOWN3 NO.3, ...   28.50   \n",
       "1     25/12/2016  LEVEL 6, BANGUNAN TH, DAMANSARA UPTOWN3 NO.3, ...   29.30   \n",
       "2     14-06-2018  NO. 1, TAMAN SRI DENGKIL, JALAN AIR HITAM 4380...   59.00   \n",
       "3     21/08/2017  LOT 3, JALAN PELABUR 23/1, 40300 SHAH ALAM, SE...   73.55   \n",
       "4     26/02/2018  LOT F1-01, 6, JALAN 8/27A, SEKSYEN 5 WANGSA MA...   16.30   \n",
       "..           ...                                                ...     ...   \n",
       "607   10/03/2018  NO: G3, BLK G, JIN PJU 1A/3, ARA DAMANSARA, 47...   34.00   \n",
       "608   09/04/2018  NO: G3, BLK G, JLN PJU 1A/3, ARA DAMANSARA, 47...   51.00   \n",
       "609  24-MAR-2018  NO 5, JALAN KENARI 2, BANDAR PUCHONG JAYA, 471...   21.00   \n",
       "610   30/03/2017  NO. 17-G, JALAN SETIA INDAH (X) U13/X, SETIA A...    6.00   \n",
       "611   27/04/2018  NO.8,JALAN PERMAS 10/7, PERMAS JAYA, 81750 JOH...  275.90   \n",
       "\n",
       "                                                  text  \n",
       "0    [/ 4 Aljaf Restaurants Sdn Bhd (OES 1-M) forme...  \n",
       "1    Your order number 1s 264 Golden Arches Restaur...  \n",
       "2    . ONE THREE SEAFOOD RESTAURANT SON BHD (112090...  \n",
       "3      meee nature “Yowiet regu : “ACCOUNT'S COPY |...  \n",
       "4    TAX INVOICE Eco-Shop Marketing Sdn Bhd GST Reg...  \n",
       "..                                                 ...  \n",
       "607  \\ ‘ ENW Hardware Centre (M) Sdn. Bhd. Co. Reg....  \n",
       "608  \\ baht é ENW Hardwa. 2 Centre (M) Sdn. Bhd. Co...  \n",
       "609  31802053 = 4 . GOLDEN KEY MAKER (000760274-K) ...  \n",
       "610    set    LT HULL & IN CRIGIEAL 03 o       : q ...  \n",
       "611  HO Bill No: 1863 Sevr By : manager-’ fay f HOL...  \n",
       "\n",
       "[612 rows x 6 columns]"
      ]
     },
     "execution_count": 30,
     "metadata": {},
     "output_type": "execute_result"
    }
   ],
   "source": [
    "dataset['train'].to_pandas()"
   ]
  },
  {
   "cell_type": "code",
   "execution_count": null,
   "metadata": {},
   "outputs": [],
   "source": [
    "df = pd.DataFrame()\n",
    "df['x'] = dataset['train']['text']\n",
    "df['y'] = 'COMPANY'\n",
    "df"
   ]
  },
  {
   "cell_type": "code",
   "execution_count": null,
   "metadata": {},
   "outputs": [],
   "source": [
    "df = pd.DataFrame()\n",
    "df['x'] = dataset['train']['company']\n",
    "df['y'] = 'COMPANY'\n",
    "df"
   ]
  },
  {
   "cell_type": "code",
   "execution_count": 20,
   "metadata": {},
   "outputs": [
    {
     "data": {
      "text/html": [
       "<div>\n",
       "<style scoped>\n",
       "    .dataframe tbody tr th:only-of-type {\n",
       "        vertical-align: middle;\n",
       "    }\n",
       "\n",
       "    .dataframe tbody tr th {\n",
       "        vertical-align: top;\n",
       "    }\n",
       "\n",
       "    .dataframe thead th {\n",
       "        text-align: right;\n",
       "    }\n",
       "</style>\n",
       "<table border=\"1\" class=\"dataframe\">\n",
       "  <thead>\n",
       "    <tr style=\"text-align: right;\">\n",
       "      <th></th>\n",
       "      <th>x</th>\n",
       "      <th>y</th>\n",
       "    </tr>\n",
       "  </thead>\n",
       "  <tbody>\n",
       "    <tr>\n",
       "      <th>0</th>\n",
       "      <td>GERBANG ALAF RESTAURANTS SDN BHD</td>\n",
       "      <td>COMPANY</td>\n",
       "    </tr>\n",
       "    <tr>\n",
       "      <th>1</th>\n",
       "      <td>GOLDEN ARCHES RESTAURANTS SDN BHD</td>\n",
       "      <td>COMPANY</td>\n",
       "    </tr>\n",
       "    <tr>\n",
       "      <th>2</th>\n",
       "      <td>ONE ONE THREE SEAFOOD RESTAURANT SDN BHD</td>\n",
       "      <td>COMPANY</td>\n",
       "    </tr>\n",
       "    <tr>\n",
       "      <th>3</th>\n",
       "      <td>GARDENIA BAKERIES (KL) SDN BHD</td>\n",
       "      <td>COMPANY</td>\n",
       "    </tr>\n",
       "    <tr>\n",
       "      <th>4</th>\n",
       "      <td>ECO-SHOP MARKETING SDN BHD</td>\n",
       "      <td>COMPANY</td>\n",
       "    </tr>\n",
       "    <tr>\n",
       "      <th>...</th>\n",
       "      <td>...</td>\n",
       "      <td>...</td>\n",
       "    </tr>\n",
       "    <tr>\n",
       "      <th>607</th>\n",
       "      <td>ENW HARDWARE CENTRE (M) SDN BHD</td>\n",
       "      <td>COMPANY</td>\n",
       "    </tr>\n",
       "    <tr>\n",
       "      <th>608</th>\n",
       "      <td>ENW HARDWARE CENTRE (M) SDN. BHD.</td>\n",
       "      <td>COMPANY</td>\n",
       "    </tr>\n",
       "    <tr>\n",
       "      <th>609</th>\n",
       "      <td>GOLDEN KEY MAKER</td>\n",
       "      <td>COMPANY</td>\n",
       "    </tr>\n",
       "    <tr>\n",
       "      <th>610</th>\n",
       "      <td>AIK HUAT HARDWARE ENTERPRISE (SETIA ALAM) SDN BHD</td>\n",
       "      <td>COMPANY</td>\n",
       "    </tr>\n",
       "    <tr>\n",
       "      <th>611</th>\n",
       "      <td>RESTORAN SIAM VILLAGE</td>\n",
       "      <td>COMPANY</td>\n",
       "    </tr>\n",
       "  </tbody>\n",
       "</table>\n",
       "<p>612 rows × 2 columns</p>\n",
       "</div>"
      ],
      "text/plain": [
       "                                                     x        y\n",
       "0                     GERBANG ALAF RESTAURANTS SDN BHD  COMPANY\n",
       "1                    GOLDEN ARCHES RESTAURANTS SDN BHD  COMPANY\n",
       "2             ONE ONE THREE SEAFOOD RESTAURANT SDN BHD  COMPANY\n",
       "3                       GARDENIA BAKERIES (KL) SDN BHD  COMPANY\n",
       "4                           ECO-SHOP MARKETING SDN BHD  COMPANY\n",
       "..                                                 ...      ...\n",
       "607                    ENW HARDWARE CENTRE (M) SDN BHD  COMPANY\n",
       "608                  ENW HARDWARE CENTRE (M) SDN. BHD.  COMPANY\n",
       "609                                   GOLDEN KEY MAKER  COMPANY\n",
       "610  AIK HUAT HARDWARE ENTERPRISE (SETIA ALAM) SDN BHD  COMPANY\n",
       "611                              RESTORAN SIAM VILLAGE  COMPANY\n",
       "\n",
       "[612 rows x 2 columns]"
      ]
     },
     "execution_count": 20,
     "metadata": {},
     "output_type": "execute_result"
    }
   ],
   "source": [
    "df = pd.DataFrame()\n",
    "df['x'] = dataset['train']['company']\n",
    "df['y'] = 'COMPANY'\n",
    "df"
   ]
  },
  {
   "cell_type": "markdown",
   "metadata": {},
   "source": [
    "## Preprocessing"
   ]
  },
  {
   "cell_type": "markdown",
   "metadata": {},
   "source": [
    "Transform to IOB format"
   ]
  },
  {
   "cell_type": "code",
   "execution_count": 22,
   "metadata": {},
   "outputs": [
    {
     "ename": "ValueError",
     "evalue": "concat() expects at least one object!",
     "output_type": "error",
     "traceback": [
      "\u001b[0;31m---------------------------------------------------------------------------\u001b[0m",
      "\u001b[0;31mValueError\u001b[0m                                Traceback (most recent call last)",
      "\u001b[1;32m/home/mayara/Documentos/dados/NER/Named-Entity-Recognition/src/experiments/mlp copy.ipynb Cell 10'\u001b[0m in \u001b[0;36m<cell line: 7>\u001b[0;34m()\u001b[0m\n\u001b[1;32m      <a href='vscode-notebook-cell:/home/mayara/Documentos/dados/NER/Named-Entity-Recognition/src/experiments/mlp%20copy.ipynb#ch0000059?line=3'>4</a>\u001b[0m \u001b[39m# Initializing\u001b[39;00m\n\u001b[1;32m      <a href='vscode-notebook-cell:/home/mayara/Documentos/dados/NER/Named-Entity-Recognition/src/experiments/mlp%20copy.ipynb#ch0000059?line=4'>5</a>\u001b[0m reader \u001b[39m=\u001b[39m ConllChunkCorpusReader(\u001b[39m'\u001b[39m\u001b[39m.\u001b[39m\u001b[39m'\u001b[39m, \u001b[39mr\u001b[39m\u001b[39m'\u001b[39m\u001b[39m.*\u001b[39m\u001b[39m\\\u001b[39m\u001b[39m.iob\u001b[39m\u001b[39m'\u001b[39m, (\u001b[39m'\u001b[39m\u001b[39mCOMPANY\u001b[39m\u001b[39m'\u001b[39m))\n\u001b[0;32m----> <a href='vscode-notebook-cell:/home/mayara/Documentos/dados/NER/Named-Entity-Recognition/src/experiments/mlp%20copy.ipynb#ch0000059?line=6'>7</a>\u001b[0m reader\u001b[39m.\u001b[39;49mchunked_words()\n\u001b[1;32m      <a href='vscode-notebook-cell:/home/mayara/Documentos/dados/NER/Named-Entity-Recognition/src/experiments/mlp%20copy.ipynb#ch0000059?line=8'>9</a>\u001b[0m reader\u001b[39m.\u001b[39miob_words()\n",
      "File \u001b[0;32m~/.local/lib/python3.8/site-packages/nltk/corpus/reader/conll.py:132\u001b[0m, in \u001b[0;36mConllCorpusReader.chunked_words\u001b[0;34m(self, fileids, chunk_types, tagset)\u001b[0m\n\u001b[1;32m    <a href='file:///home/mayara/.local/lib/python3.8/site-packages/nltk/corpus/reader/conll.py?line=128'>129</a>\u001b[0m \u001b[39mdef\u001b[39;00m \u001b[39mget_chunked_words\u001b[39m(grid):  \u001b[39m# capture chunk_types as local var\u001b[39;00m\n\u001b[1;32m    <a href='file:///home/mayara/.local/lib/python3.8/site-packages/nltk/corpus/reader/conll.py?line=129'>130</a>\u001b[0m     \u001b[39mreturn\u001b[39;00m \u001b[39mself\u001b[39m\u001b[39m.\u001b[39m_get_chunked_words(grid, chunk_types, tagset)\n\u001b[0;32m--> <a href='file:///home/mayara/.local/lib/python3.8/site-packages/nltk/corpus/reader/conll.py?line=131'>132</a>\u001b[0m \u001b[39mreturn\u001b[39;00m LazyConcatenation(LazyMap(get_chunked_words, \u001b[39mself\u001b[39;49m\u001b[39m.\u001b[39;49m_grids(fileids)))\n",
      "File \u001b[0;32m~/.local/lib/python3.8/site-packages/nltk/corpus/reader/conll.py:207\u001b[0m, in \u001b[0;36mConllCorpusReader._grids\u001b[0;34m(self, fileids)\u001b[0m\n\u001b[1;32m    <a href='file:///home/mayara/.local/lib/python3.8/site-packages/nltk/corpus/reader/conll.py?line=202'>203</a>\u001b[0m \u001b[39mdef\u001b[39;00m \u001b[39m_grids\u001b[39m(\u001b[39mself\u001b[39m, fileids\u001b[39m=\u001b[39m\u001b[39mNone\u001b[39;00m):\n\u001b[1;32m    <a href='file:///home/mayara/.local/lib/python3.8/site-packages/nltk/corpus/reader/conll.py?line=203'>204</a>\u001b[0m     \u001b[39m# n.b.: we could cache the object returned here (keyed on\u001b[39;00m\n\u001b[1;32m    <a href='file:///home/mayara/.local/lib/python3.8/site-packages/nltk/corpus/reader/conll.py?line=204'>205</a>\u001b[0m     \u001b[39m# fileids), which would let us reuse the same corpus view for\u001b[39;00m\n\u001b[1;32m    <a href='file:///home/mayara/.local/lib/python3.8/site-packages/nltk/corpus/reader/conll.py?line=205'>206</a>\u001b[0m     \u001b[39m# different things (eg srl and parse trees).\u001b[39;00m\n\u001b[0;32m--> <a href='file:///home/mayara/.local/lib/python3.8/site-packages/nltk/corpus/reader/conll.py?line=206'>207</a>\u001b[0m     \u001b[39mreturn\u001b[39;00m concat(\n\u001b[1;32m    <a href='file:///home/mayara/.local/lib/python3.8/site-packages/nltk/corpus/reader/conll.py?line=207'>208</a>\u001b[0m         [\n\u001b[1;32m    <a href='file:///home/mayara/.local/lib/python3.8/site-packages/nltk/corpus/reader/conll.py?line=208'>209</a>\u001b[0m             StreamBackedCorpusView(fileid, \u001b[39mself\u001b[39;49m\u001b[39m.\u001b[39;49m_read_grid_block, encoding\u001b[39m=\u001b[39;49menc)\n\u001b[1;32m    <a href='file:///home/mayara/.local/lib/python3.8/site-packages/nltk/corpus/reader/conll.py?line=209'>210</a>\u001b[0m             \u001b[39mfor\u001b[39;49;00m (fileid, enc) \u001b[39min\u001b[39;49;00m \u001b[39mself\u001b[39;49m\u001b[39m.\u001b[39;49mabspaths(fileids, \u001b[39mTrue\u001b[39;49;00m)\n\u001b[1;32m    <a href='file:///home/mayara/.local/lib/python3.8/site-packages/nltk/corpus/reader/conll.py?line=210'>211</a>\u001b[0m         ]\n\u001b[1;32m    <a href='file:///home/mayara/.local/lib/python3.8/site-packages/nltk/corpus/reader/conll.py?line=211'>212</a>\u001b[0m     )\n",
      "File \u001b[0;32m~/.local/lib/python3.8/site-packages/nltk/corpus/reader/util.py:444\u001b[0m, in \u001b[0;36mconcat\u001b[0;34m(docs)\u001b[0m\n\u001b[1;32m    <a href='file:///home/mayara/.local/lib/python3.8/site-packages/nltk/corpus/reader/util.py?line=441'>442</a>\u001b[0m     \u001b[39mreturn\u001b[39;00m docs[\u001b[39m0\u001b[39m]\n\u001b[1;32m    <a href='file:///home/mayara/.local/lib/python3.8/site-packages/nltk/corpus/reader/util.py?line=442'>443</a>\u001b[0m \u001b[39mif\u001b[39;00m \u001b[39mlen\u001b[39m(docs) \u001b[39m==\u001b[39m \u001b[39m0\u001b[39m:\n\u001b[0;32m--> <a href='file:///home/mayara/.local/lib/python3.8/site-packages/nltk/corpus/reader/util.py?line=443'>444</a>\u001b[0m     \u001b[39mraise\u001b[39;00m \u001b[39mValueError\u001b[39;00m(\u001b[39m\"\u001b[39m\u001b[39mconcat() expects at least one object!\u001b[39m\u001b[39m\"\u001b[39m)\n\u001b[1;32m    <a href='file:///home/mayara/.local/lib/python3.8/site-packages/nltk/corpus/reader/util.py?line=445'>446</a>\u001b[0m types \u001b[39m=\u001b[39m {d\u001b[39m.\u001b[39m\u001b[39m__class__\u001b[39m \u001b[39mfor\u001b[39;00m d \u001b[39min\u001b[39;00m docs}\n\u001b[1;32m    <a href='file:///home/mayara/.local/lib/python3.8/site-packages/nltk/corpus/reader/util.py?line=447'>448</a>\u001b[0m \u001b[39m# If they're all strings, use string concatenation.\u001b[39;00m\n",
      "\u001b[0;31mValueError\u001b[0m: concat() expects at least one object!"
     ]
    }
   ],
   "source": [
    "# Loading the libraries\n",
    "from nltk.corpus.reader import ConllChunkCorpusReader\n",
    " \n",
    "# Initializing\n",
    "reader = ConllChunkCorpusReader('.', r'.*\\.iob', ('COMPANY'))\n",
    " \n",
    "reader.chunked_words()\n",
    " \n",
    "reader.iob_words()"
   ]
  },
  {
   "cell_type": "markdown",
   "metadata": {},
   "source": [
    "Transform None type into string"
   ]
  },
  {
   "cell_type": "code",
   "execution_count": 20,
   "metadata": {},
   "outputs": [],
   "source": [
    "train_corpus.fillna(\"\",inplace=True)\n",
    "test_corpus.fillna(\"\",inplace=True)"
   ]
  },
  {
   "cell_type": "markdown",
   "metadata": {},
   "source": [
    "Transform text column to string upper case"
   ]
  },
  {
   "cell_type": "code",
   "execution_count": 21,
   "metadata": {},
   "outputs": [],
   "source": [
    "train_corpus['text'] = train_corpus['text'].astype(str).str.upper()\n",
    "test_corpus['text'] = test_corpus['text'].astype(str).str.upper()"
   ]
  },
  {
   "cell_type": "code",
   "execution_count": 23,
   "metadata": {},
   "outputs": [
    {
     "data": {
      "text/plain": [
       "0    NOEONF UNIHAKKA INTERNATIONAL SDN BHD 07 JUN 2...\n",
       "1      PASARAYA BORONG PINTAR SDN BHD BR NO.: (1245...\n",
       "2    / SUPER SEVEN CASH & TH. SDN BHD WALE 590 150-...\n",
       "3    ’ TORE : \\O SEMBOYAN TEGAS SDN BHD WE” NO.5 & ...\n",
       "4    A03 (26 CONTENTO (JNO761170-4) 15, JALAN PERHA...\n",
       "Name: text, dtype: object"
      ]
     },
     "execution_count": 23,
     "metadata": {},
     "output_type": "execute_result"
    }
   ],
   "source": [
    "test_corpus['text'].head()"
   ]
  },
  {
   "cell_type": "markdown",
   "metadata": {},
   "source": [
    "## Add data to .txt file"
   ]
  },
  {
   "cell_type": "code",
   "execution_count": 61,
   "metadata": {},
   "outputs": [
    {
     "data": {
      "text/html": [
       "<div>\n",
       "<style scoped>\n",
       "    .dataframe tbody tr th:only-of-type {\n",
       "        vertical-align: middle;\n",
       "    }\n",
       "\n",
       "    .dataframe tbody tr th {\n",
       "        vertical-align: top;\n",
       "    }\n",
       "\n",
       "    .dataframe thead th {\n",
       "        text-align: right;\n",
       "    }\n",
       "</style>\n",
       "<table border=\"1\" class=\"dataframe\">\n",
       "  <thead>\n",
       "    <tr style=\"text-align: right;\">\n",
       "      <th></th>\n",
       "      <th>id</th>\n",
       "      <th>text</th>\n",
       "      <th>company</th>\n",
       "      <th>date</th>\n",
       "      <th>address</th>\n",
       "      <th>total</th>\n",
       "    </tr>\n",
       "  </thead>\n",
       "  <tbody>\n",
       "    <tr>\n",
       "      <th>0</th>\n",
       "      <td>X51007846290</td>\n",
       "      <td>NOEONF UNIHAKKA INTERNATIONAL SDN BHD 07 JUN 2...</td>\n",
       "      <td>UNIHAKKA INTERNATIONAL SDN BHD</td>\n",
       "      <td>20 JUN 2018</td>\n",
       "      <td>12, JALAN TAMPOI 7/4,KAWASAN PERINDUSTRIAN TAM...</td>\n",
       "      <td>RM8.20</td>\n",
       "    </tr>\n",
       "    <tr>\n",
       "      <th>1</th>\n",
       "      <td>X51005447859</td>\n",
       "      <td>PASARAYA BORONG PINTAR SDN BHD BR NO.: (1245...</td>\n",
       "      <td>PASARAYA BORONG PINTAR SDN BHD</td>\n",
       "      <td>20180304</td>\n",
       "      <td>NO 19-G&amp; 19-1&amp; 19-2 JALAN TASIK UTAMA 4, MEDAN...</td>\n",
       "      <td>3.20</td>\n",
       "    </tr>\n",
       "    <tr>\n",
       "      <th>2</th>\n",
       "      <td>X51005746203</td>\n",
       "      <td>/ SUPER SEVEN CASH &amp; TH. SDN BHD WALE 590 150-...</td>\n",
       "      <td>SUPER SEVEN CASH &amp; CARRY SDN BHD</td>\n",
       "      <td>24-03-18</td>\n",
       "      <td>NO. 1 JALAN EURO 1 OFF JALAN BATU TIGA SUNGAI ...</td>\n",
       "      <td>RM367.10</td>\n",
       "    </tr>\n",
       "    <tr>\n",
       "      <th>3</th>\n",
       "      <td>X51006329183</td>\n",
       "      <td>’ TORE : \\O SEMBOYAN TEGAS SDN BHD WE” NO.5 &amp; ...</td>\n",
       "      <td>GOLDEN KEY MAKER</td>\n",
       "      <td>24-03-18</td>\n",
       "      <td>NO. 53, JALAN BESAR, 45600 BATANG BERJUNTAI SE...</td>\n",
       "      <td>6.00</td>\n",
       "    </tr>\n",
       "    <tr>\n",
       "      <th>4</th>\n",
       "      <td>X51005442388</td>\n",
       "      <td>A03 (26 CONTENTO (JNO761170-4) 15, JALAN PERHA...</td>\n",
       "      <td>MR. D.I.Y. (M) SDN BHD</td>\n",
       "      <td>24-03-18</td>\n",
       "      <td>NO. 17-G, JALAN SETIA INDAH (X) U13/X, SETIA A...</td>\n",
       "      <td>28.00</td>\n",
       "    </tr>\n",
       "  </tbody>\n",
       "</table>\n",
       "</div>"
      ],
      "text/plain": [
       "             id                                               text  \\\n",
       "0  X51007846290  NOEONF UNIHAKKA INTERNATIONAL SDN BHD 07 JUN 2...   \n",
       "1  X51005447859    PASARAYA BORONG PINTAR SDN BHD BR NO.: (1245...   \n",
       "2  X51005746203  / SUPER SEVEN CASH & TH. SDN BHD WALE 590 150-...   \n",
       "3  X51006329183  ’ TORE : \\O SEMBOYAN TEGAS SDN BHD WE” NO.5 & ...   \n",
       "4  X51005442388  A03 (26 CONTENTO (JNO761170-4) 15, JALAN PERHA...   \n",
       "\n",
       "                            company         date  \\\n",
       "0    UNIHAKKA INTERNATIONAL SDN BHD  20 JUN 2018   \n",
       "1    PASARAYA BORONG PINTAR SDN BHD     20180304   \n",
       "2  SUPER SEVEN CASH & CARRY SDN BHD     24-03-18   \n",
       "3                  GOLDEN KEY MAKER     24-03-18   \n",
       "4            MR. D.I.Y. (M) SDN BHD     24-03-18   \n",
       "\n",
       "                                             address     total  \n",
       "0  12, JALAN TAMPOI 7/4,KAWASAN PERINDUSTRIAN TAM...    RM8.20  \n",
       "1  NO 19-G& 19-1& 19-2 JALAN TASIK UTAMA 4, MEDAN...      3.20  \n",
       "2  NO. 1 JALAN EURO 1 OFF JALAN BATU TIGA SUNGAI ...  RM367.10  \n",
       "3  NO. 53, JALAN BESAR, 45600 BATANG BERJUNTAI SE...      6.00  \n",
       "4  NO. 17-G, JALAN SETIA INDAH (X) U13/X, SETIA A...     28.00  "
      ]
     },
     "execution_count": 61,
     "metadata": {},
     "output_type": "execute_result"
    }
   ],
   "source": [
    "test_corpus.head()"
   ]
  },
  {
   "cell_type": "code",
   "execution_count": 68,
   "metadata": {},
   "outputs": [],
   "source": [
    "submit_path = '../data/output/model_nlp_dataset_submit'"
   ]
  },
  {
   "cell_type": "code",
   "execution_count": 69,
   "metadata": {},
   "outputs": [],
   "source": [
    "# Create the directory for results\n",
    "os.mkdir(path=submit_path)"
   ]
  },
  {
   "cell_type": "code",
   "execution_count": 70,
   "metadata": {},
   "outputs": [],
   "source": [
    "for id, row in test_corpus.iterrows():\n",
    "    data = {}\n",
    "    data['company'] = row.company\n",
    "    data['address'] = row.address\n",
    "    data['total'] = row.total\n",
    "    data['date'] = row.date\n",
    "    \n",
    "    add_to_file(data, submit_path, row.id+'.jpg')"
   ]
  },
  {
   "cell_type": "markdown",
   "metadata": {},
   "source": [
    "Calculated!{\"recall\": 0.335014409221902, \"precision\": 0.335014409221902, \"hmean\": 0.335014409221902}%"
   ]
  }
 ],
 "metadata": {
  "interpreter": {
   "hash": "caa4bbe527f7a912f4a10eb6bbe64cddace70ebbc4ec98f36babfdb32403ce09"
  },
  "kernelspec": {
   "display_name": "Python 3.8.10 ('.venv': poetry)",
   "language": "python",
   "name": "python3"
  },
  "language_info": {
   "codemirror_mode": {
    "name": "ipython",
    "version": 3
   },
   "file_extension": ".py",
   "mimetype": "text/x-python",
   "name": "python",
   "nbconvert_exporter": "python",
   "pygments_lexer": "ipython3",
   "version": "3.8.10"
  },
  "orig_nbformat": 4
 },
 "nbformat": 4,
 "nbformat_minor": 2
}
