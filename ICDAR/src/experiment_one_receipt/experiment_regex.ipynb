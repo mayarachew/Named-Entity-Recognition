{
 "cells": [
  {
   "cell_type": "markdown",
   "metadata": {},
   "source": [
    "# Experimento com uma nota fiscal"
   ]
  },
  {
   "cell_type": "markdown",
   "metadata": {},
   "source": [
    "Este arquivo tem o objetivo de testar um modelo para extrair informações de uma Nota Fiscal e armazenar em um arquivo '.txt'."
   ]
  },
  {
   "cell_type": "markdown",
   "metadata": {},
   "source": [
    "## Importação"
   ]
  },
  {
   "cell_type": "code",
   "execution_count": 14,
   "metadata": {},
   "outputs": [],
   "source": [
    "import pytesseract\n",
    "import cv2\n",
    "import re\n",
    "import json\n",
    "\n",
    "from functions.image_preprocessing import image_preprocessing"
   ]
  },
  {
   "cell_type": "markdown",
   "metadata": {},
   "source": [
    "## Leitura de imagens"
   ]
  },
  {
   "cell_type": "code",
   "execution_count": 2,
   "metadata": {},
   "outputs": [],
   "source": [
    "image_original = cv2.imread('../../data/input/receipt.jpg', cv2.IMREAD_GRAYSCALE)"
   ]
  },
  {
   "cell_type": "markdown",
   "metadata": {},
   "source": [
    "## Pré-processamento"
   ]
  },
  {
   "cell_type": "code",
   "execution_count": 3,
   "metadata": {},
   "outputs": [],
   "source": [
    "image_preprocessed = image_preprocessing(image_original)"
   ]
  },
  {
   "cell_type": "markdown",
   "metadata": {},
   "source": [
    "## Extração de dados"
   ]
  },
  {
   "cell_type": "code",
   "execution_count": 4,
   "metadata": {},
   "outputs": [
    {
     "name": "stdout",
     "output_type": "stream",
     "text": [
      " \n",
      "\n",
      "HO 6088\n",
      "\n",
      "OLD TOWN WHITE COFFE\n",
      "EXQUISITE GARDEN SBN BHD\n",
      "(JM 809642-A)\n",
      "LOT NO R134,GIANT HYPERMARKET PLENTONG\n",
      "NOS, JALAN MASAI LAMA )\n",
      "81750 MASAI. JOHOR BAHRU\n",
      "TEL : +607-3536960\n",
      "OUTLET: JT] GIANT PLENTONG\n",
      "\n",
      "    \n",
      "\n",
      "5\n",
      "ANSE FCR —— BE IGS 9 WT > 7 — 24G\n",
      ": DRE OE YA GE 4 PLA X AES |\n",
      "PEAS % AB I JAYE E YESPAE\n",
      "\n",
      "SGN\n",
      "\n",
      "  \n",
      "    \n",
      "\n",
      "  \n",
      " \n",
      "\n",
      "A\n",
      "\n",
      "SST 1D:000750002176\n",
      "\n",
      " \n",
      "\n",
      "2 COUNTERI 4004 ANICA\n",
      "\n",
      "FIN EMT NE AH SENI. PIAN FETE SITE A OAHE BY MD MEM MH EINE MTS HEY TE TN DH DAE ERENT TINE MEH EMT ATA LETPET + TOT NN WEND MME OE WIRE EMT INKS TWEET EW REM DEME, ETN\n",
      "\n",
      "CHECK :21063 COVER: |\n",
      "| 03 JUN 18 03:07:32 PH\n",
      "\n",
      "TABLE:63 / 1\n",
      "\n",
      "| --O7-. DINE IN -----\n",
      "1  SN2 SOUP PAN MEE 10.90 $\n",
      "1 STEG | 12.97 §\n",
      "I SNB SP NOD SPECIAL S\n",
      "| WOT (C) WO S\n",
      "} VAS FRENCH FRIES BKT 4.15 §\n",
      "TOTAL: £8.02\n",
      "ROUNDING: 0.02-\n",
      "TOTAL: 28.00\n",
      "SUBTOTAL : 25.47\n",
      "10% SRV CHG: 2.55\n",
      "GST INCLUSIVE 0.00 *\n",
      "TOTAL: 28.02\n",
      "ROUNDING: 0.02-\n",
      "JOTAL: 28.00\n",
      "PAID: 100.00\n",
      "CASH 100.00\n",
      "CHANGE DUE: 72.00\n",
      "\n",
      "~---A003 CLOSED 03 JUN 18 03:34:54 PK--—\n",
      "\n",
      "THANK YQU\n",
      "PLEASE COME AGAIN\n",
      "GST @O% INCLUDED IN TOTAL\n",
      "\n",
      "GSTSUMMARY AMOUNTCRM) GSTCRM)\n",
      "S=GST @0%: 28.02 0.00\n",
      "Z=GST @0%: 0.00 0.00\n",
      "\f\n"
     ]
    }
   ],
   "source": [
    "text = pytesseract.image_to_string(image_preprocessed, lang='eng').upper()\n",
    "print(text)"
   ]
  },
  {
   "cell_type": "code",
   "execution_count": 5,
   "metadata": {},
   "outputs": [
    {
     "name": "stdout",
     "output_type": "stream",
     "text": [
      "company: EXQUISITE GARDEN SBN BHD\n",
      "address: \n",
      "LOT NO R134,GIANT HYPERMARKET PLENTONG\n",
      "NOS, JALAN MASAI LAMA )\n",
      "81750 MASAI. JOHOR BAHRU\n",
      "\n",
      "total: \n",
      "date: | 03 JUN 18 03:07:32 PH\n"
     ]
    }
   ],
   "source": [
    "company = \"\"\n",
    "address = \"\"\n",
    "total = \"\"\n",
    "date = \"\"\n",
    "\n",
    "for row in text.split('\\n'):\n",
    "  if ('BHD' in row or 'RESTAURANT' in row or 'HARDWARE' in row or 'ENTERPRISE' in row or 'RESTORAN' in row or 'S/B' in row or 'PHARMACY' in row) and not company:\n",
    "    company = row\n",
    "\n",
    "  numerical_row = re.search('[\\d][,|.]', row)\n",
    "  if ('TOTAL' in row or 'RM' in row or 'DUE' in row or 'BUE' in row) and numerical_row and not total:\n",
    "    total = row\n",
    "\n",
    "  time_row = re.search('[\\d][\\d][\\/|-][\\w][\\w][\\w]*[\\/|-][\\d]*', row)\n",
    "  if time_row:\n",
    "      date = row\n",
    "\n",
    "  time_row = re.search('[D][A|U][T][E]', row)\n",
    "  if time_row and not date:\n",
    "      date = row\n",
    "\n",
    "  time_row = re.search('[\\d][\\d]\\:[\\d][\\d]', row)\n",
    "  if time_row and not date:\n",
    "      date = row\n",
    "\n",
    "if not company:\n",
    "  company = text.strip().split('\\n')[0]\n",
    "\n",
    "end_address_string = 'TEL' if 'TEL' in text else 'TAX'\n",
    "if end_address_string in text:\n",
    "  if ')' in text:\n",
    "    address = text[text.index(')')+len(')'):text.index(end_address_string)]\n",
    "  if address == '' and company:\n",
    "    address = text[text.index(company)+len(company):text.index(end_address_string)]\n",
    "else:\n",
    "  address = ''\n",
    "\n",
    "if total:\n",
    "  regex = re.search('[RM]*[ ]*[\\\\w]*([\\\\.|\\\\,]\\\\d\\\\d)', total)\n",
    "  total = \"\" if regex is None else regex[0]\n",
    "else:\n",
    "  total = \"\"\n",
    "\n",
    "print('company:', company)\n",
    "print('address:', address)\n",
    "print(\"total:\", total)\n",
    "print(\"date:\", date)"
   ]
  },
  {
   "cell_type": "markdown",
   "metadata": {},
   "source": [
    "## Transformação de dados"
   ]
  },
  {
   "cell_type": "code",
   "execution_count": 6,
   "metadata": {},
   "outputs": [],
   "source": [
    "def define_data_values(key, value):\n",
    "  data_value = value.strip()\n",
    "    \n",
    "  if value:      \n",
    "    if key == 'date':\n",
    "      data_value = re.sub('[\\d.]*[:][\\d]*', '', data_value)\n",
    "      data_value = re.sub('[Dd][Aa][Tt][Ee][:]*', '', data_value)\n",
    "      if '/' in data_value or '-' in data_value:\n",
    "        data_value = re.findall(\"[\\d]*[\\/-][\\d]*[\\/-]*[\\d]*\", data_value)[0]\n",
    "    data_value = data_value.replace('PM', '').replace('AM', '').replace('\\n',' ').strip()\n",
    "    if key == 'total':\n",
    "      data_value = data_value.replace(',', '.').replace(' ', '')\n",
    "\n",
    "  return data_value"
   ]
  },
  {
   "cell_type": "code",
   "execution_count": 7,
   "metadata": {},
   "outputs": [
    {
     "name": "stdout",
     "output_type": "stream",
     "text": [
      "{\"company\": \"EXQUISITE GARDEN SBN BHD\", \"date\": \"| 03 JUN 18  PH\", \"address\": \"LOT NO R134,GIANT HYPERMARKET PLENTONG NOS, JALAN MASAI LA ) 81750 MASAI. JOHOR BAHRU\", \"total\": \"\"}\n"
     ]
    }
   ],
   "source": [
    "data = {}\n",
    "\n",
    "data['company'] = define_data_values('company', company)\n",
    "data['date'] = define_data_values('date', date)\n",
    "data['address'] = define_data_values('address', address)\n",
    "data['total'] = define_data_values('total', total)\n",
    "\n",
    "output = json.dumps(data)\n",
    "print(output)"
   ]
  },
  {
   "cell_type": "markdown",
   "metadata": {},
   "source": [
    "## Armazenamento de dados"
   ]
  },
  {
   "cell_type": "code",
   "execution_count": 12,
   "metadata": {},
   "outputs": [],
   "source": [
    "output_file = open('../../data/output/'+'receipt_extracted_regex.txt',\"w+\")\n",
    "output_file.write(output)\n",
    "output_file.close()"
   ]
  }
 ],
 "metadata": {
  "interpreter": {
   "hash": "916dbcbb3f70747c44a77c7bcd40155683ae19c65e1c03b4aa3499c5328201f1"
  },
  "kernelspec": {
   "display_name": "Python 3.8.10 64-bit",
   "language": "python",
   "name": "python3"
  },
  "language_info": {
   "codemirror_mode": {
    "name": "ipython",
    "version": 3
   },
   "file_extension": ".py",
   "mimetype": "text/x-python",
   "name": "python",
   "nbconvert_exporter": "python",
   "pygments_lexer": "ipython3",
   "version": "3.8.10"
  },
  "orig_nbformat": 4
 },
 "nbformat": 4,
 "nbformat_minor": 2
}
