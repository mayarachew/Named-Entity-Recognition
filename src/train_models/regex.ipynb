{
 "cells": [
  {
   "cell_type": "code",
   "execution_count": 1,
   "metadata": {},
   "outputs": [],
   "source": [
    "import pytesseract\n",
    "import cv2\n",
    "import os\n",
    "import ntpath\n",
    "\n",
    "from functions.image_preprocessing import image_preprocessing \n",
    "from functions.fields_extract import fields_extract \n",
    "from functions.fields_adapt import fields_adapt \n",
    "from functions.add_to_file import add_to_file \n",
    "from functions.apply_bert import apply_bert "
   ]
  },
  {
   "cell_type": "code",
   "execution_count": 2,
   "metadata": {},
   "outputs": [
    {
     "name": "stdout",
     "output_type": "stream",
     "text": [
      "Archive:  ../data/input/SROIE_test_images_task_3.zip\n",
      "replace ../data/input/SROIE_test_images_task_3/X00016469670.jpg? [y]es, [n]o, [A]ll, [N]one, [r]ename: ^C\n"
     ]
    }
   ],
   "source": [
    "# Unzip input dataset\n",
    "!unzip '../data/input/SROIE_test_images_task_3.zip' -d '../data/input/SROIE_test_images_task_3'"
   ]
  },
  {
   "cell_type": "markdown",
   "metadata": {},
   "source": [
    "### Extract informations to a submit folder\n",
    "- Image not preprocessed"
   ]
  },
  {
   "cell_type": "code",
   "execution_count": 4,
   "metadata": {},
   "outputs": [],
   "source": [
    "dataset_path = '../data/input/SROIE_test_images_task_3'\n",
    "submit_path = '../data/output/not_preprocessed_dataset_submit'\n",
    "\n",
    "# Create the directory for results\n",
    "os.mkdir(path=submit_path)\n",
    "\n",
    "for filename in os.listdir(dataset_path):\n",
    "    file_path = os.path.join(dataset_path, filename)\n",
    "    if os.path.isfile(file_path):\n",
    "      # Read image\n",
    "      image = cv2.imread(file_path, cv2.IMREAD_GRAYSCALE)\n",
    "\n",
    "      # Get text from image\n",
    "      text = pytesseract.image_to_string(image, lang='eng')\n",
    "\n",
    "      # Extract fields from text\n",
    "      company, address, total, date = fields_extract(text)\n",
    "\n",
    "      # Adapt fields to output\n",
    "      data = fields_adapt(company, address, total, date)\n",
    "      \n",
    "      # Add data to .txt file in the result folder\n",
    "      add_to_file(data, submit_path, ntpath.basename(file_path))\n"
   ]
  },
  {
   "cell_type": "markdown",
   "metadata": {},
   "source": [
    "date CASHIER USER TIME X51005724626"
   ]
  },
  {
   "cell_type": "markdown",
   "metadata": {},
   "source": [
    "Result: \n",
    "\n",
    "Calculated!{\"recall\": 0.2730547550432277, \"precision\": 0.2730547550432277, \"hmean\": 0.2730547550432277}%  "
   ]
  },
  {
   "cell_type": "markdown",
   "metadata": {},
   "source": [
    "- Image preprocessed"
   ]
  },
  {
   "cell_type": "code",
   "execution_count": 2,
   "metadata": {},
   "outputs": [],
   "source": [
    "dataset_path = '../data/input/SROIE_test_images_task_3'\n",
    "submit_path = '../data/output/preprocessed_dataset_submit'\n",
    "\n",
    "# Create the directory for results\n",
    "os.mkdir(path=submit_path)\n",
    "\n",
    "for filename in os.listdir(dataset_path):\n",
    "    file_path = os.path.join(dataset_path, filename)\n",
    "    if os.path.isfile(file_path):\n",
    "      # Read image\n",
    "      image = cv2.imread(file_path, cv2.IMREAD_GRAYSCALE)\n",
    "\n",
    "      # Preprocess image\n",
    "      preprocessed_image = image_preprocessing(image)\n",
    "\n",
    "      # Get text from image\n",
    "      text = pytesseract.image_to_string(preprocessed_image, lang='eng')\n",
    "\n",
    "      # Extract fields from text\n",
    "      company, address, total, date = fields_extract(text)\n",
    "\n",
    "      # Adapt fields to output\n",
    "      data = fields_adapt(company, address, total, date)\n",
    "      \n",
    "      # Add data to .txt file in the result folder\n",
    "      add_to_file(data, submit_path, ntpath.basename(file_path))\n"
   ]
  },
  {
   "cell_type": "markdown",
   "metadata": {},
   "source": [
    "Result: \n",
    "\n",
    "Calculated!{\"recall\": 0.25936599423631124, \"precision\": 0.25936599423631124, \"hmean\": 0.25936599423631124}%   "
   ]
  }
 ],
 "metadata": {
  "interpreter": {
   "hash": "caa4bbe527f7a912f4a10eb6bbe64cddace70ebbc4ec98f36babfdb32403ce09"
  },
  "kernelspec": {
   "display_name": "Python 3.8.10 ('.venv': poetry)",
   "language": "python",
   "name": "python3"
  },
  "language_info": {
   "codemirror_mode": {
    "name": "ipython",
    "version": 3
   },
   "file_extension": ".py",
   "mimetype": "text/x-python",
   "name": "python",
   "nbconvert_exporter": "python",
   "pygments_lexer": "ipython3",
   "version": "3.8.10"
  },
  "orig_nbformat": 4
 },
 "nbformat": 4,
 "nbformat_minor": 2
}
