{
 "cells": [
  {
   "cell_type": "code",
   "execution_count": 1,
   "metadata": {},
   "outputs": [
    {
     "name": "stderr",
     "output_type": "stream",
     "text": [
      "2022-08-18 00:57:59.124793: W tensorflow/stream_executor/platform/default/dso_loader.cc:64] Could not load dynamic library 'libcudart.so.11.0'; dlerror: libcudart.so.11.0: cannot open shared object file: No such file or directory\n",
      "2022-08-18 00:57:59.124846: I tensorflow/stream_executor/cuda/cudart_stub.cc:29] Ignore above cudart dlerror if you do not have a GPU set up on your machine.\n"
     ]
    }
   ],
   "source": [
    "import pandas as pd\n",
    "import numpy as np\n",
    "import sys\n",
    "sys.path.append('..')\n",
    "\n",
    "from functions.split_dataset import split_dataset, prepare_to_eval\n",
    "from functions.create_model import create_model_bilstmcrf\n",
    "\n",
    "import matplotlib.pyplot as plt\n",
    "\n",
    "from tensorflow.keras.preprocessing.text import Tokenizer\n",
    "\n",
    "from tensorflow.keras.callbacks import EarlyStopping\n",
    "from tensorflow.keras.optimizers import Adam\n",
    "from seqeval.metrics import f1_score, classification_report, accuracy_score\n",
    "from keras import backend as K\n",
    "from tensorflow.keras.preprocessing.sequence import pad_sequences\n",
    "from tensorflow.keras.utils import to_categorical\n",
    "\n",
    "from tensorflow_addons.losses import SigmoidFocalCrossEntropy"
   ]
  },
  {
   "cell_type": "code",
   "execution_count": 2,
   "metadata": {},
   "outputs": [
    {
     "name": "stderr",
     "output_type": "stream",
     "text": [
      "2022-08-18 00:58:10.788268: I tensorflow/core/platform/cpu_feature_guard.cc:193] This TensorFlow binary is optimized with oneAPI Deep Neural Network Library (oneDNN) to use the following CPU instructions in performance-critical operations:  AVX2 FMA\n",
      "To enable them in other operations, rebuild TensorFlow with the appropriate compiler flags.\n",
      "2022-08-18 00:58:11.409183: E tensorflow/stream_executor/cuda/cuda_driver.cc:271] failed call to cuInit: CUDA_ERROR_NO_DEVICE: no CUDA-capable device is detected\n",
      "2022-08-18 00:58:11.409525: I tensorflow/stream_executor/cuda/cuda_diagnostics.cc:156] kernel driver does not appear to be running on this host (meilux): /proc/driver/nvidia/version does not exist\n"
     ]
    },
    {
     "name": "stdout",
     "output_type": "stream",
     "text": [
      "WARNING:tensorflow:From /tmp/ipykernel_69069/741246941.py:24: The name tf.keras.backend.set_session is deprecated. Please use tf.compat.v1.keras.backend.set_session instead.\n",
      "\n"
     ]
    }
   ],
   "source": [
    "seed_value = 42\n",
    "\n",
    "# 1. Set the `PYTHONHASHSEED` environment variable at a fixed value\n",
    "import os\n",
    "os.environ['PYTHONHASHSEED']=str(seed_value)\n",
    "\n",
    "# 2. Set the `python` built-in pseudo-random generator at a fixed value\n",
    "import random\n",
    "random.seed(seed_value)\n",
    "\n",
    "# 3. Set the `numpy` pseudo-random generator at a fixed value\n",
    "import numpy as np\n",
    "np.random.seed(seed_value)\n",
    "\n",
    "# 4. Set the `tensorflow` pseudo-random generator at a fixed value\n",
    "import tensorflow as tf\n",
    "tf.random.set_seed(seed_value)\n",
    "# for later versions: \n",
    "# tf.compat.v1.set_random_seed(seed_value)\n",
    "\n",
    "# 5. Configure a new global `tensorflow` session\n",
    "session_conf = tf.compat.v1.ConfigProto(intra_op_parallelism_threads=1, inter_op_parallelism_threads=1)\n",
    "sess = tf.compat.v1.Session(graph=tf.compat.v1.get_default_graph(), config=session_conf)\n",
    "tf.compat.v1.keras.backend.set_session(sess)"
   ]
  },
  {
   "cell_type": "code",
   "execution_count": 3,
   "metadata": {},
   "outputs": [
    {
     "data": {
      "text/html": [
       "<div>\n",
       "<style scoped>\n",
       "    .dataframe tbody tr th:only-of-type {\n",
       "        vertical-align: middle;\n",
       "    }\n",
       "\n",
       "    .dataframe tbody tr th {\n",
       "        vertical-align: top;\n",
       "    }\n",
       "\n",
       "    .dataframe thead th {\n",
       "        text-align: right;\n",
       "    }\n",
       "</style>\n",
       "<table border=\"1\" class=\"dataframe\">\n",
       "  <thead>\n",
       "    <tr style=\"text-align: right;\">\n",
       "      <th></th>\n",
       "      <th>Tag</th>\n",
       "      <th>Text</th>\n",
       "    </tr>\n",
       "  </thead>\n",
       "  <tbody>\n",
       "    <tr>\n",
       "      <th>0</th>\n",
       "      <td>B-Rating</td>\n",
       "      <td>2</td>\n",
       "    </tr>\n",
       "    <tr>\n",
       "      <th>1</th>\n",
       "      <td>I-Rating</td>\n",
       "      <td>start</td>\n",
       "    </tr>\n",
       "    <tr>\n",
       "      <th>2</th>\n",
       "      <td>O</td>\n",
       "      <td>restaurants</td>\n",
       "    </tr>\n",
       "    <tr>\n",
       "      <th>3</th>\n",
       "      <td>O</td>\n",
       "      <td>with</td>\n",
       "    </tr>\n",
       "    <tr>\n",
       "      <th>4</th>\n",
       "      <td>B-Amenity</td>\n",
       "      <td>inside</td>\n",
       "    </tr>\n",
       "    <tr>\n",
       "      <th>5</th>\n",
       "      <td>I-Amenity</td>\n",
       "      <td>dining</td>\n",
       "    </tr>\n",
       "    <tr>\n",
       "      <th>6</th>\n",
       "      <td>NaN</td>\n",
       "      <td>NaN</td>\n",
       "    </tr>\n",
       "    <tr>\n",
       "      <th>7</th>\n",
       "      <td>O</td>\n",
       "      <td>34</td>\n",
       "    </tr>\n",
       "    <tr>\n",
       "      <th>8</th>\n",
       "      <td>NaN</td>\n",
       "      <td>NaN</td>\n",
       "    </tr>\n",
       "    <tr>\n",
       "      <th>9</th>\n",
       "      <td>B-Rating</td>\n",
       "      <td>5</td>\n",
       "    </tr>\n",
       "    <tr>\n",
       "      <th>10</th>\n",
       "      <td>I-Rating</td>\n",
       "      <td>star</td>\n",
       "    </tr>\n",
       "    <tr>\n",
       "      <th>11</th>\n",
       "      <td>O</td>\n",
       "      <td>resturants</td>\n",
       "    </tr>\n",
       "    <tr>\n",
       "      <th>12</th>\n",
       "      <td>B-Location</td>\n",
       "      <td>in</td>\n",
       "    </tr>\n",
       "    <tr>\n",
       "      <th>13</th>\n",
       "      <td>I-Location</td>\n",
       "      <td>my</td>\n",
       "    </tr>\n",
       "    <tr>\n",
       "      <th>14</th>\n",
       "      <td>I-Location</td>\n",
       "      <td>town</td>\n",
       "    </tr>\n",
       "    <tr>\n",
       "      <th>15</th>\n",
       "      <td>NaN</td>\n",
       "      <td>NaN</td>\n",
       "    </tr>\n",
       "    <tr>\n",
       "      <th>16</th>\n",
       "      <td>O</td>\n",
       "      <td>98</td>\n",
       "    </tr>\n",
       "    <tr>\n",
       "      <th>17</th>\n",
       "      <td>B-Restaurant_Name</td>\n",
       "      <td>hong</td>\n",
       "    </tr>\n",
       "    <tr>\n",
       "      <th>18</th>\n",
       "      <td>I-Restaurant_Name</td>\n",
       "      <td>kong</td>\n",
       "    </tr>\n",
       "    <tr>\n",
       "      <th>19</th>\n",
       "      <td>O</td>\n",
       "      <td>restaurant</td>\n",
       "    </tr>\n",
       "  </tbody>\n",
       "</table>\n",
       "</div>"
      ],
      "text/plain": [
       "                  Tag         Text\n",
       "0            B-Rating            2\n",
       "1            I-Rating        start\n",
       "2                   O  restaurants\n",
       "3                   O         with\n",
       "4           B-Amenity       inside\n",
       "5           I-Amenity       dining\n",
       "6                 NaN          NaN\n",
       "7                   O           34\n",
       "8                 NaN          NaN\n",
       "9            B-Rating            5\n",
       "10           I-Rating         star\n",
       "11                  O   resturants\n",
       "12         B-Location           in\n",
       "13         I-Location           my\n",
       "14         I-Location         town\n",
       "15                NaN          NaN\n",
       "16                  O           98\n",
       "17  B-Restaurant_Name         hong\n",
       "18  I-Restaurant_Name         kong\n",
       "19                  O   restaurant"
      ]
     },
     "execution_count": 3,
     "metadata": {},
     "output_type": "execute_result"
    }
   ],
   "source": [
    "dataset_path = '../../data/restauranttrain.bio.csv'\n",
    "\n",
    "df = pd.read_csv(dataset_path, sep=\"\\t\", skip_blank_lines=False)\n",
    "df[:20]"
   ]
  },
  {
   "cell_type": "code",
   "execution_count": 4,
   "metadata": {},
   "outputs": [
    {
     "data": {
      "text/html": [
       "<div>\n",
       "<style scoped>\n",
       "    .dataframe tbody tr th:only-of-type {\n",
       "        vertical-align: middle;\n",
       "    }\n",
       "\n",
       "    .dataframe tbody tr th {\n",
       "        vertical-align: top;\n",
       "    }\n",
       "\n",
       "    .dataframe thead th {\n",
       "        text-align: right;\n",
       "    }\n",
       "</style>\n",
       "<table border=\"1\" class=\"dataframe\">\n",
       "  <thead>\n",
       "    <tr style=\"text-align: right;\">\n",
       "      <th></th>\n",
       "      <th>Tag</th>\n",
       "      <th>Text</th>\n",
       "      <th>id</th>\n",
       "    </tr>\n",
       "  </thead>\n",
       "  <tbody>\n",
       "    <tr>\n",
       "      <th>0</th>\n",
       "      <td>B-Rating</td>\n",
       "      <td>2</td>\n",
       "      <td>0</td>\n",
       "    </tr>\n",
       "    <tr>\n",
       "      <th>1</th>\n",
       "      <td>I-Rating</td>\n",
       "      <td>start</td>\n",
       "      <td>0</td>\n",
       "    </tr>\n",
       "    <tr>\n",
       "      <th>2</th>\n",
       "      <td>O</td>\n",
       "      <td>restaurants</td>\n",
       "      <td>0</td>\n",
       "    </tr>\n",
       "    <tr>\n",
       "      <th>3</th>\n",
       "      <td>O</td>\n",
       "      <td>with</td>\n",
       "      <td>0</td>\n",
       "    </tr>\n",
       "    <tr>\n",
       "      <th>4</th>\n",
       "      <td>B-Amenity</td>\n",
       "      <td>inside</td>\n",
       "      <td>0</td>\n",
       "    </tr>\n",
       "    <tr>\n",
       "      <th>5</th>\n",
       "      <td>I-Amenity</td>\n",
       "      <td>dining</td>\n",
       "      <td>0</td>\n",
       "    </tr>\n",
       "    <tr>\n",
       "      <th>7</th>\n",
       "      <td>O</td>\n",
       "      <td>34</td>\n",
       "      <td>1</td>\n",
       "    </tr>\n",
       "    <tr>\n",
       "      <th>9</th>\n",
       "      <td>B-Rating</td>\n",
       "      <td>5</td>\n",
       "      <td>2</td>\n",
       "    </tr>\n",
       "    <tr>\n",
       "      <th>10</th>\n",
       "      <td>I-Rating</td>\n",
       "      <td>star</td>\n",
       "      <td>2</td>\n",
       "    </tr>\n",
       "    <tr>\n",
       "      <th>11</th>\n",
       "      <td>O</td>\n",
       "      <td>resturants</td>\n",
       "      <td>2</td>\n",
       "    </tr>\n",
       "    <tr>\n",
       "      <th>12</th>\n",
       "      <td>B-Location</td>\n",
       "      <td>in</td>\n",
       "      <td>2</td>\n",
       "    </tr>\n",
       "    <tr>\n",
       "      <th>13</th>\n",
       "      <td>I-Location</td>\n",
       "      <td>my</td>\n",
       "      <td>2</td>\n",
       "    </tr>\n",
       "    <tr>\n",
       "      <th>14</th>\n",
       "      <td>I-Location</td>\n",
       "      <td>town</td>\n",
       "      <td>2</td>\n",
       "    </tr>\n",
       "    <tr>\n",
       "      <th>16</th>\n",
       "      <td>O</td>\n",
       "      <td>98</td>\n",
       "      <td>3</td>\n",
       "    </tr>\n",
       "    <tr>\n",
       "      <th>17</th>\n",
       "      <td>B-Restaurant_Name</td>\n",
       "      <td>hong</td>\n",
       "      <td>3</td>\n",
       "    </tr>\n",
       "    <tr>\n",
       "      <th>18</th>\n",
       "      <td>I-Restaurant_Name</td>\n",
       "      <td>kong</td>\n",
       "      <td>3</td>\n",
       "    </tr>\n",
       "    <tr>\n",
       "      <th>19</th>\n",
       "      <td>O</td>\n",
       "      <td>restaurant</td>\n",
       "      <td>3</td>\n",
       "    </tr>\n",
       "    <tr>\n",
       "      <th>20</th>\n",
       "      <td>B-Price</td>\n",
       "      <td>reasonable</td>\n",
       "      <td>3</td>\n",
       "    </tr>\n",
       "    <tr>\n",
       "      <th>21</th>\n",
       "      <td>O</td>\n",
       "      <td>prices</td>\n",
       "      <td>3</td>\n",
       "    </tr>\n",
       "    <tr>\n",
       "      <th>23</th>\n",
       "      <td>O</td>\n",
       "      <td>a</td>\n",
       "      <td>4</td>\n",
       "    </tr>\n",
       "  </tbody>\n",
       "</table>\n",
       "</div>"
      ],
      "text/plain": [
       "                  Tag         Text  id\n",
       "0            B-Rating            2   0\n",
       "1            I-Rating        start   0\n",
       "2                   O  restaurants   0\n",
       "3                   O         with   0\n",
       "4           B-Amenity       inside   0\n",
       "5           I-Amenity       dining   0\n",
       "7                   O           34   1\n",
       "9            B-Rating            5   2\n",
       "10           I-Rating         star   2\n",
       "11                  O   resturants   2\n",
       "12         B-Location           in   2\n",
       "13         I-Location           my   2\n",
       "14         I-Location         town   2\n",
       "16                  O           98   3\n",
       "17  B-Restaurant_Name         hong   3\n",
       "18  I-Restaurant_Name         kong   3\n",
       "19                  O   restaurant   3\n",
       "20            B-Price   reasonable   3\n",
       "21                  O       prices   3\n",
       "23                  O            a   4"
      ]
     },
     "execution_count": 4,
     "metadata": {},
     "output_type": "execute_result"
    }
   ],
   "source": [
    "id_list = []\n",
    "id = 0\n",
    "\n",
    "def isNaN(string):\n",
    "    return string != string\n",
    "\n",
    "for tag, text in zip(df['Tag'], df['Text']):\n",
    "    if isNaN(tag):\n",
    "        id += 1\n",
    "    id_list.append(id)\n",
    "\n",
    "df['id'] = id_list\n",
    "df = df.dropna()\n",
    "df[:20]"
   ]
  },
  {
   "cell_type": "code",
   "execution_count": 5,
   "metadata": {},
   "outputs": [
    {
     "data": {
      "text/html": [
       "<div>\n",
       "<style scoped>\n",
       "    .dataframe tbody tr th:only-of-type {\n",
       "        vertical-align: middle;\n",
       "    }\n",
       "\n",
       "    .dataframe tbody tr th {\n",
       "        vertical-align: top;\n",
       "    }\n",
       "\n",
       "    .dataframe thead th {\n",
       "        text-align: right;\n",
       "    }\n",
       "</style>\n",
       "<table border=\"1\" class=\"dataframe\">\n",
       "  <thead>\n",
       "    <tr style=\"text-align: right;\">\n",
       "      <th></th>\n",
       "      <th>Tag</th>\n",
       "      <th>Text</th>\n",
       "      <th>id</th>\n",
       "    </tr>\n",
       "  </thead>\n",
       "  <tbody>\n",
       "    <tr>\n",
       "      <th>0</th>\n",
       "      <td>B-Rating</td>\n",
       "      <td>2</td>\n",
       "      <td>0</td>\n",
       "    </tr>\n",
       "    <tr>\n",
       "      <th>1</th>\n",
       "      <td>I-Rating</td>\n",
       "      <td>start</td>\n",
       "      <td>0</td>\n",
       "    </tr>\n",
       "    <tr>\n",
       "      <th>2</th>\n",
       "      <td>O</td>\n",
       "      <td>restaurants</td>\n",
       "      <td>0</td>\n",
       "    </tr>\n",
       "    <tr>\n",
       "      <th>3</th>\n",
       "      <td>O</td>\n",
       "      <td>with</td>\n",
       "      <td>0</td>\n",
       "    </tr>\n",
       "    <tr>\n",
       "      <th>4</th>\n",
       "      <td>B-Amenity</td>\n",
       "      <td>inside</td>\n",
       "      <td>0</td>\n",
       "    </tr>\n",
       "  </tbody>\n",
       "</table>\n",
       "</div>"
      ],
      "text/plain": [
       "         Tag         Text  id\n",
       "0   B-Rating            2   0\n",
       "1   I-Rating        start   0\n",
       "2          O  restaurants   0\n",
       "3          O         with   0\n",
       "4  B-Amenity       inside   0"
      ]
     },
     "execution_count": 5,
     "metadata": {},
     "output_type": "execute_result"
    }
   ],
   "source": [
    "df.head()"
   ]
  },
  {
   "cell_type": "code",
   "execution_count": 6,
   "metadata": {},
   "outputs": [
    {
     "data": {
      "text/plain": [
       "0                  2\n",
       "1              start\n",
       "2        restaurants\n",
       "3               with\n",
       "4             inside\n",
       "            ...     \n",
       "78179            you\n",
       "78180           look\n",
       "78181            for\n",
       "78182              a\n",
       "78183     restaurant\n",
       "Name: Text, Length: 70525, dtype: object"
      ]
     },
     "execution_count": 6,
     "metadata": {},
     "output_type": "execute_result"
    }
   ],
   "source": [
    "df['Text'].astype(str)"
   ]
  },
  {
   "cell_type": "code",
   "execution_count": 7,
   "metadata": {},
   "outputs": [
    {
     "name": "stdout",
     "output_type": "stream",
     "text": [
      "Quantidade de documentos: 7660\n",
      "Number of unique words: 3804\n",
      "Quantidade de tags: 17\n"
     ]
    }
   ],
   "source": [
    "all_documents = list(set(df[\"id\"].values))\n",
    "num_documents = len(all_documents)\n",
    "\n",
    "all_tags = list(set(df[\"Tag\"].values))\n",
    "NUM_TAGS = len(all_tags)\n",
    "\n",
    "all_words = list(set(df[\"Text\"].values))\n",
    "VOCAB_SIZE = len(all_words)\n",
    "\n",
    "print(f'Quantidade de documentos: {num_documents}')\n",
    "print(f'Number of unique words: {VOCAB_SIZE}')\n",
    "print(f'Quantidade de tags: {NUM_TAGS}')"
   ]
  },
  {
   "cell_type": "code",
   "execution_count": 8,
   "metadata": {},
   "outputs": [
    {
     "data": {
      "text/plain": [
       "<AxesSubplot:>"
      ]
     },
     "execution_count": 8,
     "metadata": {},
     "output_type": "execute_result"
    },
    {
     "data": {
      "image/png": "[encoded data removed]",
      "text/plain": [
       "<Figure size 720x360 with 1 Axes>"
      ]
     },
     "metadata": {
      "needs_background": "light"
     },
     "output_type": "display_data"
    }
   ],
   "source": [
    "df[df[\"Tag\"]!=\"O\"][\"Tag\"].value_counts().plot(kind=\"bar\", figsize=(10,5))"
   ]
  },
  {
   "cell_type": "code",
   "execution_count": 9,
   "metadata": {},
   "outputs": [
    {
     "data": {
      "text/plain": [
       "(7660, 1)"
      ]
     },
     "execution_count": 9,
     "metadata": {},
     "output_type": "execute_result"
    },
    {
     "data": {
      "image/png": "[encoded data removed]",
      "text/plain": [
       "<Figure size 576x432 with 1 Axes>"
      ]
     },
     "metadata": {
      "needs_background": "light"
     },
     "output_type": "display_data"
    }
   ],
   "source": [
    "word_counts = df.groupby(\"id\")[\"Text\"].agg([\"count\"])\n",
    "word_counts = word_counts.rename(columns={\"count\": \"Word count\"})\n",
    "word_counts.hist(bins=50, figsize=(8,6))\n",
    "word_counts.shape"
   ]
  },
  {
   "cell_type": "code",
   "execution_count": 10,
   "metadata": {},
   "outputs": [
    {
     "name": "stdout",
     "output_type": "stream",
     "text": [
      "Longest sentence contains 35 words.\n"
     ]
    }
   ],
   "source": [
    "MAX_SENTENCE = word_counts.max()[0]\n",
    "print(f'Longest sentence contains {MAX_SENTENCE} words.')"
   ]
  },
  {
   "cell_type": "code",
   "execution_count": 11,
   "metadata": {},
   "outputs": [
    {
     "data": {
      "text/plain": [
       "{'B-Amenity': 0,\n",
       " 'B-Dish': 1,\n",
       " 'I-Amenity': 2,\n",
       " 'B-Rating': 3,\n",
       " 'B-Restaurant_Name': 4,\n",
       " 'I-Hours': 5,\n",
       " 'I-Cuisine': 6,\n",
       " 'I-Dish': 7,\n",
       " 'B-Hours': 8,\n",
       " 'B-Cuisine': 9,\n",
       " 'I-Price': 10,\n",
       " 'O': 11,\n",
       " 'I-Location': 12,\n",
       " 'B-Location': 13,\n",
       " 'B-Price': 14,\n",
       " 'I-Rating': 15,\n",
       " 'I-Restaurant_Name': 16}"
      ]
     },
     "execution_count": 11,
     "metadata": {},
     "output_type": "execute_result"
    }
   ],
   "source": [
    "tag_idx_dict = {tag: idx for idx, tag in enumerate(all_tags)}\n",
    "idx_tag_dict = {idx: tag for idx, tag in enumerate(all_tags)}\n",
    "\n",
    "tag_idx_dict"
   ]
  },
  {
   "cell_type": "code",
   "execution_count": 12,
   "metadata": {},
   "outputs": [
    {
     "name": "stdout",
     "output_type": "stream",
     "text": [
      "[('2', 'B-Rating'), ('start', 'I-Rating'), ('restaurants', 'O'), ('with', 'O'), ('inside', 'B-Amenity'), ('dining', 'I-Amenity')]\n"
     ]
    }
   ],
   "source": [
    "def to_tuples(data):\n",
    "    iterator = zip(data[\"Text\"].values.tolist(),\n",
    "                   data[\"Tag\"].values.tolist())\n",
    "    return [(word, tag) for word, tag in iterator]\n",
    "\n",
    "sentences = df.groupby(\"id\").apply(to_tuples).tolist()\n",
    "\n",
    "print(sentences[0][:10])"
   ]
  },
  {
   "cell_type": "code",
   "execution_count": 13,
   "metadata": {},
   "outputs": [],
   "source": [
    "df_idx = pd.DataFrame()\n",
    "\n",
    "df_idx['invoice_id'] = list(set(df['id']))\n",
    "df_idx['text_tag'] = sentences"
   ]
  },
  {
   "cell_type": "code",
   "execution_count": 14,
   "metadata": {},
   "outputs": [
    {
     "data": {
      "text/html": [
       "<div>\n",
       "<style scoped>\n",
       "    .dataframe tbody tr th:only-of-type {\n",
       "        vertical-align: middle;\n",
       "    }\n",
       "\n",
       "    .dataframe tbody tr th {\n",
       "        vertical-align: top;\n",
       "    }\n",
       "\n",
       "    .dataframe thead th {\n",
       "        text-align: right;\n",
       "    }\n",
       "</style>\n",
       "<table border=\"1\" class=\"dataframe\">\n",
       "  <thead>\n",
       "    <tr style=\"text-align: right;\">\n",
       "      <th></th>\n",
       "      <th>invoice_id</th>\n",
       "      <th>text_tag</th>\n",
       "    </tr>\n",
       "  </thead>\n",
       "  <tbody>\n",
       "    <tr>\n",
       "      <th>0</th>\n",
       "      <td>0</td>\n",
       "      <td>[(2, B-Rating), (start, I-Rating), (restaurant...</td>\n",
       "    </tr>\n",
       "    <tr>\n",
       "      <th>1</th>\n",
       "      <td>1</td>\n",
       "      <td>[(34, O)]</td>\n",
       "    </tr>\n",
       "    <tr>\n",
       "      <th>2</th>\n",
       "      <td>2</td>\n",
       "      <td>[(5, B-Rating), (star, I-Rating), (resturants,...</td>\n",
       "    </tr>\n",
       "    <tr>\n",
       "      <th>3</th>\n",
       "      <td>3</td>\n",
       "      <td>[(98, O), (hong, B-Restaurant_Name), (kong, I-...</td>\n",
       "    </tr>\n",
       "    <tr>\n",
       "      <th>4</th>\n",
       "      <td>4</td>\n",
       "      <td>[(a, O), (great, O), (lunch, O), (spot, O), (b...</td>\n",
       "    </tr>\n",
       "  </tbody>\n",
       "</table>\n",
       "</div>"
      ],
      "text/plain": [
       "   invoice_id                                           text_tag\n",
       "0           0  [(2, B-Rating), (start, I-Rating), (restaurant...\n",
       "1           1                                          [(34, O)]\n",
       "2           2  [(5, B-Rating), (star, I-Rating), (resturants,...\n",
       "3           3  [(98, O), (hong, B-Restaurant_Name), (kong, I-...\n",
       "4           4  [(a, O), (great, O), (lunch, O), (spot, O), (b..."
      ]
     },
     "execution_count": 14,
     "metadata": {},
     "output_type": "execute_result"
    }
   ],
   "source": [
    "df_idx.head()"
   ]
  },
  {
   "cell_type": "code",
   "execution_count": 15,
   "metadata": {},
   "outputs": [],
   "source": [
    "df_idx['text']=df_idx['text_tag'].apply(lambda text_tag:\" \".join([str(s[0]) for s in text_tag]))\n",
    "df_idx['tag']=df_idx['text_tag'].apply(lambda text_tag:\" \".join([str(s[1]) for s in text_tag]))"
   ]
  },
  {
   "cell_type": "code",
   "execution_count": 16,
   "metadata": {},
   "outputs": [
    {
     "data": {
      "text/html": [
       "<div>\n",
       "<style scoped>\n",
       "    .dataframe tbody tr th:only-of-type {\n",
       "        vertical-align: middle;\n",
       "    }\n",
       "\n",
       "    .dataframe tbody tr th {\n",
       "        vertical-align: top;\n",
       "    }\n",
       "\n",
       "    .dataframe thead th {\n",
       "        text-align: right;\n",
       "    }\n",
       "</style>\n",
       "<table border=\"1\" class=\"dataframe\">\n",
       "  <thead>\n",
       "    <tr style=\"text-align: right;\">\n",
       "      <th></th>\n",
       "      <th>invoice_id</th>\n",
       "      <th>text_tag</th>\n",
       "      <th>text</th>\n",
       "      <th>tag</th>\n",
       "    </tr>\n",
       "  </thead>\n",
       "  <tbody>\n",
       "    <tr>\n",
       "      <th>0</th>\n",
       "      <td>0</td>\n",
       "      <td>[(2, B-Rating), (start, I-Rating), (restaurant...</td>\n",
       "      <td>2 start restaurants with inside dining</td>\n",
       "      <td>B-Rating I-Rating O O B-Amenity I-Amenity</td>\n",
       "    </tr>\n",
       "    <tr>\n",
       "      <th>1</th>\n",
       "      <td>1</td>\n",
       "      <td>[(34, O)]</td>\n",
       "      <td>34</td>\n",
       "      <td>O</td>\n",
       "    </tr>\n",
       "    <tr>\n",
       "      <th>2</th>\n",
       "      <td>2</td>\n",
       "      <td>[(5, B-Rating), (star, I-Rating), (resturants,...</td>\n",
       "      <td>5 star resturants in my town</td>\n",
       "      <td>B-Rating I-Rating O B-Location I-Location I-Lo...</td>\n",
       "    </tr>\n",
       "    <tr>\n",
       "      <th>3</th>\n",
       "      <td>3</td>\n",
       "      <td>[(98, O), (hong, B-Restaurant_Name), (kong, I-...</td>\n",
       "      <td>98 hong kong restaurant reasonable prices</td>\n",
       "      <td>O B-Restaurant_Name I-Restaurant_Name O B-Price O</td>\n",
       "    </tr>\n",
       "    <tr>\n",
       "      <th>4</th>\n",
       "      <td>4</td>\n",
       "      <td>[(a, O), (great, O), (lunch, O), (spot, O), (b...</td>\n",
       "      <td>a great lunch spot but open till 2 a m passims...</td>\n",
       "      <td>O O O O O B-Hours I-Hours I-Hours I-Hours I-Ho...</td>\n",
       "    </tr>\n",
       "  </tbody>\n",
       "</table>\n",
       "</div>"
      ],
      "text/plain": [
       "   invoice_id                                           text_tag  \\\n",
       "0           0  [(2, B-Rating), (start, I-Rating), (restaurant...   \n",
       "1           1                                          [(34, O)]   \n",
       "2           2  [(5, B-Rating), (star, I-Rating), (resturants,...   \n",
       "3           3  [(98, O), (hong, B-Restaurant_Name), (kong, I-...   \n",
       "4           4  [(a, O), (great, O), (lunch, O), (spot, O), (b...   \n",
       "\n",
       "                                                text  \\\n",
       "0             2 start restaurants with inside dining   \n",
       "1                                                 34   \n",
       "2                       5 star resturants in my town   \n",
       "3          98 hong kong restaurant reasonable prices   \n",
       "4  a great lunch spot but open till 2 a m passims...   \n",
       "\n",
       "                                                 tag  \n",
       "0          B-Rating I-Rating O O B-Amenity I-Amenity  \n",
       "1                                                  O  \n",
       "2  B-Rating I-Rating O B-Location I-Location I-Lo...  \n",
       "3  O B-Restaurant_Name I-Restaurant_Name O B-Price O  \n",
       "4  O O O O O B-Hours I-Hours I-Hours I-Hours I-Ho...  "
      ]
     },
     "execution_count": 16,
     "metadata": {},
     "output_type": "execute_result"
    }
   ],
   "source": [
    "df_idx.head()"
   ]
  },
  {
   "cell_type": "code",
   "execution_count": 17,
   "metadata": {},
   "outputs": [
    {
     "data": {
      "text/plain": [
       "(7660, 4)"
      ]
     },
     "execution_count": 17,
     "metadata": {},
     "output_type": "execute_result"
    }
   ],
   "source": [
    "df_idx.shape"
   ]
  },
  {
   "cell_type": "code",
   "execution_count": 18,
   "metadata": {},
   "outputs": [
    {
     "data": {
      "text/html": [
       "<div>\n",
       "<style scoped>\n",
       "    .dataframe tbody tr th:only-of-type {\n",
       "        vertical-align: middle;\n",
       "    }\n",
       "\n",
       "    .dataframe tbody tr th {\n",
       "        vertical-align: top;\n",
       "    }\n",
       "\n",
       "    .dataframe thead th {\n",
       "        text-align: right;\n",
       "    }\n",
       "</style>\n",
       "<table border=\"1\" class=\"dataframe\">\n",
       "  <thead>\n",
       "    <tr style=\"text-align: right;\">\n",
       "      <th></th>\n",
       "      <th>invoice_id</th>\n",
       "      <th>text_tag</th>\n",
       "      <th>text</th>\n",
       "      <th>tag</th>\n",
       "      <th>tokenized_text</th>\n",
       "      <th>tag_list</th>\n",
       "    </tr>\n",
       "  </thead>\n",
       "  <tbody>\n",
       "    <tr>\n",
       "      <th>0</th>\n",
       "      <td>0</td>\n",
       "      <td>[(2, B-Rating), (start, I-Rating), (restaurant...</td>\n",
       "      <td>2 start restaurants with inside dining</td>\n",
       "      <td>B-Rating I-Rating O O B-Amenity I-Amenity</td>\n",
       "      <td>[2, start, restaurants, with, inside, dining]</td>\n",
       "      <td>[B-Rating, I-Rating, O, O, B-Amenity, I-Amenity]</td>\n",
       "    </tr>\n",
       "    <tr>\n",
       "      <th>1</th>\n",
       "      <td>1</td>\n",
       "      <td>[(34, O)]</td>\n",
       "      <td>34</td>\n",
       "      <td>O</td>\n",
       "      <td>[34]</td>\n",
       "      <td>[O]</td>\n",
       "    </tr>\n",
       "    <tr>\n",
       "      <th>2</th>\n",
       "      <td>2</td>\n",
       "      <td>[(5, B-Rating), (star, I-Rating), (resturants,...</td>\n",
       "      <td>5 star resturants in my town</td>\n",
       "      <td>B-Rating I-Rating O B-Location I-Location I-Lo...</td>\n",
       "      <td>[5, star, resturants, in, my, town]</td>\n",
       "      <td>[B-Rating, I-Rating, O, B-Location, I-Location...</td>\n",
       "    </tr>\n",
       "    <tr>\n",
       "      <th>3</th>\n",
       "      <td>3</td>\n",
       "      <td>[(98, O), (hong, B-Restaurant_Name), (kong, I-...</td>\n",
       "      <td>98 hong kong restaurant reasonable prices</td>\n",
       "      <td>O B-Restaurant_Name I-Restaurant_Name O B-Price O</td>\n",
       "      <td>[98, hong, kong, restaurant, reasonable, prices]</td>\n",
       "      <td>[O, B-Restaurant_Name, I-Restaurant_Name, O, B...</td>\n",
       "    </tr>\n",
       "    <tr>\n",
       "      <th>4</th>\n",
       "      <td>4</td>\n",
       "      <td>[(a, O), (great, O), (lunch, O), (spot, O), (b...</td>\n",
       "      <td>a great lunch spot but open till 2 a m passims...</td>\n",
       "      <td>O O O O O B-Hours I-Hours I-Hours I-Hours I-Ho...</td>\n",
       "      <td>[a, great, lunch, spot, but, open, till, 2, a,...</td>\n",
       "      <td>[O, O, O, O, O, B-Hours, I-Hours, I-Hours, I-H...</td>\n",
       "    </tr>\n",
       "  </tbody>\n",
       "</table>\n",
       "</div>"
      ],
      "text/plain": [
       "   invoice_id                                           text_tag  \\\n",
       "0           0  [(2, B-Rating), (start, I-Rating), (restaurant...   \n",
       "1           1                                          [(34, O)]   \n",
       "2           2  [(5, B-Rating), (star, I-Rating), (resturants,...   \n",
       "3           3  [(98, O), (hong, B-Restaurant_Name), (kong, I-...   \n",
       "4           4  [(a, O), (great, O), (lunch, O), (spot, O), (b...   \n",
       "\n",
       "                                                text  \\\n",
       "0             2 start restaurants with inside dining   \n",
       "1                                                 34   \n",
       "2                       5 star resturants in my town   \n",
       "3          98 hong kong restaurant reasonable prices   \n",
       "4  a great lunch spot but open till 2 a m passims...   \n",
       "\n",
       "                                                 tag  \\\n",
       "0          B-Rating I-Rating O O B-Amenity I-Amenity   \n",
       "1                                                  O   \n",
       "2  B-Rating I-Rating O B-Location I-Location I-Lo...   \n",
       "3  O B-Restaurant_Name I-Restaurant_Name O B-Price O   \n",
       "4  O O O O O B-Hours I-Hours I-Hours I-Hours I-Ho...   \n",
       "\n",
       "                                      tokenized_text  \\\n",
       "0      [2, start, restaurants, with, inside, dining]   \n",
       "1                                               [34]   \n",
       "2                [5, star, resturants, in, my, town]   \n",
       "3   [98, hong, kong, restaurant, reasonable, prices]   \n",
       "4  [a, great, lunch, spot, but, open, till, 2, a,...   \n",
       "\n",
       "                                            tag_list  \n",
       "0   [B-Rating, I-Rating, O, O, B-Amenity, I-Amenity]  \n",
       "1                                                [O]  \n",
       "2  [B-Rating, I-Rating, O, B-Location, I-Location...  \n",
       "3  [O, B-Restaurant_Name, I-Restaurant_Name, O, B...  \n",
       "4  [O, O, O, O, O, B-Hours, I-Hours, I-Hours, I-H...  "
      ]
     },
     "execution_count": 18,
     "metadata": {},
     "output_type": "execute_result"
    }
   ],
   "source": [
    "df_idx['tokenized_text']=df_idx['text'].apply(lambda x:x.split())\n",
    "df_idx['tag_list']=df_idx['tag'].apply(lambda x:x.split())\n",
    "df_idx.head()"
   ]
  },
  {
   "cell_type": "code",
   "execution_count": 19,
   "metadata": {},
   "outputs": [],
   "source": [
    "texts_list=df_idx['text'].tolist()\n",
    "tags_list=df_idx['tag_list'].tolist()"
   ]
  },
  {
   "cell_type": "code",
   "execution_count": 20,
   "metadata": {},
   "outputs": [
    {
     "name": "stdout",
     "output_type": "stream",
     "text": [
      "Vocab size of Tokenizer  3805\n"
     ]
    }
   ],
   "source": [
    "tokenizer = Tokenizer(lower=False, filters='!?~[]()^_{\"}\\'%')\n",
    "tokenizer.fit_on_texts(texts_list)\n",
    "encoded_text_list = tokenizer.texts_to_sequences(texts_list)\n",
    "\n",
    "print(\"Vocab size of Tokenizer \",len(tokenizer.word_index)+1)"
   ]
  },
  {
   "cell_type": "code",
   "execution_count": 21,
   "metadata": {},
   "outputs": [],
   "source": [
    "encoded_tags_list = [[tag_idx_dict[w] for w in tag] for tag in tags_list]"
   ]
  },
  {
   "cell_type": "code",
   "execution_count": 22,
   "metadata": {},
   "outputs": [],
   "source": [
    "padded_encoded_text_list = pad_sequences(maxlen=MAX_SENTENCE, sequences=encoded_text_list, padding=\"post\", value=0)\n",
    "padded_encoded_tags_list = pad_sequences(maxlen=MAX_SENTENCE, sequences=encoded_tags_list, padding=\"post\", value=tag_idx_dict['O'])"
   ]
  },
  {
   "cell_type": "code",
   "execution_count": 23,
   "metadata": {},
   "outputs": [],
   "source": [
    "dummy_tags = [to_categorical(i, num_classes=NUM_TAGS) for i in padded_encoded_tags_list]"
   ]
  },
  {
   "cell_type": "code",
   "execution_count": 24,
   "metadata": {},
   "outputs": [
    {
     "name": "stdout",
     "output_type": "stream",
     "text": [
      "train: 70%\n",
      "val: 10%\n",
      "test: 20%\n"
     ]
    }
   ],
   "source": [
    "# Train-val-test split\n",
    "X, y = split_dataset(padded_encoded_text_list, dummy_tags)"
   ]
  },
  {
   "cell_type": "code",
   "execution_count": 25,
   "metadata": {},
   "outputs": [
    {
     "name": "stdout",
     "output_type": "stream",
     "text": [
      "Model: \"model\"\n",
      "_________________________________________________________________\n",
      " Layer (type)                Output Shape              Param #   \n",
      "=================================================================\n",
      " input_1 (InputLayer)        [(None, 35)]              0         \n",
      "                                                                 \n",
      " embedding (Embedding)       (None, 35, 50)            190250    \n",
      "                                                                 \n",
      " bidirectional (Bidirectiona  (None, 35, 60)           19440     \n",
      " l)                                                              \n",
      "                                                                 \n",
      " dropout (Dropout)           (None, 35, 60)            0         \n",
      "                                                                 \n",
      " time_distributed (TimeDistr  (None, 35, 50)           3050      \n",
      " ibuted)                                                         \n",
      "                                                                 \n",
      " crf (CRF)                   [(None, 35),              1190      \n",
      "                              (None, 35, 17),                    \n",
      "                              (None,),                           \n",
      "                              (17, 17)]                          \n",
      "                                                                 \n",
      "=================================================================\n",
      "Total params: 213,930\n",
      "Trainable params: 213,930\n",
      "Non-trainable params: 0\n",
      "_________________________________________________________________\n",
      "Epoch 1/20\n",
      "WARNING:tensorflow:Gradients do not exist for variables ['chain_kernel:0'] when minimizing the loss. If you're using `model.compile()`, did you forget to provide a `loss`argument?\n",
      "WARNING:tensorflow:Gradients do not exist for variables ['chain_kernel:0'] when minimizing the loss. If you're using `model.compile()`, did you forget to provide a `loss`argument?\n",
      "671/671 [==============================] - 73s 85ms/step - loss: 0.0982 - accuracy: 0.8889 - val_loss: 0.0435 - val_accuracy: 0.9120\n",
      "Epoch 2/20\n",
      "671/671 [==============================] - 47s 70ms/step - loss: 0.0341 - accuracy: 0.9380 - val_loss: 0.0323 - val_accuracy: 0.9485\n",
      "Epoch 3/20\n",
      "671/671 [==============================] - 54s 80ms/step - loss: 0.0241 - accuracy: 0.9602 - val_loss: 0.0342 - val_accuracy: 0.9565\n",
      "Epoch 4/20\n",
      "671/671 [==============================] - 52s 78ms/step - loss: 0.0189 - accuracy: 0.9713 - val_loss: 0.0439 - val_accuracy: 0.9604\n",
      "Epoch 5/20\n",
      "671/671 [==============================] - 53s 79ms/step - loss: 0.0166 - accuracy: 0.9751 - val_loss: 0.0461 - val_accuracy: 0.9611\n",
      "Epoch 6/20\n",
      "671/671 [==============================] - 53s 79ms/step - loss: 0.0141 - accuracy: 0.9788 - val_loss: 0.0636 - val_accuracy: 0.9615\n",
      "Epoch 7/20\n",
      "671/671 [==============================] - 54s 80ms/step - loss: 0.0120 - accuracy: 0.9817 - val_loss: 0.0662 - val_accuracy: 0.9627\n",
      "Epoch 7: early stopping\n"
     ]
    }
   ],
   "source": [
    "model = create_model_bilstmcrf(MAX_SENTENCE, VOCAB_SIZE, NUM_TAGS)\n",
    "\n",
    "model.summary()\n",
    "\n",
    "model.compile(optimizer=Adam(learning_rate=0.001), \n",
    "                loss=SigmoidFocalCrossEntropy(), \n",
    "                metrics=['accuracy'])\n",
    "\n",
    "history = model.fit(X['train'],\n",
    "                    np.array(y['train']), \n",
    "                    validation_data=(X['val'], np.array(y['val'])),\n",
    "                    batch_size=8,\n",
    "                    callbacks=EarlyStopping(monitor='val_loss', mode='min', verbose=1, patience=5),\n",
    "                    epochs=20)"
   ]
  },
  {
   "cell_type": "code",
   "execution_count": 26,
   "metadata": {},
   "outputs": [
    {
     "data": {
      "image/png": "[encoded data removed]",
      "text/plain": [
       "<Figure size 432x288 with 1 Axes>"
      ]
     },
     "metadata": {
      "needs_background": "light"
     },
     "output_type": "display_data"
    }
   ],
   "source": [
    "plt.plot(history.history['loss'])\n",
    "plt.plot(history.history['val_loss'])\n",
    "plt.title('Model loss')\n",
    "plt.ylabel('Loss')\n",
    "plt.xlabel('Epoch')\n",
    "plt.legend(['Train', 'Validation'], loc='upper left')\n",
    "plt.show()"
   ]
  },
  {
   "cell_type": "code",
   "execution_count": 27,
   "metadata": {},
   "outputs": [
    {
     "data": {
      "image/png": "[encoded data removed]",
      "text/plain": [
       "<Figure size 432x288 with 1 Axes>"
      ]
     },
     "metadata": {
      "needs_background": "light"
     },
     "output_type": "display_data"
    }
   ],
   "source": [
    "plt.plot(history.history['accuracy'])\n",
    "plt.plot(history.history['val_accuracy'])\n",
    "plt.title('Model Accuracy')\n",
    "plt.ylabel('Accuracy')\n",
    "plt.xlabel('Epoch')\n",
    "plt.legend(['Train', 'Validation'], loc='upper left')\n",
    "plt.show()"
   ]
  },
  {
   "cell_type": "code",
   "execution_count": 28,
   "metadata": {},
   "outputs": [
    {
     "name": "stdout",
     "output_type": "stream",
     "text": [
      "24/24 [==============================] - 5s 26ms/step\n",
      "Accuracy: 0.9627004848936964\n",
      "F1-score: 0.6474683544303796\n"
     ]
    }
   ],
   "source": [
    "y_pred = model.predict(X['val'])\n",
    "\n",
    "pred_index_array = np.argmax(y_pred, axis=-1)\n",
    "val_index_array = np.argmax(y['val'], axis=-1)\n",
    "\n",
    "real_tag, pred_tag = prepare_to_eval(idx_tag_dict, val_index_array, pred_index_array)\n",
    "\n",
    "print(f'Accuracy: {accuracy_score(real_tag, pred_tag)}')\n",
    "print(f'F1-score: {f1_score(real_tag, pred_tag)}')"
   ]
  },
  {
   "cell_type": "code",
   "execution_count": 29,
   "metadata": {},
   "outputs": [
    {
     "name": "stdout",
     "output_type": "stream",
     "text": [
      "48/48 [==============================] - 1s 23ms/step\n",
      "Accuracy: 0.9659082431928385\n",
      "F1-score: 0.6699890982712973\n"
     ]
    }
   ],
   "source": [
    "y_pred = model.predict(X['test'])\n",
    "\n",
    "pred_index_array = np.argmax(y_pred, axis=-1)\n",
    "test_index_array = np.argmax(y['test'], axis=-1)\n",
    "\n",
    "real_tag, pred_tag = prepare_to_eval(idx_tag_dict, test_index_array, pred_index_array)\n",
    "\n",
    "print(f'Accuracy: {accuracy_score(real_tag, pred_tag)}')\n",
    "print(f'F1-score: {f1_score(real_tag, pred_tag)}')"
   ]
  },
  {
   "cell_type": "code",
   "execution_count": 30,
   "metadata": {},
   "outputs": [
    {
     "name": "stdout",
     "output_type": "stream",
     "text": [
      "                 precision    recall  f1-score   support\n",
      "\n",
      "        Amenity       0.51      0.62      0.56       500\n",
      "        Cuisine       0.74      0.77      0.75       579\n",
      "           Dish       0.59      0.66      0.62       311\n",
      "          Hours       0.61      0.67      0.63       215\n",
      "       Location       0.71      0.75      0.73       764\n",
      "          Price       0.72      0.72      0.72       135\n",
      "         Rating       0.62      0.73      0.67       222\n",
      "Restaurant_Name       0.66      0.60      0.62       369\n",
      "\n",
      "      micro avg       0.65      0.69      0.67      3095\n",
      "      macro avg       0.64      0.69      0.66      3095\n",
      "   weighted avg       0.65      0.69      0.67      3095\n",
      "\n"
     ]
    }
   ],
   "source": [
    "print(classification_report(real_tag, pred_tag, zero_division=0))"
   ]
  },
  {
   "cell_type": "code",
   "execution_count": null,
   "metadata": {},
   "outputs": [],
   "source": []
  }
 ],
 "metadata": {
  "interpreter": {
   "hash": "ad522d30e3dfc0e14e6af11be4b6def96f4bde859e5802fc4a9db0a62ee0582b"
  },
  "kernelspec": {
   "display_name": "Python 3.8.10 ('.venv': poetry)",
   "language": "python",
   "name": "python3"
  },
  "language_info": {
   "codemirror_mode": {
    "name": "ipython",
    "version": 3
   },
   "file_extension": ".py",
   "mimetype": "text/x-python",
   "name": "python",
   "nbconvert_exporter": "python",
   "pygments_lexer": "ipython3",
   "version": "3.8.10"
  },
  "orig_nbformat": 4
 },
 "nbformat": 4,
 "nbformat_minor": 2
}
