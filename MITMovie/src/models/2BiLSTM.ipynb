{
 "cells": [
  {
   "cell_type": "code",
   "execution_count": 1,
   "metadata": {},
   "outputs": [
    {
     "name": "stderr",
     "output_type": "stream",
     "text": [
      "2022-08-18 21:43:59.213650: W tensorflow/stream_executor/platform/default/dso_loader.cc:64] Could not load dynamic library 'libcudart.so.11.0'; dlerror: libcudart.so.11.0: cannot open shared object file: No such file or directory\n",
      "2022-08-18 21:43:59.213706: I tensorflow/stream_executor/cuda/cudart_stub.cc:29] Ignore above cudart dlerror if you do not have a GPU set up on your machine.\n"
     ]
    }
   ],
   "source": [
    "import pandas as pd\n",
    "import numpy as np\n",
    "import sys\n",
    "sys.path.append('..')\n",
    "\n",
    "from functions.split_dataset import split_dataset, prepare_to_eval\n",
    "from functions.create_model import create_model_2bilstm\n",
    "\n",
    "import matplotlib.pyplot as plt\n",
    "\n",
    "from tensorflow.keras.preprocessing.text import Tokenizer\n",
    "\n",
    "from tensorflow.keras import Model\n",
    "from tensorflow.keras.layers import Input\n",
    "\n",
    "from tensorflow.keras.callbacks import EarlyStopping\n",
    "from tensorflow.keras.optimizers import Adam\n",
    "from seqeval.metrics import f1_score, classification_report, accuracy_score\n",
    "from keras import backend as K\n",
    "from tensorflow.keras.preprocessing.sequence import pad_sequences\n",
    "from tensorflow.keras.utils import to_categorical\n",
    "\n",
    "from tensorflow_addons.losses import SigmoidFocalCrossEntropy"
   ]
  },
  {
   "cell_type": "code",
   "execution_count": 2,
   "metadata": {},
   "outputs": [
    {
     "name": "stderr",
     "output_type": "stream",
     "text": [
      "2022-08-18 21:44:03.389965: I tensorflow/core/platform/cpu_feature_guard.cc:193] This TensorFlow binary is optimized with oneAPI Deep Neural Network Library (oneDNN) to use the following CPU instructions in performance-critical operations:  AVX2 FMA\n",
      "To enable them in other operations, rebuild TensorFlow with the appropriate compiler flags.\n",
      "2022-08-18 21:44:03.444467: E tensorflow/stream_executor/cuda/cuda_driver.cc:271] failed call to cuInit: CUDA_ERROR_NO_DEVICE: no CUDA-capable device is detected\n",
      "2022-08-18 21:44:03.444513: I tensorflow/stream_executor/cuda/cuda_diagnostics.cc:156] kernel driver does not appear to be running on this host (meilux): /proc/driver/nvidia/version does not exist\n"
     ]
    },
    {
     "name": "stdout",
     "output_type": "stream",
     "text": [
      "WARNING:tensorflow:From /tmp/ipykernel_32891/741246941.py:24: The name tf.keras.backend.set_session is deprecated. Please use tf.compat.v1.keras.backend.set_session instead.\n",
      "\n"
     ]
    }
   ],
   "source": [
    "seed_value = 42\n",
    "\n",
    "# 1. Set the `PYTHONHASHSEED` environment variable at a fixed value\n",
    "import os\n",
    "os.environ['PYTHONHASHSEED']=str(seed_value)\n",
    "\n",
    "# 2. Set the `python` built-in pseudo-random generator at a fixed value\n",
    "import random\n",
    "random.seed(seed_value)\n",
    "\n",
    "# 3. Set the `numpy` pseudo-random generator at a fixed value\n",
    "import numpy as np\n",
    "np.random.seed(seed_value)\n",
    "\n",
    "# 4. Set the `tensorflow` pseudo-random generator at a fixed value\n",
    "import tensorflow as tf\n",
    "tf.random.set_seed(seed_value)\n",
    "# for later versions: \n",
    "# tf.compat.v1.set_random_seed(seed_value)\n",
    "\n",
    "# 5. Configure a new global `tensorflow` session\n",
    "session_conf = tf.compat.v1.ConfigProto(intra_op_parallelism_threads=1, inter_op_parallelism_threads=1)\n",
    "sess = tf.compat.v1.Session(graph=tf.compat.v1.get_default_graph(), config=session_conf)\n",
    "tf.compat.v1.keras.backend.set_session(sess)"
   ]
  },
  {
   "cell_type": "code",
   "execution_count": 3,
   "metadata": {},
   "outputs": [
    {
     "data": {
      "text/html": [
       "<div>\n",
       "<style scoped>\n",
       "    .dataframe tbody tr th:only-of-type {\n",
       "        vertical-align: middle;\n",
       "    }\n",
       "\n",
       "    .dataframe tbody tr th {\n",
       "        vertical-align: top;\n",
       "    }\n",
       "\n",
       "    .dataframe thead th {\n",
       "        text-align: right;\n",
       "    }\n",
       "</style>\n",
       "<table border=\"1\" class=\"dataframe\">\n",
       "  <thead>\n",
       "    <tr style=\"text-align: right;\">\n",
       "      <th></th>\n",
       "      <th>Tag</th>\n",
       "      <th>Text</th>\n",
       "    </tr>\n",
       "  </thead>\n",
       "  <tbody>\n",
       "    <tr>\n",
       "      <th>0</th>\n",
       "      <td>B-Actor</td>\n",
       "      <td>steve</td>\n",
       "    </tr>\n",
       "    <tr>\n",
       "      <th>1</th>\n",
       "      <td>I-Actor</td>\n",
       "      <td>mcqueen</td>\n",
       "    </tr>\n",
       "    <tr>\n",
       "      <th>2</th>\n",
       "      <td>O</td>\n",
       "      <td>provided</td>\n",
       "    </tr>\n",
       "    <tr>\n",
       "      <th>3</th>\n",
       "      <td>O</td>\n",
       "      <td>a</td>\n",
       "    </tr>\n",
       "    <tr>\n",
       "      <th>4</th>\n",
       "      <td>B-Plot</td>\n",
       "      <td>thrilling</td>\n",
       "    </tr>\n",
       "    <tr>\n",
       "      <th>5</th>\n",
       "      <td>I-Plot</td>\n",
       "      <td>motorcycle</td>\n",
       "    </tr>\n",
       "    <tr>\n",
       "      <th>6</th>\n",
       "      <td>I-Plot</td>\n",
       "      <td>chase</td>\n",
       "    </tr>\n",
       "    <tr>\n",
       "      <th>7</th>\n",
       "      <td>I-Plot</td>\n",
       "      <td>in</td>\n",
       "    </tr>\n",
       "    <tr>\n",
       "      <th>8</th>\n",
       "      <td>I-Plot</td>\n",
       "      <td>this</td>\n",
       "    </tr>\n",
       "    <tr>\n",
       "      <th>9</th>\n",
       "      <td>B-Opinion</td>\n",
       "      <td>greatest</td>\n",
       "    </tr>\n",
       "    <tr>\n",
       "      <th>10</th>\n",
       "      <td>I-Opinion</td>\n",
       "      <td>of</td>\n",
       "    </tr>\n",
       "    <tr>\n",
       "      <th>11</th>\n",
       "      <td>I-Opinion</td>\n",
       "      <td>all</td>\n",
       "    </tr>\n",
       "    <tr>\n",
       "      <th>12</th>\n",
       "      <td>B-Plot</td>\n",
       "      <td>ww</td>\n",
       "    </tr>\n",
       "    <tr>\n",
       "      <th>13</th>\n",
       "      <td>I-Plot</td>\n",
       "      <td>2</td>\n",
       "    </tr>\n",
       "    <tr>\n",
       "      <th>14</th>\n",
       "      <td>I-Plot</td>\n",
       "      <td>prison</td>\n",
       "    </tr>\n",
       "    <tr>\n",
       "      <th>15</th>\n",
       "      <td>I-Plot</td>\n",
       "      <td>escape</td>\n",
       "    </tr>\n",
       "    <tr>\n",
       "      <th>16</th>\n",
       "      <td>I-Plot</td>\n",
       "      <td>movies</td>\n",
       "    </tr>\n",
       "    <tr>\n",
       "      <th>17</th>\n",
       "      <td>NaN</td>\n",
       "      <td>NaN</td>\n",
       "    </tr>\n",
       "    <tr>\n",
       "      <th>18</th>\n",
       "      <td>B-Actor</td>\n",
       "      <td>liza</td>\n",
       "    </tr>\n",
       "    <tr>\n",
       "      <th>19</th>\n",
       "      <td>I-Actor</td>\n",
       "      <td>minnelli</td>\n",
       "    </tr>\n",
       "  </tbody>\n",
       "</table>\n",
       "</div>"
      ],
      "text/plain": [
       "          Tag        Text\n",
       "0     B-Actor       steve\n",
       "1     I-Actor     mcqueen\n",
       "2           O    provided\n",
       "3           O           a\n",
       "4      B-Plot   thrilling\n",
       "5      I-Plot  motorcycle\n",
       "6      I-Plot       chase\n",
       "7      I-Plot          in\n",
       "8      I-Plot        this\n",
       "9   B-Opinion    greatest\n",
       "10  I-Opinion          of\n",
       "11  I-Opinion         all\n",
       "12     B-Plot          ww\n",
       "13     I-Plot           2\n",
       "14     I-Plot      prison\n",
       "15     I-Plot      escape\n",
       "16     I-Plot      movies\n",
       "17        NaN         NaN\n",
       "18    B-Actor        liza\n",
       "19    I-Actor    minnelli"
      ]
     },
     "execution_count": 3,
     "metadata": {},
     "output_type": "execute_result"
    }
   ],
   "source": [
    "dataset_path = '../../data/trivia10k13train.bio.csv'\n",
    "\n",
    "df = pd.read_csv(dataset_path, sep=\"\\t\", skip_blank_lines=False)\n",
    "df[:20]"
   ]
  },
  {
   "cell_type": "code",
   "execution_count": 4,
   "metadata": {},
   "outputs": [
    {
     "data": {
      "text/html": [
       "<div>\n",
       "<style scoped>\n",
       "    .dataframe tbody tr th:only-of-type {\n",
       "        vertical-align: middle;\n",
       "    }\n",
       "\n",
       "    .dataframe tbody tr th {\n",
       "        vertical-align: top;\n",
       "    }\n",
       "\n",
       "    .dataframe thead th {\n",
       "        text-align: right;\n",
       "    }\n",
       "</style>\n",
       "<table border=\"1\" class=\"dataframe\">\n",
       "  <thead>\n",
       "    <tr style=\"text-align: right;\">\n",
       "      <th></th>\n",
       "      <th>Tag</th>\n",
       "      <th>Text</th>\n",
       "      <th>id</th>\n",
       "    </tr>\n",
       "  </thead>\n",
       "  <tbody>\n",
       "    <tr>\n",
       "      <th>0</th>\n",
       "      <td>B-Actor</td>\n",
       "      <td>steve</td>\n",
       "      <td>0</td>\n",
       "    </tr>\n",
       "    <tr>\n",
       "      <th>1</th>\n",
       "      <td>I-Actor</td>\n",
       "      <td>mcqueen</td>\n",
       "      <td>0</td>\n",
       "    </tr>\n",
       "    <tr>\n",
       "      <th>2</th>\n",
       "      <td>O</td>\n",
       "      <td>provided</td>\n",
       "      <td>0</td>\n",
       "    </tr>\n",
       "    <tr>\n",
       "      <th>3</th>\n",
       "      <td>O</td>\n",
       "      <td>a</td>\n",
       "      <td>0</td>\n",
       "    </tr>\n",
       "    <tr>\n",
       "      <th>4</th>\n",
       "      <td>B-Plot</td>\n",
       "      <td>thrilling</td>\n",
       "      <td>0</td>\n",
       "    </tr>\n",
       "    <tr>\n",
       "      <th>5</th>\n",
       "      <td>I-Plot</td>\n",
       "      <td>motorcycle</td>\n",
       "      <td>0</td>\n",
       "    </tr>\n",
       "    <tr>\n",
       "      <th>6</th>\n",
       "      <td>I-Plot</td>\n",
       "      <td>chase</td>\n",
       "      <td>0</td>\n",
       "    </tr>\n",
       "    <tr>\n",
       "      <th>7</th>\n",
       "      <td>I-Plot</td>\n",
       "      <td>in</td>\n",
       "      <td>0</td>\n",
       "    </tr>\n",
       "    <tr>\n",
       "      <th>8</th>\n",
       "      <td>I-Plot</td>\n",
       "      <td>this</td>\n",
       "      <td>0</td>\n",
       "    </tr>\n",
       "    <tr>\n",
       "      <th>9</th>\n",
       "      <td>B-Opinion</td>\n",
       "      <td>greatest</td>\n",
       "      <td>0</td>\n",
       "    </tr>\n",
       "    <tr>\n",
       "      <th>10</th>\n",
       "      <td>I-Opinion</td>\n",
       "      <td>of</td>\n",
       "      <td>0</td>\n",
       "    </tr>\n",
       "    <tr>\n",
       "      <th>11</th>\n",
       "      <td>I-Opinion</td>\n",
       "      <td>all</td>\n",
       "      <td>0</td>\n",
       "    </tr>\n",
       "    <tr>\n",
       "      <th>12</th>\n",
       "      <td>B-Plot</td>\n",
       "      <td>ww</td>\n",
       "      <td>0</td>\n",
       "    </tr>\n",
       "    <tr>\n",
       "      <th>13</th>\n",
       "      <td>I-Plot</td>\n",
       "      <td>2</td>\n",
       "      <td>0</td>\n",
       "    </tr>\n",
       "    <tr>\n",
       "      <th>14</th>\n",
       "      <td>I-Plot</td>\n",
       "      <td>prison</td>\n",
       "      <td>0</td>\n",
       "    </tr>\n",
       "    <tr>\n",
       "      <th>15</th>\n",
       "      <td>I-Plot</td>\n",
       "      <td>escape</td>\n",
       "      <td>0</td>\n",
       "    </tr>\n",
       "    <tr>\n",
       "      <th>16</th>\n",
       "      <td>I-Plot</td>\n",
       "      <td>movies</td>\n",
       "      <td>0</td>\n",
       "    </tr>\n",
       "    <tr>\n",
       "      <th>18</th>\n",
       "      <td>B-Actor</td>\n",
       "      <td>liza</td>\n",
       "      <td>1</td>\n",
       "    </tr>\n",
       "    <tr>\n",
       "      <th>19</th>\n",
       "      <td>I-Actor</td>\n",
       "      <td>minnelli</td>\n",
       "      <td>1</td>\n",
       "    </tr>\n",
       "    <tr>\n",
       "      <th>20</th>\n",
       "      <td>O</td>\n",
       "      <td>and</td>\n",
       "      <td>1</td>\n",
       "    </tr>\n",
       "  </tbody>\n",
       "</table>\n",
       "</div>"
      ],
      "text/plain": [
       "          Tag        Text  id\n",
       "0     B-Actor       steve   0\n",
       "1     I-Actor     mcqueen   0\n",
       "2           O    provided   0\n",
       "3           O           a   0\n",
       "4      B-Plot   thrilling   0\n",
       "5      I-Plot  motorcycle   0\n",
       "6      I-Plot       chase   0\n",
       "7      I-Plot          in   0\n",
       "8      I-Plot        this   0\n",
       "9   B-Opinion    greatest   0\n",
       "10  I-Opinion          of   0\n",
       "11  I-Opinion         all   0\n",
       "12     B-Plot          ww   0\n",
       "13     I-Plot           2   0\n",
       "14     I-Plot      prison   0\n",
       "15     I-Plot      escape   0\n",
       "16     I-Plot      movies   0\n",
       "18    B-Actor        liza   1\n",
       "19    I-Actor    minnelli   1\n",
       "20          O         and   1"
      ]
     },
     "execution_count": 4,
     "metadata": {},
     "output_type": "execute_result"
    }
   ],
   "source": [
    "id_list = []\n",
    "id = 0\n",
    "\n",
    "def isNaN(string):\n",
    "    return string != string\n",
    "\n",
    "for tag, text in zip(df['Tag'], df['Text']):\n",
    "    if isNaN(tag):\n",
    "        id += 1\n",
    "    id_list.append(id)\n",
    "\n",
    "df['id'] = id_list\n",
    "df = df.dropna()\n",
    "df[:20]"
   ]
  },
  {
   "cell_type": "code",
   "execution_count": 5,
   "metadata": {},
   "outputs": [
    {
     "data": {
      "text/html": [
       "<div>\n",
       "<style scoped>\n",
       "    .dataframe tbody tr th:only-of-type {\n",
       "        vertical-align: middle;\n",
       "    }\n",
       "\n",
       "    .dataframe tbody tr th {\n",
       "        vertical-align: top;\n",
       "    }\n",
       "\n",
       "    .dataframe thead th {\n",
       "        text-align: right;\n",
       "    }\n",
       "</style>\n",
       "<table border=\"1\" class=\"dataframe\">\n",
       "  <thead>\n",
       "    <tr style=\"text-align: right;\">\n",
       "      <th></th>\n",
       "      <th>Tag</th>\n",
       "      <th>Text</th>\n",
       "      <th>id</th>\n",
       "    </tr>\n",
       "  </thead>\n",
       "  <tbody>\n",
       "    <tr>\n",
       "      <th>0</th>\n",
       "      <td>B-Actor</td>\n",
       "      <td>steve</td>\n",
       "      <td>0</td>\n",
       "    </tr>\n",
       "    <tr>\n",
       "      <th>1</th>\n",
       "      <td>I-Actor</td>\n",
       "      <td>mcqueen</td>\n",
       "      <td>0</td>\n",
       "    </tr>\n",
       "    <tr>\n",
       "      <th>2</th>\n",
       "      <td>O</td>\n",
       "      <td>provided</td>\n",
       "      <td>0</td>\n",
       "    </tr>\n",
       "    <tr>\n",
       "      <th>3</th>\n",
       "      <td>O</td>\n",
       "      <td>a</td>\n",
       "      <td>0</td>\n",
       "    </tr>\n",
       "    <tr>\n",
       "      <th>4</th>\n",
       "      <td>B-Plot</td>\n",
       "      <td>thrilling</td>\n",
       "      <td>0</td>\n",
       "    </tr>\n",
       "  </tbody>\n",
       "</table>\n",
       "</div>"
      ],
      "text/plain": [
       "       Tag       Text  id\n",
       "0  B-Actor      steve   0\n",
       "1  I-Actor    mcqueen   0\n",
       "2        O   provided   0\n",
       "3        O          a   0\n",
       "4   B-Plot  thrilling   0"
      ]
     },
     "execution_count": 5,
     "metadata": {},
     "output_type": "execute_result"
    }
   ],
   "source": [
    "df.head()"
   ]
  },
  {
   "cell_type": "code",
   "execution_count": 6,
   "metadata": {},
   "outputs": [
    {
     "data": {
      "text/plain": [
       "0             steve\n",
       "1           mcqueen\n",
       "2          provided\n",
       "3                 a\n",
       "4         thrilling\n",
       "            ...    \n",
       "166633           on\n",
       "166634            a\n",
       "166635     nicholas\n",
       "166636       sparks\n",
       "166637        novel\n",
       "Name: Text, Length: 158822, dtype: object"
      ]
     },
     "execution_count": 6,
     "metadata": {},
     "output_type": "execute_result"
    }
   ],
   "source": [
    "df['Text'].astype(str)"
   ]
  },
  {
   "cell_type": "code",
   "execution_count": 31,
   "metadata": {},
   "outputs": [
    {
     "ename": "TypeError",
     "evalue": "value_counts() got an unexpected keyword argument 'normalized'",
     "output_type": "error",
     "traceback": [
      "\u001b[0;31m---------------------------------------------------------------------------\u001b[0m",
      "\u001b[0;31mTypeError\u001b[0m                                 Traceback (most recent call last)",
      "\u001b[1;32m/home/mayara/Documentos/dados/NER/Named-Entity-Recognition/MITMovie/src/models/2BiLSTM.ipynb Cell 7'\u001b[0m in \u001b[0;36m<cell line: 1>\u001b[0;34m()\u001b[0m\n\u001b[0;32m----> <a href='vscode-notebook-cell:/home/mayara/Documentos/dados/NER/Named-Entity-Recognition/MITMovie/src/models/2BiLSTM.ipynb#ch0000030?line=0'>1</a>\u001b[0m df[df[\u001b[39m\"\u001b[39;49m\u001b[39mTag\u001b[39;49m\u001b[39m\"\u001b[39;49m]\u001b[39m!=\u001b[39;49m\u001b[39m\"\u001b[39;49m\u001b[39mO\u001b[39;49m\u001b[39m\"\u001b[39;49m][\u001b[39m\"\u001b[39;49m\u001b[39mTag\u001b[39;49m\u001b[39m\"\u001b[39;49m]\u001b[39m.\u001b[39;49mvalue_counts(normalized\u001b[39m=\u001b[39;49m\u001b[39mTrue\u001b[39;49;00m)\n",
      "\u001b[0;31mTypeError\u001b[0m: value_counts() got an unexpected keyword argument 'normalized'"
     ]
    }
   ],
   "source": [
    "df[df[\"Tag\"]!=\"O\"][\"Tag\"].value_counts(normalized=True)"
   ]
  },
  {
   "cell_type": "code",
   "execution_count": 7,
   "metadata": {},
   "outputs": [
    {
     "data": {
      "text/plain": [
       "<AxesSubplot:>"
      ]
     },
     "execution_count": 7,
     "metadata": {},
     "output_type": "execute_result"
    },
    {
     "data": {
      "image/png": "[encoded data removed]",
      "text/plain": [
       "<Figure size 720x360 with 1 Axes>"
      ]
     },
     "metadata": {
      "needs_background": "light"
     },
     "output_type": "display_data"
    }
   ],
   "source": [
    "df[df[\"Tag\"]!=\"O\"][\"Tag\"].value_counts().plot(kind=\"bar\", figsize=(10,5))"
   ]
  },
  {
   "cell_type": "code",
   "execution_count": 8,
   "metadata": {},
   "outputs": [
    {
     "data": {
      "text/plain": [
       "(7816, 1)"
      ]
     },
     "execution_count": 8,
     "metadata": {},
     "output_type": "execute_result"
    },
    {
     "data": {
      "image/png": "[encoded data removed]",
      "text/plain": [
       "<Figure size 576x432 with 1 Axes>"
      ]
     },
     "metadata": {
      "needs_background": "light"
     },
     "output_type": "display_data"
    }
   ],
   "source": [
    "word_counts = df.groupby(\"id\")[\"Text\"].agg([\"count\"])\n",
    "word_counts = word_counts.rename(columns={\"count\": \"Word count\"})\n",
    "word_counts.hist(bins=50, figsize=(8,6))\n",
    "word_counts.shape"
   ]
  },
  {
   "cell_type": "code",
   "execution_count": 9,
   "metadata": {},
   "outputs": [
    {
     "name": "stdout",
     "output_type": "stream",
     "text": [
      "Quantidade de documentos: 7816\n",
      "Number of unique words: 10986\n",
      "Quantidade de tags: 25\n"
     ]
    }
   ],
   "source": [
    "all_documents = list(set(df[\"id\"].values))\n",
    "num_documents = len(all_documents)\n",
    "\n",
    "all_tags = list(set(df[\"Tag\"].values))\n",
    "NUM_TAGS = len(all_tags)\n",
    "\n",
    "all_words = list(set(df[\"Text\"].values))\n",
    "VOCAB_SIZE = len(all_words)\n",
    "\n",
    "print(f'Quantidade de documentos: {num_documents}')\n",
    "print(f'Number of unique words: {VOCAB_SIZE}')\n",
    "print(f'Quantidade de tags: {NUM_TAGS}')"
   ]
  },
  {
   "cell_type": "code",
   "execution_count": 10,
   "metadata": {},
   "outputs": [
    {
     "name": "stdout",
     "output_type": "stream",
     "text": [
      "Longest sentence contains 71 words.\n"
     ]
    }
   ],
   "source": [
    "MAX_SENTENCE = word_counts.max()[0]\n",
    "print(f'Longest sentence contains {MAX_SENTENCE} words.')"
   ]
  },
  {
   "cell_type": "code",
   "execution_count": 11,
   "metadata": {},
   "outputs": [
    {
     "data": {
      "text/plain": [
       "{'I-Award': 0,\n",
       " 'B-Character_Name': 1,\n",
       " 'B-Genre': 2,\n",
       " 'I-Quote': 3,\n",
       " 'B-Plot': 4,\n",
       " 'B-Actor': 5,\n",
       " 'B-Quote': 6,\n",
       " 'O': 7,\n",
       " 'B-Award': 8,\n",
       " 'B-Opinion': 9,\n",
       " 'I-Genre': 10,\n",
       " 'I-Relationship': 11,\n",
       " 'I-Director': 12,\n",
       " 'I-Actor': 13,\n",
       " 'I-Soundtrack': 14,\n",
       " 'B-Origin': 15,\n",
       " 'B-Year': 16,\n",
       " 'B-Director': 17,\n",
       " 'B-Relationship': 18,\n",
       " 'I-Plot': 19,\n",
       " 'I-Year': 20,\n",
       " 'I-Character_Name': 21,\n",
       " 'I-Origin': 22,\n",
       " 'I-Opinion': 23,\n",
       " 'B-Soundtrack': 24}"
      ]
     },
     "execution_count": 11,
     "metadata": {},
     "output_type": "execute_result"
    }
   ],
   "source": [
    "tag_idx_dict = {tag: idx for idx, tag in enumerate(all_tags)}\n",
    "idx_tag_dict = {idx: tag for idx, tag in enumerate(all_tags)}\n",
    "\n",
    "tag_idx_dict"
   ]
  },
  {
   "cell_type": "code",
   "execution_count": 12,
   "metadata": {},
   "outputs": [
    {
     "name": "stdout",
     "output_type": "stream",
     "text": [
      "[('steve', 'B-Actor'), ('mcqueen', 'I-Actor'), ('provided', 'O'), ('a', 'O'), ('thrilling', 'B-Plot'), ('motorcycle', 'I-Plot'), ('chase', 'I-Plot'), ('in', 'I-Plot'), ('this', 'I-Plot'), ('greatest', 'B-Opinion')]\n"
     ]
    }
   ],
   "source": [
    "def to_tuples(data):\n",
    "    iterator = zip(data[\"Text\"].values.tolist(),\n",
    "                   data[\"Tag\"].values.tolist())\n",
    "    return [(word, tag) for word, tag in iterator]\n",
    "\n",
    "sentences = df.groupby(\"id\").apply(to_tuples).tolist()\n",
    "\n",
    "print(sentences[0][:10])"
   ]
  },
  {
   "cell_type": "code",
   "execution_count": 13,
   "metadata": {},
   "outputs": [],
   "source": [
    "df_idx = pd.DataFrame()\n",
    "\n",
    "df_idx['invoice_id'] = list(set(df['id']))\n",
    "df_idx['text_tag'] = sentences"
   ]
  },
  {
   "cell_type": "code",
   "execution_count": 14,
   "metadata": {},
   "outputs": [
    {
     "data": {
      "text/html": [
       "<div>\n",
       "<style scoped>\n",
       "    .dataframe tbody tr th:only-of-type {\n",
       "        vertical-align: middle;\n",
       "    }\n",
       "\n",
       "    .dataframe tbody tr th {\n",
       "        vertical-align: top;\n",
       "    }\n",
       "\n",
       "    .dataframe thead th {\n",
       "        text-align: right;\n",
       "    }\n",
       "</style>\n",
       "<table border=\"1\" class=\"dataframe\">\n",
       "  <thead>\n",
       "    <tr style=\"text-align: right;\">\n",
       "      <th></th>\n",
       "      <th>invoice_id</th>\n",
       "      <th>text_tag</th>\n",
       "    </tr>\n",
       "  </thead>\n",
       "  <tbody>\n",
       "    <tr>\n",
       "      <th>0</th>\n",
       "      <td>0</td>\n",
       "      <td>[(steve, B-Actor), (mcqueen, I-Actor), (provid...</td>\n",
       "    </tr>\n",
       "    <tr>\n",
       "      <th>1</th>\n",
       "      <td>1</td>\n",
       "      <td>[(liza, B-Actor), (minnelli, I-Actor), (and, O...</td>\n",
       "    </tr>\n",
       "    <tr>\n",
       "      <th>2</th>\n",
       "      <td>2</td>\n",
       "      <td>[(what, O), (is, O), (that, O), (tom, B-Actor)...</td>\n",
       "    </tr>\n",
       "    <tr>\n",
       "      <th>3</th>\n",
       "      <td>3</td>\n",
       "      <td>[(what, O), (is, O), (the, O), (movie, O), (ma...</td>\n",
       "    </tr>\n",
       "    <tr>\n",
       "      <th>4</th>\n",
       "      <td>4</td>\n",
       "      <td>[(i, O), (am, O), (thinking, O), (of, O), (an,...</td>\n",
       "    </tr>\n",
       "  </tbody>\n",
       "</table>\n",
       "</div>"
      ],
      "text/plain": [
       "   invoice_id                                           text_tag\n",
       "0           0  [(steve, B-Actor), (mcqueen, I-Actor), (provid...\n",
       "1           1  [(liza, B-Actor), (minnelli, I-Actor), (and, O...\n",
       "2           2  [(what, O), (is, O), (that, O), (tom, B-Actor)...\n",
       "3           3  [(what, O), (is, O), (the, O), (movie, O), (ma...\n",
       "4           4  [(i, O), (am, O), (thinking, O), (of, O), (an,..."
      ]
     },
     "execution_count": 14,
     "metadata": {},
     "output_type": "execute_result"
    }
   ],
   "source": [
    "df_idx.head()"
   ]
  },
  {
   "cell_type": "code",
   "execution_count": 15,
   "metadata": {},
   "outputs": [],
   "source": [
    "df_idx['text']=df_idx['text_tag'].apply(lambda text_tag:\" \".join([str(s[0]) for s in text_tag]))\n",
    "df_idx['tag']=df_idx['text_tag'].apply(lambda text_tag:\" \".join([str(s[1]) for s in text_tag]))"
   ]
  },
  {
   "cell_type": "code",
   "execution_count": 16,
   "metadata": {},
   "outputs": [
    {
     "data": {
      "text/html": [
       "<div>\n",
       "<style scoped>\n",
       "    .dataframe tbody tr th:only-of-type {\n",
       "        vertical-align: middle;\n",
       "    }\n",
       "\n",
       "    .dataframe tbody tr th {\n",
       "        vertical-align: top;\n",
       "    }\n",
       "\n",
       "    .dataframe thead th {\n",
       "        text-align: right;\n",
       "    }\n",
       "</style>\n",
       "<table border=\"1\" class=\"dataframe\">\n",
       "  <thead>\n",
       "    <tr style=\"text-align: right;\">\n",
       "      <th></th>\n",
       "      <th>invoice_id</th>\n",
       "      <th>text_tag</th>\n",
       "      <th>text</th>\n",
       "      <th>tag</th>\n",
       "    </tr>\n",
       "  </thead>\n",
       "  <tbody>\n",
       "    <tr>\n",
       "      <th>0</th>\n",
       "      <td>0</td>\n",
       "      <td>[(steve, B-Actor), (mcqueen, I-Actor), (provid...</td>\n",
       "      <td>steve mcqueen provided a thrilling motorcycle ...</td>\n",
       "      <td>B-Actor I-Actor O O B-Plot I-Plot I-Plot I-Plo...</td>\n",
       "    </tr>\n",
       "    <tr>\n",
       "      <th>1</th>\n",
       "      <td>1</td>\n",
       "      <td>[(liza, B-Actor), (minnelli, I-Actor), (and, O...</td>\n",
       "      <td>liza minnelli and joel gray won oscars for the...</td>\n",
       "      <td>B-Actor I-Actor O B-Actor I-Actor B-Award I-Aw...</td>\n",
       "    </tr>\n",
       "    <tr>\n",
       "      <th>2</th>\n",
       "      <td>2</td>\n",
       "      <td>[(what, O), (is, O), (that, O), (tom, B-Actor)...</td>\n",
       "      <td>what is that tom hanks and julia roberts movie...</td>\n",
       "      <td>O O O B-Actor I-Actor O B-Actor I-Actor O O B-...</td>\n",
       "    </tr>\n",
       "    <tr>\n",
       "      <th>3</th>\n",
       "      <td>3</td>\n",
       "      <td>[(what, O), (is, O), (the, O), (movie, O), (ma...</td>\n",
       "      <td>what is the movie making fun of macgyver by re...</td>\n",
       "      <td>O O O O B-Plot I-Plot I-Plot I-Plot I-Plot I-P...</td>\n",
       "    </tr>\n",
       "    <tr>\n",
       "      <th>4</th>\n",
       "      <td>4</td>\n",
       "      <td>[(i, O), (am, O), (thinking, O), (of, O), (an,...</td>\n",
       "      <td>i am thinking of an animated film based on a c...</td>\n",
       "      <td>O O O O O B-Genre O B-Origin I-Origin I-Origin...</td>\n",
       "    </tr>\n",
       "  </tbody>\n",
       "</table>\n",
       "</div>"
      ],
      "text/plain": [
       "   invoice_id                                           text_tag  \\\n",
       "0           0  [(steve, B-Actor), (mcqueen, I-Actor), (provid...   \n",
       "1           1  [(liza, B-Actor), (minnelli, I-Actor), (and, O...   \n",
       "2           2  [(what, O), (is, O), (that, O), (tom, B-Actor)...   \n",
       "3           3  [(what, O), (is, O), (the, O), (movie, O), (ma...   \n",
       "4           4  [(i, O), (am, O), (thinking, O), (of, O), (an,...   \n",
       "\n",
       "                                                text  \\\n",
       "0  steve mcqueen provided a thrilling motorcycle ...   \n",
       "1  liza minnelli and joel gray won oscars for the...   \n",
       "2  what is that tom hanks and julia roberts movie...   \n",
       "3  what is the movie making fun of macgyver by re...   \n",
       "4  i am thinking of an animated film based on a c...   \n",
       "\n",
       "                                                 tag  \n",
       "0  B-Actor I-Actor O O B-Plot I-Plot I-Plot I-Plo...  \n",
       "1  B-Actor I-Actor O B-Actor I-Actor B-Award I-Aw...  \n",
       "2  O O O B-Actor I-Actor O B-Actor I-Actor O O B-...  \n",
       "3  O O O O B-Plot I-Plot I-Plot I-Plot I-Plot I-P...  \n",
       "4  O O O O O B-Genre O B-Origin I-Origin I-Origin...  "
      ]
     },
     "execution_count": 16,
     "metadata": {},
     "output_type": "execute_result"
    }
   ],
   "source": [
    "df_idx.head()"
   ]
  },
  {
   "cell_type": "code",
   "execution_count": 17,
   "metadata": {},
   "outputs": [
    {
     "data": {
      "text/plain": [
       "(7816, 4)"
      ]
     },
     "execution_count": 17,
     "metadata": {},
     "output_type": "execute_result"
    }
   ],
   "source": [
    "df_idx.shape"
   ]
  },
  {
   "cell_type": "code",
   "execution_count": 18,
   "metadata": {},
   "outputs": [
    {
     "data": {
      "text/html": [
       "<div>\n",
       "<style scoped>\n",
       "    .dataframe tbody tr th:only-of-type {\n",
       "        vertical-align: middle;\n",
       "    }\n",
       "\n",
       "    .dataframe tbody tr th {\n",
       "        vertical-align: top;\n",
       "    }\n",
       "\n",
       "    .dataframe thead th {\n",
       "        text-align: right;\n",
       "    }\n",
       "</style>\n",
       "<table border=\"1\" class=\"dataframe\">\n",
       "  <thead>\n",
       "    <tr style=\"text-align: right;\">\n",
       "      <th></th>\n",
       "      <th>invoice_id</th>\n",
       "      <th>text_tag</th>\n",
       "      <th>text</th>\n",
       "      <th>tag</th>\n",
       "      <th>tokenized_text</th>\n",
       "      <th>tag_list</th>\n",
       "    </tr>\n",
       "  </thead>\n",
       "  <tbody>\n",
       "    <tr>\n",
       "      <th>0</th>\n",
       "      <td>0</td>\n",
       "      <td>[(steve, B-Actor), (mcqueen, I-Actor), (provid...</td>\n",
       "      <td>steve mcqueen provided a thrilling motorcycle ...</td>\n",
       "      <td>B-Actor I-Actor O O B-Plot I-Plot I-Plot I-Plo...</td>\n",
       "      <td>[steve, mcqueen, provided, a, thrilling, motor...</td>\n",
       "      <td>[B-Actor, I-Actor, O, O, B-Plot, I-Plot, I-Plo...</td>\n",
       "    </tr>\n",
       "    <tr>\n",
       "      <th>1</th>\n",
       "      <td>1</td>\n",
       "      <td>[(liza, B-Actor), (minnelli, I-Actor), (and, O...</td>\n",
       "      <td>liza minnelli and joel gray won oscars for the...</td>\n",
       "      <td>B-Actor I-Actor O B-Actor I-Actor B-Award I-Aw...</td>\n",
       "      <td>[liza, minnelli, and, joel, gray, won, oscars,...</td>\n",
       "      <td>[B-Actor, I-Actor, O, B-Actor, I-Actor, B-Awar...</td>\n",
       "    </tr>\n",
       "    <tr>\n",
       "      <th>2</th>\n",
       "      <td>2</td>\n",
       "      <td>[(what, O), (is, O), (that, O), (tom, B-Actor)...</td>\n",
       "      <td>what is that tom hanks and julia roberts movie...</td>\n",
       "      <td>O O O B-Actor I-Actor O B-Actor I-Actor O O B-...</td>\n",
       "      <td>[what, is, that, tom, hanks, and, julia, rober...</td>\n",
       "      <td>[O, O, O, B-Actor, I-Actor, O, B-Actor, I-Acto...</td>\n",
       "    </tr>\n",
       "    <tr>\n",
       "      <th>3</th>\n",
       "      <td>3</td>\n",
       "      <td>[(what, O), (is, O), (the, O), (movie, O), (ma...</td>\n",
       "      <td>what is the movie making fun of macgyver by re...</td>\n",
       "      <td>O O O O B-Plot I-Plot I-Plot I-Plot I-Plot I-P...</td>\n",
       "      <td>[what, is, the, movie, making, fun, of, macgyv...</td>\n",
       "      <td>[O, O, O, O, B-Plot, I-Plot, I-Plot, I-Plot, I...</td>\n",
       "    </tr>\n",
       "    <tr>\n",
       "      <th>4</th>\n",
       "      <td>4</td>\n",
       "      <td>[(i, O), (am, O), (thinking, O), (of, O), (an,...</td>\n",
       "      <td>i am thinking of an animated film based on a c...</td>\n",
       "      <td>O O O O O B-Genre O B-Origin I-Origin I-Origin...</td>\n",
       "      <td>[i, am, thinking, of, an, animated, film, base...</td>\n",
       "      <td>[O, O, O, O, O, B-Genre, O, B-Origin, I-Origin...</td>\n",
       "    </tr>\n",
       "  </tbody>\n",
       "</table>\n",
       "</div>"
      ],
      "text/plain": [
       "   invoice_id                                           text_tag  \\\n",
       "0           0  [(steve, B-Actor), (mcqueen, I-Actor), (provid...   \n",
       "1           1  [(liza, B-Actor), (minnelli, I-Actor), (and, O...   \n",
       "2           2  [(what, O), (is, O), (that, O), (tom, B-Actor)...   \n",
       "3           3  [(what, O), (is, O), (the, O), (movie, O), (ma...   \n",
       "4           4  [(i, O), (am, O), (thinking, O), (of, O), (an,...   \n",
       "\n",
       "                                                text  \\\n",
       "0  steve mcqueen provided a thrilling motorcycle ...   \n",
       "1  liza minnelli and joel gray won oscars for the...   \n",
       "2  what is that tom hanks and julia roberts movie...   \n",
       "3  what is the movie making fun of macgyver by re...   \n",
       "4  i am thinking of an animated film based on a c...   \n",
       "\n",
       "                                                 tag  \\\n",
       "0  B-Actor I-Actor O O B-Plot I-Plot I-Plot I-Plo...   \n",
       "1  B-Actor I-Actor O B-Actor I-Actor B-Award I-Aw...   \n",
       "2  O O O B-Actor I-Actor O B-Actor I-Actor O O B-...   \n",
       "3  O O O O B-Plot I-Plot I-Plot I-Plot I-Plot I-P...   \n",
       "4  O O O O O B-Genre O B-Origin I-Origin I-Origin...   \n",
       "\n",
       "                                      tokenized_text  \\\n",
       "0  [steve, mcqueen, provided, a, thrilling, motor...   \n",
       "1  [liza, minnelli, and, joel, gray, won, oscars,...   \n",
       "2  [what, is, that, tom, hanks, and, julia, rober...   \n",
       "3  [what, is, the, movie, making, fun, of, macgyv...   \n",
       "4  [i, am, thinking, of, an, animated, film, base...   \n",
       "\n",
       "                                            tag_list  \n",
       "0  [B-Actor, I-Actor, O, O, B-Plot, I-Plot, I-Plo...  \n",
       "1  [B-Actor, I-Actor, O, B-Actor, I-Actor, B-Awar...  \n",
       "2  [O, O, O, B-Actor, I-Actor, O, B-Actor, I-Acto...  \n",
       "3  [O, O, O, O, B-Plot, I-Plot, I-Plot, I-Plot, I...  \n",
       "4  [O, O, O, O, O, B-Genre, O, B-Origin, I-Origin...  "
      ]
     },
     "execution_count": 18,
     "metadata": {},
     "output_type": "execute_result"
    }
   ],
   "source": [
    "df_idx['tokenized_text']=df_idx['text'].apply(lambda x:x.split())\n",
    "df_idx['tag_list']=df_idx['tag'].apply(lambda x:x.split())\n",
    "df_idx.head()"
   ]
  },
  {
   "cell_type": "code",
   "execution_count": 19,
   "metadata": {},
   "outputs": [],
   "source": [
    "texts_list=df_idx['text'].tolist()\n",
    "tags_list=df_idx['tag_list'].tolist()"
   ]
  },
  {
   "cell_type": "code",
   "execution_count": 20,
   "metadata": {},
   "outputs": [
    {
     "name": "stdout",
     "output_type": "stream",
     "text": [
      "Vocab size of Tokenizer  10987\n"
     ]
    }
   ],
   "source": [
    "tokenizer = Tokenizer(lower=False, filters='!?~[]()^_{\"}\\'%')\n",
    "tokenizer.fit_on_texts(texts_list)\n",
    "encoded_text_list = tokenizer.texts_to_sequences(texts_list)\n",
    "\n",
    "print(\"Vocab size of Tokenizer \",len(tokenizer.word_index)+1)"
   ]
  },
  {
   "cell_type": "code",
   "execution_count": 21,
   "metadata": {},
   "outputs": [],
   "source": [
    "encoded_tags_list = [[tag_idx_dict[w] for w in tag] for tag in tags_list]"
   ]
  },
  {
   "cell_type": "code",
   "execution_count": 22,
   "metadata": {},
   "outputs": [],
   "source": [
    "padded_encoded_text_list = pad_sequences(maxlen=MAX_SENTENCE, sequences=encoded_text_list, padding=\"post\", value=0)\n",
    "padded_encoded_tags_list = pad_sequences(maxlen=MAX_SENTENCE, sequences=encoded_tags_list, padding=\"post\", value=tag_idx_dict['O'])"
   ]
  },
  {
   "cell_type": "code",
   "execution_count": 23,
   "metadata": {},
   "outputs": [],
   "source": [
    "dummy_tags = [to_categorical(i, num_classes=NUM_TAGS) for i in padded_encoded_tags_list]"
   ]
  },
  {
   "cell_type": "code",
   "execution_count": 24,
   "metadata": {},
   "outputs": [
    {
     "name": "stdout",
     "output_type": "stream",
     "text": [
      "train: 70%\n",
      "val: 10%\n",
      "test: 20%\n"
     ]
    }
   ],
   "source": [
    "# Train-val-test split\n",
    "X, y = split_dataset(padded_encoded_text_list, dummy_tags)"
   ]
  },
  {
   "cell_type": "code",
   "execution_count": 25,
   "metadata": {},
   "outputs": [
    {
     "name": "stdout",
     "output_type": "stream",
     "text": [
      "Model: \"model\"\n",
      "_________________________________________________________________\n",
      " Layer (type)                Output Shape              Param #   \n",
      "=================================================================\n",
      " input_1 (InputLayer)        [(None, 71)]              0         \n",
      "                                                                 \n",
      " embedding (Embedding)       (None, 71, 50)            549350    \n",
      "                                                                 \n",
      " bidirectional (Bidirectiona  (None, 71, 60)           19440     \n",
      " l)                                                              \n",
      "                                                                 \n",
      " dropout (Dropout)           (None, 71, 60)            0         \n",
      "                                                                 \n",
      " bidirectional_1 (Bidirectio  (None, 71, 60)           21840     \n",
      " nal)                                                            \n",
      "                                                                 \n",
      " dropout_1 (Dropout)         (None, 71, 60)            0         \n",
      "                                                                 \n",
      " dense (Dense)               (None, 71, 25)            1525      \n",
      "                                                                 \n",
      "=================================================================\n",
      "Total params: 592,155\n",
      "Trainable params: 592,155\n",
      "Non-trainable params: 0\n",
      "_________________________________________________________________\n",
      "Epoch 1/20\n",
      "684/684 [==============================] - 148s 197ms/step - loss: 0.0997 - accuracy: 0.8866 - val_loss: 0.0623 - val_accuracy: 0.9153\n",
      "Epoch 2/20\n",
      "684/684 [==============================] - 135s 197ms/step - loss: 0.0462 - accuracy: 0.9370 - val_loss: 0.0388 - val_accuracy: 0.9460\n",
      "Epoch 3/20\n",
      "684/684 [==============================] - 144s 211ms/step - loss: 0.0287 - accuracy: 0.9583 - val_loss: 0.0325 - val_accuracy: 0.9525\n",
      "Epoch 4/20\n",
      "684/684 [==============================] - 159s 232ms/step - loss: 0.0219 - accuracy: 0.9664 - val_loss: 0.0314 - val_accuracy: 0.9544\n",
      "Epoch 5/20\n",
      "684/684 [==============================] - 161s 235ms/step - loss: 0.0180 - accuracy: 0.9714 - val_loss: 0.0318 - val_accuracy: 0.9560\n",
      "Epoch 6/20\n",
      "684/684 [==============================] - 149s 217ms/step - loss: 0.0154 - accuracy: 0.9753 - val_loss: 0.0344 - val_accuracy: 0.9528\n",
      "Epoch 7/20\n",
      "684/684 [==============================] - 153s 224ms/step - loss: 0.0131 - accuracy: 0.9786 - val_loss: 0.0350 - val_accuracy: 0.9549\n",
      "Epoch 8/20\n",
      "684/684 [==============================] - 154s 225ms/step - loss: 0.0113 - accuracy: 0.9819 - val_loss: 0.0388 - val_accuracy: 0.9549\n",
      "Epoch 9/20\n",
      "684/684 [==============================] - 149s 219ms/step - loss: 0.0101 - accuracy: 0.9839 - val_loss: 0.0406 - val_accuracy: 0.9540\n",
      "Epoch 9: early stopping\n"
     ]
    }
   ],
   "source": [
    "model = create_model_2bilstm(MAX_SENTENCE, VOCAB_SIZE, NUM_TAGS)\n",
    "\n",
    "model.summary()\n",
    "\n",
    "model.compile(optimizer=Adam(learning_rate=0.001), \n",
    "                loss=SigmoidFocalCrossEntropy(), \n",
    "                metrics=['accuracy'])\n",
    "\n",
    "history = model.fit(X['train'],\n",
    "                    np.array(y['train']), \n",
    "                    validation_data=(X['val'], np.array(y['val'])),\n",
    "                    batch_size=8,\n",
    "                    callbacks=EarlyStopping(monitor='val_loss', mode='min', verbose=1, patience=5),\n",
    "                    epochs=20)"
   ]
  },
  {
   "cell_type": "code",
   "execution_count": 26,
   "metadata": {},
   "outputs": [
    {
     "data": {
      "image/png": "[encoded data removed]",
      "text/plain": [
       "<Figure size 432x288 with 1 Axes>"
      ]
     },
     "metadata": {
      "needs_background": "light"
     },
     "output_type": "display_data"
    }
   ],
   "source": [
    "plt.plot(history.history['loss'])\n",
    "plt.plot(history.history['val_loss'])\n",
    "plt.title('Model loss')\n",
    "plt.ylabel('Loss')\n",
    "plt.xlabel('Epoch')\n",
    "plt.legend(['Train', 'Validation'], loc='upper left')\n",
    "plt.show()"
   ]
  },
  {
   "cell_type": "code",
   "execution_count": 27,
   "metadata": {},
   "outputs": [
    {
     "data": {
      "image/png": "[encoded data removed]",
      "text/plain": [
       "<Figure size 432x288 with 1 Axes>"
      ]
     },
     "metadata": {
      "needs_background": "light"
     },
     "output_type": "display_data"
    }
   ],
   "source": [
    "plt.plot(history.history['accuracy'])\n",
    "plt.plot(history.history['val_accuracy'])\n",
    "plt.title('Model Accuracy')\n",
    "plt.ylabel('Accuracy')\n",
    "plt.xlabel('Epoch')\n",
    "plt.legend(['Train', 'Validation'], loc='upper left')\n",
    "plt.show()"
   ]
  },
  {
   "cell_type": "code",
   "execution_count": 28,
   "metadata": {},
   "outputs": [
    {
     "name": "stdout",
     "output_type": "stream",
     "text": [
      "25/25 [==============================] - 5s 38ms/step\n",
      "Accuracy: 0.9540182270091135\n",
      "F1-score: 0.6059595749114399\n"
     ]
    }
   ],
   "source": [
    "y_pred = model.predict(X['val'])\n",
    "\n",
    "pred_index_array = np.argmax(y_pred, axis=-1)\n",
    "val_index_array = np.argmax(y['val'], axis=-1)\n",
    "\n",
    "real_tag, pred_tag = prepare_to_eval(idx_tag_dict, val_index_array, pred_index_array)\n",
    "\n",
    "print(f'Accuracy: {accuracy_score(real_tag, pred_tag)}')\n",
    "print(f'F1-score: {f1_score(real_tag, pred_tag)}')"
   ]
  },
  {
   "cell_type": "code",
   "execution_count": 29,
   "metadata": {},
   "outputs": [
    {
     "name": "stdout",
     "output_type": "stream",
     "text": [
      "49/49 [==============================] - 2s 46ms/step\n",
      "Accuracy: 0.9507582579878247\n",
      "F1-score: 0.5817873423089154\n"
     ]
    }
   ],
   "source": [
    "y_pred = model.predict(X['test'])\n",
    "\n",
    "pred_index_array = np.argmax(y_pred, axis=-1)\n",
    "test_index_array = np.argmax(y['test'], axis=-1)\n",
    "\n",
    "real_tag, pred_tag = prepare_to_eval(idx_tag_dict, test_index_array, pred_index_array)\n",
    "\n",
    "print(f'Accuracy: {accuracy_score(real_tag, pred_tag)}')\n",
    "print(f'F1-score: {f1_score(real_tag, pred_tag)}')"
   ]
  },
  {
   "cell_type": "code",
   "execution_count": 30,
   "metadata": {},
   "outputs": [
    {
     "name": "stdout",
     "output_type": "stream",
     "text": [
      "                precision    recall  f1-score   support\n",
      "\n",
      "         Actor       0.89      0.86      0.88       967\n",
      "         Award       0.46      0.48      0.47        62\n",
      "Character_Name       0.38      0.40      0.39       216\n",
      "      Director       0.73      0.83      0.78       357\n",
      "         Genre       0.64      0.65      0.65       684\n",
      "       Opinion       0.34      0.42      0.38       165\n",
      "        Origin       0.22      0.21      0.21       157\n",
      "          Plot       0.30      0.33      0.31      1321\n",
      "         Quote       0.05      0.11      0.06        19\n",
      "  Relationship       0.29      0.24      0.26       134\n",
      "    Soundtrack       0.00      0.00      0.00        11\n",
      "          Year       0.93      0.95      0.94       500\n",
      "\n",
      "     micro avg       0.57      0.60      0.58      4593\n",
      "     macro avg       0.44      0.46      0.44      4593\n",
      "  weighted avg       0.58      0.60      0.59      4593\n",
      "\n"
     ]
    }
   ],
   "source": [
    "print(classification_report(real_tag, pred_tag, zero_division=0))"
   ]
  }
 ],
 "metadata": {
  "interpreter": {
   "hash": "ad522d30e3dfc0e14e6af11be4b6def96f4bde859e5802fc4a9db0a62ee0582b"
  },
  "kernelspec": {
   "display_name": "Python 3.8.10 ('.venv': poetry)",
   "language": "python",
   "name": "python3"
  },
  "language_info": {
   "codemirror_mode": {
    "name": "ipython",
    "version": 3
   },
   "file_extension": ".py",
   "mimetype": "text/x-python",
   "name": "python",
   "nbconvert_exporter": "python",
   "pygments_lexer": "ipython3",
   "version": "3.8.10"
  },
  "orig_nbformat": 4
 },
 "nbformat": 4,
 "nbformat_minor": 2
}
