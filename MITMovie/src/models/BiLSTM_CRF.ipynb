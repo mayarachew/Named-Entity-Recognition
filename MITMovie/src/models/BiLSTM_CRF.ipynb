{
 "cells": [
  {
   "cell_type": "code",
   "execution_count": 1,
   "metadata": {},
   "outputs": [
    {
     "name": "stderr",
     "output_type": "stream",
     "text": [
      "2022-08-18 00:54:24.238329: W tensorflow/stream_executor/platform/default/dso_loader.cc:64] Could not load dynamic library 'libcudart.so.11.0'; dlerror: libcudart.so.11.0: cannot open shared object file: No such file or directory\n",
      "2022-08-18 00:54:24.238365: I tensorflow/stream_executor/cuda/cudart_stub.cc:29] Ignore above cudart dlerror if you do not have a GPU set up on your machine.\n"
     ]
    }
   ],
   "source": [
    "import pandas as pd\n",
    "import numpy as np\n",
    "import sys\n",
    "sys.path.append('..')\n",
    "\n",
    "from functions.split_dataset import split_dataset, prepare_to_eval\n",
    "from functions.create_model import create_model_bilstmcrf\n",
    "\n",
    "import matplotlib.pyplot as plt\n",
    "\n",
    "from tensorflow.keras.preprocessing.text import Tokenizer\n",
    "\n",
    "from tensorflow.keras.callbacks import EarlyStopping\n",
    "from tensorflow.keras.optimizers import Adam\n",
    "from seqeval.metrics import f1_score, classification_report, accuracy_score\n",
    "from keras import backend as K\n",
    "from tensorflow.keras.preprocessing.sequence import pad_sequences\n",
    "from tensorflow.keras.utils import to_categorical\n",
    "\n",
    "from tensorflow_addons.losses import SigmoidFocalCrossEntropy"
   ]
  },
  {
   "cell_type": "code",
   "execution_count": 2,
   "metadata": {},
   "outputs": [
    {
     "name": "stderr",
     "output_type": "stream",
     "text": [
      "2022-08-18 00:54:26.577789: I tensorflow/core/platform/cpu_feature_guard.cc:193] This TensorFlow binary is optimized with oneAPI Deep Neural Network Library (oneDNN) to use the following CPU instructions in performance-critical operations:  AVX2 FMA\n",
      "To enable them in other operations, rebuild TensorFlow with the appropriate compiler flags.\n",
      "2022-08-18 00:54:26.629552: E tensorflow/stream_executor/cuda/cuda_driver.cc:271] failed call to cuInit: CUDA_ERROR_NO_DEVICE: no CUDA-capable device is detected\n",
      "2022-08-18 00:54:26.629588: I tensorflow/stream_executor/cuda/cuda_diagnostics.cc:156] kernel driver does not appear to be running on this host (meilux): /proc/driver/nvidia/version does not exist\n"
     ]
    },
    {
     "name": "stdout",
     "output_type": "stream",
     "text": [
      "WARNING:tensorflow:From /tmp/ipykernel_68574/741246941.py:24: The name tf.keras.backend.set_session is deprecated. Please use tf.compat.v1.keras.backend.set_session instead.\n",
      "\n"
     ]
    }
   ],
   "source": [
    "seed_value = 42\n",
    "\n",
    "# 1. Set the `PYTHONHASHSEED` environment variable at a fixed value\n",
    "import os\n",
    "os.environ['PYTHONHASHSEED']=str(seed_value)\n",
    "\n",
    "# 2. Set the `python` built-in pseudo-random generator at a fixed value\n",
    "import random\n",
    "random.seed(seed_value)\n",
    "\n",
    "# 3. Set the `numpy` pseudo-random generator at a fixed value\n",
    "import numpy as np\n",
    "np.random.seed(seed_value)\n",
    "\n",
    "# 4. Set the `tensorflow` pseudo-random generator at a fixed value\n",
    "import tensorflow as tf\n",
    "tf.random.set_seed(seed_value)\n",
    "# for later versions: \n",
    "# tf.compat.v1.set_random_seed(seed_value)\n",
    "\n",
    "# 5. Configure a new global `tensorflow` session\n",
    "session_conf = tf.compat.v1.ConfigProto(intra_op_parallelism_threads=1, inter_op_parallelism_threads=1)\n",
    "sess = tf.compat.v1.Session(graph=tf.compat.v1.get_default_graph(), config=session_conf)\n",
    "tf.compat.v1.keras.backend.set_session(sess)"
   ]
  },
  {
   "cell_type": "code",
   "execution_count": 3,
   "metadata": {},
   "outputs": [
    {
     "data": {
      "text/html": [
       "<div>\n",
       "<style scoped>\n",
       "    .dataframe tbody tr th:only-of-type {\n",
       "        vertical-align: middle;\n",
       "    }\n",
       "\n",
       "    .dataframe tbody tr th {\n",
       "        vertical-align: top;\n",
       "    }\n",
       "\n",
       "    .dataframe thead th {\n",
       "        text-align: right;\n",
       "    }\n",
       "</style>\n",
       "<table border=\"1\" class=\"dataframe\">\n",
       "  <thead>\n",
       "    <tr style=\"text-align: right;\">\n",
       "      <th></th>\n",
       "      <th>Tag</th>\n",
       "      <th>Text</th>\n",
       "    </tr>\n",
       "  </thead>\n",
       "  <tbody>\n",
       "    <tr>\n",
       "      <th>0</th>\n",
       "      <td>B-Actor</td>\n",
       "      <td>steve</td>\n",
       "    </tr>\n",
       "    <tr>\n",
       "      <th>1</th>\n",
       "      <td>I-Actor</td>\n",
       "      <td>mcqueen</td>\n",
       "    </tr>\n",
       "    <tr>\n",
       "      <th>2</th>\n",
       "      <td>O</td>\n",
       "      <td>provided</td>\n",
       "    </tr>\n",
       "    <tr>\n",
       "      <th>3</th>\n",
       "      <td>O</td>\n",
       "      <td>a</td>\n",
       "    </tr>\n",
       "    <tr>\n",
       "      <th>4</th>\n",
       "      <td>B-Plot</td>\n",
       "      <td>thrilling</td>\n",
       "    </tr>\n",
       "    <tr>\n",
       "      <th>5</th>\n",
       "      <td>I-Plot</td>\n",
       "      <td>motorcycle</td>\n",
       "    </tr>\n",
       "    <tr>\n",
       "      <th>6</th>\n",
       "      <td>I-Plot</td>\n",
       "      <td>chase</td>\n",
       "    </tr>\n",
       "    <tr>\n",
       "      <th>7</th>\n",
       "      <td>I-Plot</td>\n",
       "      <td>in</td>\n",
       "    </tr>\n",
       "    <tr>\n",
       "      <th>8</th>\n",
       "      <td>I-Plot</td>\n",
       "      <td>this</td>\n",
       "    </tr>\n",
       "    <tr>\n",
       "      <th>9</th>\n",
       "      <td>B-Opinion</td>\n",
       "      <td>greatest</td>\n",
       "    </tr>\n",
       "    <tr>\n",
       "      <th>10</th>\n",
       "      <td>I-Opinion</td>\n",
       "      <td>of</td>\n",
       "    </tr>\n",
       "    <tr>\n",
       "      <th>11</th>\n",
       "      <td>I-Opinion</td>\n",
       "      <td>all</td>\n",
       "    </tr>\n",
       "    <tr>\n",
       "      <th>12</th>\n",
       "      <td>B-Plot</td>\n",
       "      <td>ww</td>\n",
       "    </tr>\n",
       "    <tr>\n",
       "      <th>13</th>\n",
       "      <td>I-Plot</td>\n",
       "      <td>2</td>\n",
       "    </tr>\n",
       "    <tr>\n",
       "      <th>14</th>\n",
       "      <td>I-Plot</td>\n",
       "      <td>prison</td>\n",
       "    </tr>\n",
       "    <tr>\n",
       "      <th>15</th>\n",
       "      <td>I-Plot</td>\n",
       "      <td>escape</td>\n",
       "    </tr>\n",
       "    <tr>\n",
       "      <th>16</th>\n",
       "      <td>I-Plot</td>\n",
       "      <td>movies</td>\n",
       "    </tr>\n",
       "    <tr>\n",
       "      <th>17</th>\n",
       "      <td>NaN</td>\n",
       "      <td>NaN</td>\n",
       "    </tr>\n",
       "    <tr>\n",
       "      <th>18</th>\n",
       "      <td>B-Actor</td>\n",
       "      <td>liza</td>\n",
       "    </tr>\n",
       "    <tr>\n",
       "      <th>19</th>\n",
       "      <td>I-Actor</td>\n",
       "      <td>minnelli</td>\n",
       "    </tr>\n",
       "  </tbody>\n",
       "</table>\n",
       "</div>"
      ],
      "text/plain": [
       "          Tag        Text\n",
       "0     B-Actor       steve\n",
       "1     I-Actor     mcqueen\n",
       "2           O    provided\n",
       "3           O           a\n",
       "4      B-Plot   thrilling\n",
       "5      I-Plot  motorcycle\n",
       "6      I-Plot       chase\n",
       "7      I-Plot          in\n",
       "8      I-Plot        this\n",
       "9   B-Opinion    greatest\n",
       "10  I-Opinion          of\n",
       "11  I-Opinion         all\n",
       "12     B-Plot          ww\n",
       "13     I-Plot           2\n",
       "14     I-Plot      prison\n",
       "15     I-Plot      escape\n",
       "16     I-Plot      movies\n",
       "17        NaN         NaN\n",
       "18    B-Actor        liza\n",
       "19    I-Actor    minnelli"
      ]
     },
     "execution_count": 3,
     "metadata": {},
     "output_type": "execute_result"
    }
   ],
   "source": [
    "dataset_path = '../../data/trivia10k13train.bio.csv'\n",
    "\n",
    "df = pd.read_csv(dataset_path, sep=\"\\t\", skip_blank_lines=False)\n",
    "df[:20]"
   ]
  },
  {
   "cell_type": "code",
   "execution_count": 4,
   "metadata": {},
   "outputs": [
    {
     "data": {
      "text/html": [
       "<div>\n",
       "<style scoped>\n",
       "    .dataframe tbody tr th:only-of-type {\n",
       "        vertical-align: middle;\n",
       "    }\n",
       "\n",
       "    .dataframe tbody tr th {\n",
       "        vertical-align: top;\n",
       "    }\n",
       "\n",
       "    .dataframe thead th {\n",
       "        text-align: right;\n",
       "    }\n",
       "</style>\n",
       "<table border=\"1\" class=\"dataframe\">\n",
       "  <thead>\n",
       "    <tr style=\"text-align: right;\">\n",
       "      <th></th>\n",
       "      <th>Tag</th>\n",
       "      <th>Text</th>\n",
       "      <th>id</th>\n",
       "    </tr>\n",
       "  </thead>\n",
       "  <tbody>\n",
       "    <tr>\n",
       "      <th>0</th>\n",
       "      <td>B-Actor</td>\n",
       "      <td>steve</td>\n",
       "      <td>0</td>\n",
       "    </tr>\n",
       "    <tr>\n",
       "      <th>1</th>\n",
       "      <td>I-Actor</td>\n",
       "      <td>mcqueen</td>\n",
       "      <td>0</td>\n",
       "    </tr>\n",
       "    <tr>\n",
       "      <th>2</th>\n",
       "      <td>O</td>\n",
       "      <td>provided</td>\n",
       "      <td>0</td>\n",
       "    </tr>\n",
       "    <tr>\n",
       "      <th>3</th>\n",
       "      <td>O</td>\n",
       "      <td>a</td>\n",
       "      <td>0</td>\n",
       "    </tr>\n",
       "    <tr>\n",
       "      <th>4</th>\n",
       "      <td>B-Plot</td>\n",
       "      <td>thrilling</td>\n",
       "      <td>0</td>\n",
       "    </tr>\n",
       "    <tr>\n",
       "      <th>5</th>\n",
       "      <td>I-Plot</td>\n",
       "      <td>motorcycle</td>\n",
       "      <td>0</td>\n",
       "    </tr>\n",
       "    <tr>\n",
       "      <th>6</th>\n",
       "      <td>I-Plot</td>\n",
       "      <td>chase</td>\n",
       "      <td>0</td>\n",
       "    </tr>\n",
       "    <tr>\n",
       "      <th>7</th>\n",
       "      <td>I-Plot</td>\n",
       "      <td>in</td>\n",
       "      <td>0</td>\n",
       "    </tr>\n",
       "    <tr>\n",
       "      <th>8</th>\n",
       "      <td>I-Plot</td>\n",
       "      <td>this</td>\n",
       "      <td>0</td>\n",
       "    </tr>\n",
       "    <tr>\n",
       "      <th>9</th>\n",
       "      <td>B-Opinion</td>\n",
       "      <td>greatest</td>\n",
       "      <td>0</td>\n",
       "    </tr>\n",
       "    <tr>\n",
       "      <th>10</th>\n",
       "      <td>I-Opinion</td>\n",
       "      <td>of</td>\n",
       "      <td>0</td>\n",
       "    </tr>\n",
       "    <tr>\n",
       "      <th>11</th>\n",
       "      <td>I-Opinion</td>\n",
       "      <td>all</td>\n",
       "      <td>0</td>\n",
       "    </tr>\n",
       "    <tr>\n",
       "      <th>12</th>\n",
       "      <td>B-Plot</td>\n",
       "      <td>ww</td>\n",
       "      <td>0</td>\n",
       "    </tr>\n",
       "    <tr>\n",
       "      <th>13</th>\n",
       "      <td>I-Plot</td>\n",
       "      <td>2</td>\n",
       "      <td>0</td>\n",
       "    </tr>\n",
       "    <tr>\n",
       "      <th>14</th>\n",
       "      <td>I-Plot</td>\n",
       "      <td>prison</td>\n",
       "      <td>0</td>\n",
       "    </tr>\n",
       "    <tr>\n",
       "      <th>15</th>\n",
       "      <td>I-Plot</td>\n",
       "      <td>escape</td>\n",
       "      <td>0</td>\n",
       "    </tr>\n",
       "    <tr>\n",
       "      <th>16</th>\n",
       "      <td>I-Plot</td>\n",
       "      <td>movies</td>\n",
       "      <td>0</td>\n",
       "    </tr>\n",
       "    <tr>\n",
       "      <th>18</th>\n",
       "      <td>B-Actor</td>\n",
       "      <td>liza</td>\n",
       "      <td>1</td>\n",
       "    </tr>\n",
       "    <tr>\n",
       "      <th>19</th>\n",
       "      <td>I-Actor</td>\n",
       "      <td>minnelli</td>\n",
       "      <td>1</td>\n",
       "    </tr>\n",
       "    <tr>\n",
       "      <th>20</th>\n",
       "      <td>O</td>\n",
       "      <td>and</td>\n",
       "      <td>1</td>\n",
       "    </tr>\n",
       "  </tbody>\n",
       "</table>\n",
       "</div>"
      ],
      "text/plain": [
       "          Tag        Text  id\n",
       "0     B-Actor       steve   0\n",
       "1     I-Actor     mcqueen   0\n",
       "2           O    provided   0\n",
       "3           O           a   0\n",
       "4      B-Plot   thrilling   0\n",
       "5      I-Plot  motorcycle   0\n",
       "6      I-Plot       chase   0\n",
       "7      I-Plot          in   0\n",
       "8      I-Plot        this   0\n",
       "9   B-Opinion    greatest   0\n",
       "10  I-Opinion          of   0\n",
       "11  I-Opinion         all   0\n",
       "12     B-Plot          ww   0\n",
       "13     I-Plot           2   0\n",
       "14     I-Plot      prison   0\n",
       "15     I-Plot      escape   0\n",
       "16     I-Plot      movies   0\n",
       "18    B-Actor        liza   1\n",
       "19    I-Actor    minnelli   1\n",
       "20          O         and   1"
      ]
     },
     "execution_count": 4,
     "metadata": {},
     "output_type": "execute_result"
    }
   ],
   "source": [
    "id_list = []\n",
    "id = 0\n",
    "\n",
    "def isNaN(string):\n",
    "    return string != string\n",
    "\n",
    "for tag, text in zip(df['Tag'], df['Text']):\n",
    "    if isNaN(tag):\n",
    "        id += 1\n",
    "    id_list.append(id)\n",
    "\n",
    "df['id'] = id_list\n",
    "df = df.dropna()\n",
    "df[:20]"
   ]
  },
  {
   "cell_type": "code",
   "execution_count": 5,
   "metadata": {},
   "outputs": [
    {
     "data": {
      "text/html": [
       "<div>\n",
       "<style scoped>\n",
       "    .dataframe tbody tr th:only-of-type {\n",
       "        vertical-align: middle;\n",
       "    }\n",
       "\n",
       "    .dataframe tbody tr th {\n",
       "        vertical-align: top;\n",
       "    }\n",
       "\n",
       "    .dataframe thead th {\n",
       "        text-align: right;\n",
       "    }\n",
       "</style>\n",
       "<table border=\"1\" class=\"dataframe\">\n",
       "  <thead>\n",
       "    <tr style=\"text-align: right;\">\n",
       "      <th></th>\n",
       "      <th>Tag</th>\n",
       "      <th>Text</th>\n",
       "      <th>id</th>\n",
       "    </tr>\n",
       "  </thead>\n",
       "  <tbody>\n",
       "    <tr>\n",
       "      <th>0</th>\n",
       "      <td>B-Actor</td>\n",
       "      <td>steve</td>\n",
       "      <td>0</td>\n",
       "    </tr>\n",
       "    <tr>\n",
       "      <th>1</th>\n",
       "      <td>I-Actor</td>\n",
       "      <td>mcqueen</td>\n",
       "      <td>0</td>\n",
       "    </tr>\n",
       "    <tr>\n",
       "      <th>2</th>\n",
       "      <td>O</td>\n",
       "      <td>provided</td>\n",
       "      <td>0</td>\n",
       "    </tr>\n",
       "    <tr>\n",
       "      <th>3</th>\n",
       "      <td>O</td>\n",
       "      <td>a</td>\n",
       "      <td>0</td>\n",
       "    </tr>\n",
       "    <tr>\n",
       "      <th>4</th>\n",
       "      <td>B-Plot</td>\n",
       "      <td>thrilling</td>\n",
       "      <td>0</td>\n",
       "    </tr>\n",
       "  </tbody>\n",
       "</table>\n",
       "</div>"
      ],
      "text/plain": [
       "       Tag       Text  id\n",
       "0  B-Actor      steve   0\n",
       "1  I-Actor    mcqueen   0\n",
       "2        O   provided   0\n",
       "3        O          a   0\n",
       "4   B-Plot  thrilling   0"
      ]
     },
     "execution_count": 5,
     "metadata": {},
     "output_type": "execute_result"
    }
   ],
   "source": [
    "df.head()"
   ]
  },
  {
   "cell_type": "code",
   "execution_count": 6,
   "metadata": {},
   "outputs": [
    {
     "data": {
      "text/plain": [
       "0             steve\n",
       "1           mcqueen\n",
       "2          provided\n",
       "3                 a\n",
       "4         thrilling\n",
       "            ...    \n",
       "166633           on\n",
       "166634            a\n",
       "166635     nicholas\n",
       "166636       sparks\n",
       "166637        novel\n",
       "Name: Text, Length: 158822, dtype: object"
      ]
     },
     "execution_count": 6,
     "metadata": {},
     "output_type": "execute_result"
    }
   ],
   "source": [
    "df['Text'].astype(str)"
   ]
  },
  {
   "cell_type": "code",
   "execution_count": 7,
   "metadata": {},
   "outputs": [
    {
     "name": "stdout",
     "output_type": "stream",
     "text": [
      "Quantidade de documentos: 7816\n",
      "Number of unique words: 10986\n",
      "Quantidade de tags: 25\n"
     ]
    }
   ],
   "source": [
    "all_documents = list(set(df[\"id\"].values))\n",
    "num_documents = len(all_documents)\n",
    "\n",
    "all_tags = list(set(df[\"Tag\"].values))\n",
    "NUM_TAGS = len(all_tags)\n",
    "\n",
    "all_words = list(set(df[\"Text\"].values))\n",
    "VOCAB_SIZE = len(all_words)\n",
    "\n",
    "print(f'Quantidade de documentos: {num_documents}')\n",
    "print(f'Number of unique words: {VOCAB_SIZE}')\n",
    "print(f'Quantidade de tags: {NUM_TAGS}')"
   ]
  },
  {
   "cell_type": "code",
   "execution_count": 8,
   "metadata": {},
   "outputs": [
    {
     "data": {
      "text/plain": [
       "<AxesSubplot:>"
      ]
     },
     "execution_count": 8,
     "metadata": {},
     "output_type": "execute_result"
    },
    {
     "data": {
      "image/png": "[encoded data removed]",
      "text/plain": [
       "<Figure size 720x360 with 1 Axes>"
      ]
     },
     "metadata": {
      "needs_background": "light"
     },
     "output_type": "display_data"
    }
   ],
   "source": [
    "df[df[\"Tag\"]!=\"O\"][\"Tag\"].value_counts().plot(kind=\"bar\", figsize=(10,5))"
   ]
  },
  {
   "cell_type": "code",
   "execution_count": 9,
   "metadata": {},
   "outputs": [
    {
     "data": {
      "text/plain": [
       "(7816, 1)"
      ]
     },
     "execution_count": 9,
     "metadata": {},
     "output_type": "execute_result"
    },
    {
     "data": {
      "image/png": "[encoded data removed]",
      "text/plain": [
       "<Figure size 576x432 with 1 Axes>"
      ]
     },
     "metadata": {
      "needs_background": "light"
     },
     "output_type": "display_data"
    }
   ],
   "source": [
    "word_counts = df.groupby(\"id\")[\"Text\"].agg([\"count\"])\n",
    "word_counts = word_counts.rename(columns={\"count\": \"Word count\"})\n",
    "word_counts.hist(bins=50, figsize=(8,6))\n",
    "word_counts.shape"
   ]
  },
  {
   "cell_type": "code",
   "execution_count": 10,
   "metadata": {},
   "outputs": [
    {
     "name": "stdout",
     "output_type": "stream",
     "text": [
      "Longest sentence contains 71 words.\n"
     ]
    }
   ],
   "source": [
    "MAX_SENTENCE = word_counts.max()[0]\n",
    "print(f'Longest sentence contains {MAX_SENTENCE} words.')"
   ]
  },
  {
   "cell_type": "code",
   "execution_count": 11,
   "metadata": {},
   "outputs": [
    {
     "data": {
      "text/plain": [
       "{'I-Origin': 0,\n",
       " 'I-Quote': 1,\n",
       " 'B-Opinion': 2,\n",
       " 'B-Award': 3,\n",
       " 'I-Opinion': 4,\n",
       " 'O': 5,\n",
       " 'I-Relationship': 6,\n",
       " 'B-Character_Name': 7,\n",
       " 'B-Origin': 8,\n",
       " 'B-Plot': 9,\n",
       " 'I-Actor': 10,\n",
       " 'I-Genre': 11,\n",
       " 'B-Year': 12,\n",
       " 'I-Character_Name': 13,\n",
       " 'I-Plot': 14,\n",
       " 'I-Director': 15,\n",
       " 'I-Soundtrack': 16,\n",
       " 'I-Award': 17,\n",
       " 'B-Quote': 18,\n",
       " 'B-Genre': 19,\n",
       " 'B-Actor': 20,\n",
       " 'B-Soundtrack': 21,\n",
       " 'I-Year': 22,\n",
       " 'B-Director': 23,\n",
       " 'B-Relationship': 24}"
      ]
     },
     "execution_count": 11,
     "metadata": {},
     "output_type": "execute_result"
    }
   ],
   "source": [
    "tag_idx_dict = {tag: idx for idx, tag in enumerate(all_tags)}\n",
    "idx_tag_dict = {idx: tag for idx, tag in enumerate(all_tags)}\n",
    "\n",
    "tag_idx_dict"
   ]
  },
  {
   "cell_type": "code",
   "execution_count": 12,
   "metadata": {},
   "outputs": [
    {
     "name": "stdout",
     "output_type": "stream",
     "text": [
      "[('steve', 'B-Actor'), ('mcqueen', 'I-Actor'), ('provided', 'O'), ('a', 'O'), ('thrilling', 'B-Plot'), ('motorcycle', 'I-Plot'), ('chase', 'I-Plot'), ('in', 'I-Plot'), ('this', 'I-Plot'), ('greatest', 'B-Opinion')]\n"
     ]
    }
   ],
   "source": [
    "def to_tuples(data):\n",
    "    iterator = zip(data[\"Text\"].values.tolist(),\n",
    "                   data[\"Tag\"].values.tolist())\n",
    "    return [(word, tag) for word, tag in iterator]\n",
    "\n",
    "sentences = df.groupby(\"id\").apply(to_tuples).tolist()\n",
    "\n",
    "print(sentences[0][:10])"
   ]
  },
  {
   "cell_type": "code",
   "execution_count": 13,
   "metadata": {},
   "outputs": [],
   "source": [
    "df_idx = pd.DataFrame()\n",
    "\n",
    "df_idx['invoice_id'] = list(set(df['id']))\n",
    "df_idx['text_tag'] = sentences"
   ]
  },
  {
   "cell_type": "code",
   "execution_count": 14,
   "metadata": {},
   "outputs": [
    {
     "data": {
      "text/html": [
       "<div>\n",
       "<style scoped>\n",
       "    .dataframe tbody tr th:only-of-type {\n",
       "        vertical-align: middle;\n",
       "    }\n",
       "\n",
       "    .dataframe tbody tr th {\n",
       "        vertical-align: top;\n",
       "    }\n",
       "\n",
       "    .dataframe thead th {\n",
       "        text-align: right;\n",
       "    }\n",
       "</style>\n",
       "<table border=\"1\" class=\"dataframe\">\n",
       "  <thead>\n",
       "    <tr style=\"text-align: right;\">\n",
       "      <th></th>\n",
       "      <th>invoice_id</th>\n",
       "      <th>text_tag</th>\n",
       "    </tr>\n",
       "  </thead>\n",
       "  <tbody>\n",
       "    <tr>\n",
       "      <th>0</th>\n",
       "      <td>0</td>\n",
       "      <td>[(steve, B-Actor), (mcqueen, I-Actor), (provid...</td>\n",
       "    </tr>\n",
       "    <tr>\n",
       "      <th>1</th>\n",
       "      <td>1</td>\n",
       "      <td>[(liza, B-Actor), (minnelli, I-Actor), (and, O...</td>\n",
       "    </tr>\n",
       "    <tr>\n",
       "      <th>2</th>\n",
       "      <td>2</td>\n",
       "      <td>[(what, O), (is, O), (that, O), (tom, B-Actor)...</td>\n",
       "    </tr>\n",
       "    <tr>\n",
       "      <th>3</th>\n",
       "      <td>3</td>\n",
       "      <td>[(what, O), (is, O), (the, O), (movie, O), (ma...</td>\n",
       "    </tr>\n",
       "    <tr>\n",
       "      <th>4</th>\n",
       "      <td>4</td>\n",
       "      <td>[(i, O), (am, O), (thinking, O), (of, O), (an,...</td>\n",
       "    </tr>\n",
       "  </tbody>\n",
       "</table>\n",
       "</div>"
      ],
      "text/plain": [
       "   invoice_id                                           text_tag\n",
       "0           0  [(steve, B-Actor), (mcqueen, I-Actor), (provid...\n",
       "1           1  [(liza, B-Actor), (minnelli, I-Actor), (and, O...\n",
       "2           2  [(what, O), (is, O), (that, O), (tom, B-Actor)...\n",
       "3           3  [(what, O), (is, O), (the, O), (movie, O), (ma...\n",
       "4           4  [(i, O), (am, O), (thinking, O), (of, O), (an,..."
      ]
     },
     "execution_count": 14,
     "metadata": {},
     "output_type": "execute_result"
    }
   ],
   "source": [
    "df_idx.head()"
   ]
  },
  {
   "cell_type": "code",
   "execution_count": 15,
   "metadata": {},
   "outputs": [],
   "source": [
    "df_idx['text']=df_idx['text_tag'].apply(lambda text_tag:\" \".join([str(s[0]) for s in text_tag]))\n",
    "df_idx['tag']=df_idx['text_tag'].apply(lambda text_tag:\" \".join([str(s[1]) for s in text_tag]))"
   ]
  },
  {
   "cell_type": "code",
   "execution_count": 16,
   "metadata": {},
   "outputs": [
    {
     "data": {
      "text/html": [
       "<div>\n",
       "<style scoped>\n",
       "    .dataframe tbody tr th:only-of-type {\n",
       "        vertical-align: middle;\n",
       "    }\n",
       "\n",
       "    .dataframe tbody tr th {\n",
       "        vertical-align: top;\n",
       "    }\n",
       "\n",
       "    .dataframe thead th {\n",
       "        text-align: right;\n",
       "    }\n",
       "</style>\n",
       "<table border=\"1\" class=\"dataframe\">\n",
       "  <thead>\n",
       "    <tr style=\"text-align: right;\">\n",
       "      <th></th>\n",
       "      <th>invoice_id</th>\n",
       "      <th>text_tag</th>\n",
       "      <th>text</th>\n",
       "      <th>tag</th>\n",
       "    </tr>\n",
       "  </thead>\n",
       "  <tbody>\n",
       "    <tr>\n",
       "      <th>0</th>\n",
       "      <td>0</td>\n",
       "      <td>[(steve, B-Actor), (mcqueen, I-Actor), (provid...</td>\n",
       "      <td>steve mcqueen provided a thrilling motorcycle ...</td>\n",
       "      <td>B-Actor I-Actor O O B-Plot I-Plot I-Plot I-Plo...</td>\n",
       "    </tr>\n",
       "    <tr>\n",
       "      <th>1</th>\n",
       "      <td>1</td>\n",
       "      <td>[(liza, B-Actor), (minnelli, I-Actor), (and, O...</td>\n",
       "      <td>liza minnelli and joel gray won oscars for the...</td>\n",
       "      <td>B-Actor I-Actor O B-Actor I-Actor B-Award I-Aw...</td>\n",
       "    </tr>\n",
       "    <tr>\n",
       "      <th>2</th>\n",
       "      <td>2</td>\n",
       "      <td>[(what, O), (is, O), (that, O), (tom, B-Actor)...</td>\n",
       "      <td>what is that tom hanks and julia roberts movie...</td>\n",
       "      <td>O O O B-Actor I-Actor O B-Actor I-Actor O O B-...</td>\n",
       "    </tr>\n",
       "    <tr>\n",
       "      <th>3</th>\n",
       "      <td>3</td>\n",
       "      <td>[(what, O), (is, O), (the, O), (movie, O), (ma...</td>\n",
       "      <td>what is the movie making fun of macgyver by re...</td>\n",
       "      <td>O O O O B-Plot I-Plot I-Plot I-Plot I-Plot I-P...</td>\n",
       "    </tr>\n",
       "    <tr>\n",
       "      <th>4</th>\n",
       "      <td>4</td>\n",
       "      <td>[(i, O), (am, O), (thinking, O), (of, O), (an,...</td>\n",
       "      <td>i am thinking of an animated film based on a c...</td>\n",
       "      <td>O O O O O B-Genre O B-Origin I-Origin I-Origin...</td>\n",
       "    </tr>\n",
       "  </tbody>\n",
       "</table>\n",
       "</div>"
      ],
      "text/plain": [
       "   invoice_id                                           text_tag  \\\n",
       "0           0  [(steve, B-Actor), (mcqueen, I-Actor), (provid...   \n",
       "1           1  [(liza, B-Actor), (minnelli, I-Actor), (and, O...   \n",
       "2           2  [(what, O), (is, O), (that, O), (tom, B-Actor)...   \n",
       "3           3  [(what, O), (is, O), (the, O), (movie, O), (ma...   \n",
       "4           4  [(i, O), (am, O), (thinking, O), (of, O), (an,...   \n",
       "\n",
       "                                                text  \\\n",
       "0  steve mcqueen provided a thrilling motorcycle ...   \n",
       "1  liza minnelli and joel gray won oscars for the...   \n",
       "2  what is that tom hanks and julia roberts movie...   \n",
       "3  what is the movie making fun of macgyver by re...   \n",
       "4  i am thinking of an animated film based on a c...   \n",
       "\n",
       "                                                 tag  \n",
       "0  B-Actor I-Actor O O B-Plot I-Plot I-Plot I-Plo...  \n",
       "1  B-Actor I-Actor O B-Actor I-Actor B-Award I-Aw...  \n",
       "2  O O O B-Actor I-Actor O B-Actor I-Actor O O B-...  \n",
       "3  O O O O B-Plot I-Plot I-Plot I-Plot I-Plot I-P...  \n",
       "4  O O O O O B-Genre O B-Origin I-Origin I-Origin...  "
      ]
     },
     "execution_count": 16,
     "metadata": {},
     "output_type": "execute_result"
    }
   ],
   "source": [
    "df_idx.head()"
   ]
  },
  {
   "cell_type": "code",
   "execution_count": 17,
   "metadata": {},
   "outputs": [
    {
     "data": {
      "text/plain": [
       "(7816, 4)"
      ]
     },
     "execution_count": 17,
     "metadata": {},
     "output_type": "execute_result"
    }
   ],
   "source": [
    "df_idx.shape"
   ]
  },
  {
   "cell_type": "code",
   "execution_count": 18,
   "metadata": {},
   "outputs": [
    {
     "data": {
      "text/html": [
       "<div>\n",
       "<style scoped>\n",
       "    .dataframe tbody tr th:only-of-type {\n",
       "        vertical-align: middle;\n",
       "    }\n",
       "\n",
       "    .dataframe tbody tr th {\n",
       "        vertical-align: top;\n",
       "    }\n",
       "\n",
       "    .dataframe thead th {\n",
       "        text-align: right;\n",
       "    }\n",
       "</style>\n",
       "<table border=\"1\" class=\"dataframe\">\n",
       "  <thead>\n",
       "    <tr style=\"text-align: right;\">\n",
       "      <th></th>\n",
       "      <th>invoice_id</th>\n",
       "      <th>text_tag</th>\n",
       "      <th>text</th>\n",
       "      <th>tag</th>\n",
       "      <th>tokenized_text</th>\n",
       "      <th>tag_list</th>\n",
       "    </tr>\n",
       "  </thead>\n",
       "  <tbody>\n",
       "    <tr>\n",
       "      <th>0</th>\n",
       "      <td>0</td>\n",
       "      <td>[(steve, B-Actor), (mcqueen, I-Actor), (provid...</td>\n",
       "      <td>steve mcqueen provided a thrilling motorcycle ...</td>\n",
       "      <td>B-Actor I-Actor O O B-Plot I-Plot I-Plot I-Plo...</td>\n",
       "      <td>[steve, mcqueen, provided, a, thrilling, motor...</td>\n",
       "      <td>[B-Actor, I-Actor, O, O, B-Plot, I-Plot, I-Plo...</td>\n",
       "    </tr>\n",
       "    <tr>\n",
       "      <th>1</th>\n",
       "      <td>1</td>\n",
       "      <td>[(liza, B-Actor), (minnelli, I-Actor), (and, O...</td>\n",
       "      <td>liza minnelli and joel gray won oscars for the...</td>\n",
       "      <td>B-Actor I-Actor O B-Actor I-Actor B-Award I-Aw...</td>\n",
       "      <td>[liza, minnelli, and, joel, gray, won, oscars,...</td>\n",
       "      <td>[B-Actor, I-Actor, O, B-Actor, I-Actor, B-Awar...</td>\n",
       "    </tr>\n",
       "    <tr>\n",
       "      <th>2</th>\n",
       "      <td>2</td>\n",
       "      <td>[(what, O), (is, O), (that, O), (tom, B-Actor)...</td>\n",
       "      <td>what is that tom hanks and julia roberts movie...</td>\n",
       "      <td>O O O B-Actor I-Actor O B-Actor I-Actor O O B-...</td>\n",
       "      <td>[what, is, that, tom, hanks, and, julia, rober...</td>\n",
       "      <td>[O, O, O, B-Actor, I-Actor, O, B-Actor, I-Acto...</td>\n",
       "    </tr>\n",
       "    <tr>\n",
       "      <th>3</th>\n",
       "      <td>3</td>\n",
       "      <td>[(what, O), (is, O), (the, O), (movie, O), (ma...</td>\n",
       "      <td>what is the movie making fun of macgyver by re...</td>\n",
       "      <td>O O O O B-Plot I-Plot I-Plot I-Plot I-Plot I-P...</td>\n",
       "      <td>[what, is, the, movie, making, fun, of, macgyv...</td>\n",
       "      <td>[O, O, O, O, B-Plot, I-Plot, I-Plot, I-Plot, I...</td>\n",
       "    </tr>\n",
       "    <tr>\n",
       "      <th>4</th>\n",
       "      <td>4</td>\n",
       "      <td>[(i, O), (am, O), (thinking, O), (of, O), (an,...</td>\n",
       "      <td>i am thinking of an animated film based on a c...</td>\n",
       "      <td>O O O O O B-Genre O B-Origin I-Origin I-Origin...</td>\n",
       "      <td>[i, am, thinking, of, an, animated, film, base...</td>\n",
       "      <td>[O, O, O, O, O, B-Genre, O, B-Origin, I-Origin...</td>\n",
       "    </tr>\n",
       "  </tbody>\n",
       "</table>\n",
       "</div>"
      ],
      "text/plain": [
       "   invoice_id                                           text_tag  \\\n",
       "0           0  [(steve, B-Actor), (mcqueen, I-Actor), (provid...   \n",
       "1           1  [(liza, B-Actor), (minnelli, I-Actor), (and, O...   \n",
       "2           2  [(what, O), (is, O), (that, O), (tom, B-Actor)...   \n",
       "3           3  [(what, O), (is, O), (the, O), (movie, O), (ma...   \n",
       "4           4  [(i, O), (am, O), (thinking, O), (of, O), (an,...   \n",
       "\n",
       "                                                text  \\\n",
       "0  steve mcqueen provided a thrilling motorcycle ...   \n",
       "1  liza minnelli and joel gray won oscars for the...   \n",
       "2  what is that tom hanks and julia roberts movie...   \n",
       "3  what is the movie making fun of macgyver by re...   \n",
       "4  i am thinking of an animated film based on a c...   \n",
       "\n",
       "                                                 tag  \\\n",
       "0  B-Actor I-Actor O O B-Plot I-Plot I-Plot I-Plo...   \n",
       "1  B-Actor I-Actor O B-Actor I-Actor B-Award I-Aw...   \n",
       "2  O O O B-Actor I-Actor O B-Actor I-Actor O O B-...   \n",
       "3  O O O O B-Plot I-Plot I-Plot I-Plot I-Plot I-P...   \n",
       "4  O O O O O B-Genre O B-Origin I-Origin I-Origin...   \n",
       "\n",
       "                                      tokenized_text  \\\n",
       "0  [steve, mcqueen, provided, a, thrilling, motor...   \n",
       "1  [liza, minnelli, and, joel, gray, won, oscars,...   \n",
       "2  [what, is, that, tom, hanks, and, julia, rober...   \n",
       "3  [what, is, the, movie, making, fun, of, macgyv...   \n",
       "4  [i, am, thinking, of, an, animated, film, base...   \n",
       "\n",
       "                                            tag_list  \n",
       "0  [B-Actor, I-Actor, O, O, B-Plot, I-Plot, I-Plo...  \n",
       "1  [B-Actor, I-Actor, O, B-Actor, I-Actor, B-Awar...  \n",
       "2  [O, O, O, B-Actor, I-Actor, O, B-Actor, I-Acto...  \n",
       "3  [O, O, O, O, B-Plot, I-Plot, I-Plot, I-Plot, I...  \n",
       "4  [O, O, O, O, O, B-Genre, O, B-Origin, I-Origin...  "
      ]
     },
     "execution_count": 18,
     "metadata": {},
     "output_type": "execute_result"
    }
   ],
   "source": [
    "df_idx['tokenized_text']=df_idx['text'].apply(lambda x:x.split())\n",
    "df_idx['tag_list']=df_idx['tag'].apply(lambda x:x.split())\n",
    "df_idx.head()"
   ]
  },
  {
   "cell_type": "code",
   "execution_count": 19,
   "metadata": {},
   "outputs": [],
   "source": [
    "texts_list=df_idx['text'].tolist()\n",
    "tags_list=df_idx['tag_list'].tolist()"
   ]
  },
  {
   "cell_type": "code",
   "execution_count": 20,
   "metadata": {},
   "outputs": [
    {
     "name": "stdout",
     "output_type": "stream",
     "text": [
      "Vocab size of Tokenizer  10987\n"
     ]
    }
   ],
   "source": [
    "tokenizer = Tokenizer(lower=False, filters='!?~[]()^_{\"}\\'%')\n",
    "tokenizer.fit_on_texts(texts_list)\n",
    "encoded_text_list = tokenizer.texts_to_sequences(texts_list)\n",
    "\n",
    "print(\"Vocab size of Tokenizer \",len(tokenizer.word_index)+1)"
   ]
  },
  {
   "cell_type": "code",
   "execution_count": 21,
   "metadata": {},
   "outputs": [],
   "source": [
    "encoded_tags_list = [[tag_idx_dict[w] for w in tag] for tag in tags_list]"
   ]
  },
  {
   "cell_type": "code",
   "execution_count": 22,
   "metadata": {},
   "outputs": [],
   "source": [
    "padded_encoded_text_list = pad_sequences(maxlen=MAX_SENTENCE, sequences=encoded_text_list, padding=\"post\", value=0)\n",
    "padded_encoded_tags_list = pad_sequences(maxlen=MAX_SENTENCE, sequences=encoded_tags_list, padding=\"post\", value=tag_idx_dict['O'])"
   ]
  },
  {
   "cell_type": "code",
   "execution_count": 23,
   "metadata": {},
   "outputs": [],
   "source": [
    "dummy_tags = [to_categorical(i, num_classes=NUM_TAGS) for i in padded_encoded_tags_list]"
   ]
  },
  {
   "cell_type": "code",
   "execution_count": 24,
   "metadata": {},
   "outputs": [
    {
     "name": "stdout",
     "output_type": "stream",
     "text": [
      "train: 70%\n",
      "val: 10%\n",
      "test: 20%\n"
     ]
    }
   ],
   "source": [
    "# Train-val-test split\n",
    "X, y = split_dataset(padded_encoded_text_list, dummy_tags)"
   ]
  },
  {
   "cell_type": "code",
   "execution_count": 25,
   "metadata": {},
   "outputs": [
    {
     "name": "stdout",
     "output_type": "stream",
     "text": [
      "Model: \"model\"\n",
      "_________________________________________________________________\n",
      " Layer (type)                Output Shape              Param #   \n",
      "=================================================================\n",
      " input_1 (InputLayer)        [(None, 71)]              0         \n",
      "                                                                 \n",
      " embedding (Embedding)       (None, 71, 50)            549350    \n",
      "                                                                 \n",
      " bidirectional (Bidirectiona  (None, 71, 60)           19440     \n",
      " l)                                                              \n",
      "                                                                 \n",
      " dropout (Dropout)           (None, 71, 60)            0         \n",
      "                                                                 \n",
      " time_distributed (TimeDistr  (None, 71, 50)           3050      \n",
      " ibuted)                                                         \n",
      "                                                                 \n",
      " crf (CRF)                   [(None, 71),              1950      \n",
      "                              (None, 71, 25),                    \n",
      "                              (None,),                           \n",
      "                              (25, 25)]                          \n",
      "                                                                 \n",
      "=================================================================\n",
      "Total params: 573,790\n",
      "Trainable params: 573,790\n",
      "Non-trainable params: 0\n",
      "_________________________________________________________________\n",
      "Epoch 1/20\n"
     ]
    },
    {
     "name": "stderr",
     "output_type": "stream",
     "text": [
      "2022-08-18 00:54:43.676313: W tensorflow/core/framework/cpu_allocator_impl.cc:82] Allocation of 38837000 exceeds 10% of free system memory.\n"
     ]
    },
    {
     "name": "stdout",
     "output_type": "stream",
     "text": [
      "WARNING:tensorflow:Gradients do not exist for variables ['chain_kernel:0'] when minimizing the loss. If you're using `model.compile()`, did you forget to provide a `loss`argument?\n",
      "WARNING:tensorflow:Gradients do not exist for variables ['chain_kernel:0'] when minimizing the loss. If you're using `model.compile()`, did you forget to provide a `loss`argument?\n",
      "493/684 [====================>.........] - ETA: 19s - loss: 0.1205 - accuracy: 0.8527"
     ]
    },
    {
     "ename": "KeyboardInterrupt",
     "evalue": "",
     "output_type": "error",
     "traceback": [
      "\u001b[0;31m---------------------------------------------------------------------------\u001b[0m",
      "\u001b[0;31mKeyboardInterrupt\u001b[0m                         Traceback (most recent call last)",
      "\u001b[1;32m/home/mayara/Documentos/dados/NER/Named-Entity-Recognition/MITMovie/src/models/BiLSTM_CRF.ipynb Cell 25'\u001b[0m in \u001b[0;36m<cell line: 9>\u001b[0;34m()\u001b[0m\n\u001b[1;32m      <a href='vscode-notebook-cell:/home/mayara/Documentos/dados/NER/Named-Entity-Recognition/MITMovie/src/models/BiLSTM_CRF.ipynb#ch0000024?line=2'>3</a>\u001b[0m model\u001b[39m.\u001b[39msummary()\n\u001b[1;32m      <a href='vscode-notebook-cell:/home/mayara/Documentos/dados/NER/Named-Entity-Recognition/MITMovie/src/models/BiLSTM_CRF.ipynb#ch0000024?line=4'>5</a>\u001b[0m model\u001b[39m.\u001b[39mcompile(optimizer\u001b[39m=\u001b[39mAdam(learning_rate\u001b[39m=\u001b[39m\u001b[39m0.001\u001b[39m), \n\u001b[1;32m      <a href='vscode-notebook-cell:/home/mayara/Documentos/dados/NER/Named-Entity-Recognition/MITMovie/src/models/BiLSTM_CRF.ipynb#ch0000024?line=5'>6</a>\u001b[0m                 loss\u001b[39m=\u001b[39mSigmoidFocalCrossEntropy(), \n\u001b[1;32m      <a href='vscode-notebook-cell:/home/mayara/Documentos/dados/NER/Named-Entity-Recognition/MITMovie/src/models/BiLSTM_CRF.ipynb#ch0000024?line=6'>7</a>\u001b[0m                 metrics\u001b[39m=\u001b[39m[\u001b[39m'\u001b[39m\u001b[39maccuracy\u001b[39m\u001b[39m'\u001b[39m])\n\u001b[0;32m----> <a href='vscode-notebook-cell:/home/mayara/Documentos/dados/NER/Named-Entity-Recognition/MITMovie/src/models/BiLSTM_CRF.ipynb#ch0000024?line=8'>9</a>\u001b[0m history \u001b[39m=\u001b[39m model\u001b[39m.\u001b[39;49mfit(X[\u001b[39m'\u001b[39;49m\u001b[39mtrain\u001b[39;49m\u001b[39m'\u001b[39;49m],\n\u001b[1;32m     <a href='vscode-notebook-cell:/home/mayara/Documentos/dados/NER/Named-Entity-Recognition/MITMovie/src/models/BiLSTM_CRF.ipynb#ch0000024?line=9'>10</a>\u001b[0m                     np\u001b[39m.\u001b[39;49marray(y[\u001b[39m'\u001b[39;49m\u001b[39mtrain\u001b[39;49m\u001b[39m'\u001b[39;49m]), \n\u001b[1;32m     <a href='vscode-notebook-cell:/home/mayara/Documentos/dados/NER/Named-Entity-Recognition/MITMovie/src/models/BiLSTM_CRF.ipynb#ch0000024?line=10'>11</a>\u001b[0m                     validation_data\u001b[39m=\u001b[39;49m(X[\u001b[39m'\u001b[39;49m\u001b[39mval\u001b[39;49m\u001b[39m'\u001b[39;49m], np\u001b[39m.\u001b[39;49marray(y[\u001b[39m'\u001b[39;49m\u001b[39mval\u001b[39;49m\u001b[39m'\u001b[39;49m])),\n\u001b[1;32m     <a href='vscode-notebook-cell:/home/mayara/Documentos/dados/NER/Named-Entity-Recognition/MITMovie/src/models/BiLSTM_CRF.ipynb#ch0000024?line=11'>12</a>\u001b[0m                     batch_size\u001b[39m=\u001b[39;49m\u001b[39m8\u001b[39;49m,\n\u001b[1;32m     <a href='vscode-notebook-cell:/home/mayara/Documentos/dados/NER/Named-Entity-Recognition/MITMovie/src/models/BiLSTM_CRF.ipynb#ch0000024?line=12'>13</a>\u001b[0m                     callbacks\u001b[39m=\u001b[39;49mEarlyStopping(monitor\u001b[39m=\u001b[39;49m\u001b[39m'\u001b[39;49m\u001b[39mval_loss\u001b[39;49m\u001b[39m'\u001b[39;49m, mode\u001b[39m=\u001b[39;49m\u001b[39m'\u001b[39;49m\u001b[39mmin\u001b[39;49m\u001b[39m'\u001b[39;49m, verbose\u001b[39m=\u001b[39;49m\u001b[39m1\u001b[39;49m, patience\u001b[39m=\u001b[39;49m\u001b[39m5\u001b[39;49m),\n\u001b[1;32m     <a href='vscode-notebook-cell:/home/mayara/Documentos/dados/NER/Named-Entity-Recognition/MITMovie/src/models/BiLSTM_CRF.ipynb#ch0000024?line=13'>14</a>\u001b[0m                     epochs\u001b[39m=\u001b[39;49m\u001b[39m20\u001b[39;49m)\n",
      "File \u001b[0;32m~/Documentos/dados/NER/Named-Entity-Recognition/.venv/lib/python3.8/site-packages/keras/utils/traceback_utils.py:64\u001b[0m, in \u001b[0;36mfilter_traceback.<locals>.error_handler\u001b[0;34m(*args, **kwargs)\u001b[0m\n\u001b[1;32m     <a href='file:///home/mayara/Documentos/dados/NER/Named-Entity-Recognition/.venv/lib/python3.8/site-packages/keras/utils/traceback_utils.py?line=61'>62</a>\u001b[0m filtered_tb \u001b[39m=\u001b[39m \u001b[39mNone\u001b[39;00m\n\u001b[1;32m     <a href='file:///home/mayara/Documentos/dados/NER/Named-Entity-Recognition/.venv/lib/python3.8/site-packages/keras/utils/traceback_utils.py?line=62'>63</a>\u001b[0m \u001b[39mtry\u001b[39;00m:\n\u001b[0;32m---> <a href='file:///home/mayara/Documentos/dados/NER/Named-Entity-Recognition/.venv/lib/python3.8/site-packages/keras/utils/traceback_utils.py?line=63'>64</a>\u001b[0m   \u001b[39mreturn\u001b[39;00m fn(\u001b[39m*\u001b[39;49margs, \u001b[39m*\u001b[39;49m\u001b[39m*\u001b[39;49mkwargs)\n\u001b[1;32m     <a href='file:///home/mayara/Documentos/dados/NER/Named-Entity-Recognition/.venv/lib/python3.8/site-packages/keras/utils/traceback_utils.py?line=64'>65</a>\u001b[0m \u001b[39mexcept\u001b[39;00m \u001b[39mException\u001b[39;00m \u001b[39mas\u001b[39;00m e:  \u001b[39m# pylint: disable=broad-except\u001b[39;00m\n\u001b[1;32m     <a href='file:///home/mayara/Documentos/dados/NER/Named-Entity-Recognition/.venv/lib/python3.8/site-packages/keras/utils/traceback_utils.py?line=65'>66</a>\u001b[0m   filtered_tb \u001b[39m=\u001b[39m _process_traceback_frames(e\u001b[39m.\u001b[39m__traceback__)\n",
      "File \u001b[0;32m~/Documentos/dados/NER/Named-Entity-Recognition/.venv/lib/python3.8/site-packages/keras/engine/training.py:1409\u001b[0m, in \u001b[0;36mModel.fit\u001b[0;34m(self, x, y, batch_size, epochs, verbose, callbacks, validation_split, validation_data, shuffle, class_weight, sample_weight, initial_epoch, steps_per_epoch, validation_steps, validation_batch_size, validation_freq, max_queue_size, workers, use_multiprocessing)\u001b[0m\n\u001b[1;32m   <a href='file:///home/mayara/Documentos/dados/NER/Named-Entity-Recognition/.venv/lib/python3.8/site-packages/keras/engine/training.py?line=1401'>1402</a>\u001b[0m \u001b[39mwith\u001b[39;00m tf\u001b[39m.\u001b[39mprofiler\u001b[39m.\u001b[39mexperimental\u001b[39m.\u001b[39mTrace(\n\u001b[1;32m   <a href='file:///home/mayara/Documentos/dados/NER/Named-Entity-Recognition/.venv/lib/python3.8/site-packages/keras/engine/training.py?line=1402'>1403</a>\u001b[0m     \u001b[39m'\u001b[39m\u001b[39mtrain\u001b[39m\u001b[39m'\u001b[39m,\n\u001b[1;32m   <a href='file:///home/mayara/Documentos/dados/NER/Named-Entity-Recognition/.venv/lib/python3.8/site-packages/keras/engine/training.py?line=1403'>1404</a>\u001b[0m     epoch_num\u001b[39m=\u001b[39mepoch,\n\u001b[1;32m   <a href='file:///home/mayara/Documentos/dados/NER/Named-Entity-Recognition/.venv/lib/python3.8/site-packages/keras/engine/training.py?line=1404'>1405</a>\u001b[0m     step_num\u001b[39m=\u001b[39mstep,\n\u001b[1;32m   <a href='file:///home/mayara/Documentos/dados/NER/Named-Entity-Recognition/.venv/lib/python3.8/site-packages/keras/engine/training.py?line=1405'>1406</a>\u001b[0m     batch_size\u001b[39m=\u001b[39mbatch_size,\n\u001b[1;32m   <a href='file:///home/mayara/Documentos/dados/NER/Named-Entity-Recognition/.venv/lib/python3.8/site-packages/keras/engine/training.py?line=1406'>1407</a>\u001b[0m     _r\u001b[39m=\u001b[39m\u001b[39m1\u001b[39m):\n\u001b[1;32m   <a href='file:///home/mayara/Documentos/dados/NER/Named-Entity-Recognition/.venv/lib/python3.8/site-packages/keras/engine/training.py?line=1407'>1408</a>\u001b[0m   callbacks\u001b[39m.\u001b[39mon_train_batch_begin(step)\n\u001b[0;32m-> <a href='file:///home/mayara/Documentos/dados/NER/Named-Entity-Recognition/.venv/lib/python3.8/site-packages/keras/engine/training.py?line=1408'>1409</a>\u001b[0m   tmp_logs \u001b[39m=\u001b[39m \u001b[39mself\u001b[39;49m\u001b[39m.\u001b[39;49mtrain_function(iterator)\n\u001b[1;32m   <a href='file:///home/mayara/Documentos/dados/NER/Named-Entity-Recognition/.venv/lib/python3.8/site-packages/keras/engine/training.py?line=1409'>1410</a>\u001b[0m   \u001b[39mif\u001b[39;00m data_handler\u001b[39m.\u001b[39mshould_sync:\n\u001b[1;32m   <a href='file:///home/mayara/Documentos/dados/NER/Named-Entity-Recognition/.venv/lib/python3.8/site-packages/keras/engine/training.py?line=1410'>1411</a>\u001b[0m     context\u001b[39m.\u001b[39masync_wait()\n",
      "File \u001b[0;32m~/Documentos/dados/NER/Named-Entity-Recognition/.venv/lib/python3.8/site-packages/tensorflow/python/util/traceback_utils.py:150\u001b[0m, in \u001b[0;36mfilter_traceback.<locals>.error_handler\u001b[0;34m(*args, **kwargs)\u001b[0m\n\u001b[1;32m    <a href='file:///home/mayara/Documentos/dados/NER/Named-Entity-Recognition/.venv/lib/python3.8/site-packages/tensorflow/python/util/traceback_utils.py?line=147'>148</a>\u001b[0m filtered_tb \u001b[39m=\u001b[39m \u001b[39mNone\u001b[39;00m\n\u001b[1;32m    <a href='file:///home/mayara/Documentos/dados/NER/Named-Entity-Recognition/.venv/lib/python3.8/site-packages/tensorflow/python/util/traceback_utils.py?line=148'>149</a>\u001b[0m \u001b[39mtry\u001b[39;00m:\n\u001b[0;32m--> <a href='file:///home/mayara/Documentos/dados/NER/Named-Entity-Recognition/.venv/lib/python3.8/site-packages/tensorflow/python/util/traceback_utils.py?line=149'>150</a>\u001b[0m   \u001b[39mreturn\u001b[39;00m fn(\u001b[39m*\u001b[39;49margs, \u001b[39m*\u001b[39;49m\u001b[39m*\u001b[39;49mkwargs)\n\u001b[1;32m    <a href='file:///home/mayara/Documentos/dados/NER/Named-Entity-Recognition/.venv/lib/python3.8/site-packages/tensorflow/python/util/traceback_utils.py?line=150'>151</a>\u001b[0m \u001b[39mexcept\u001b[39;00m \u001b[39mException\u001b[39;00m \u001b[39mas\u001b[39;00m e:\n\u001b[1;32m    <a href='file:///home/mayara/Documentos/dados/NER/Named-Entity-Recognition/.venv/lib/python3.8/site-packages/tensorflow/python/util/traceback_utils.py?line=151'>152</a>\u001b[0m   filtered_tb \u001b[39m=\u001b[39m _process_traceback_frames(e\u001b[39m.\u001b[39m__traceback__)\n",
      "File \u001b[0;32m~/Documentos/dados/NER/Named-Entity-Recognition/.venv/lib/python3.8/site-packages/tensorflow/python/eager/def_function.py:915\u001b[0m, in \u001b[0;36mFunction.__call__\u001b[0;34m(self, *args, **kwds)\u001b[0m\n\u001b[1;32m    <a href='file:///home/mayara/Documentos/dados/NER/Named-Entity-Recognition/.venv/lib/python3.8/site-packages/tensorflow/python/eager/def_function.py?line=911'>912</a>\u001b[0m compiler \u001b[39m=\u001b[39m \u001b[39m\"\u001b[39m\u001b[39mxla\u001b[39m\u001b[39m\"\u001b[39m \u001b[39mif\u001b[39;00m \u001b[39mself\u001b[39m\u001b[39m.\u001b[39m_jit_compile \u001b[39melse\u001b[39;00m \u001b[39m\"\u001b[39m\u001b[39mnonXla\u001b[39m\u001b[39m\"\u001b[39m\n\u001b[1;32m    <a href='file:///home/mayara/Documentos/dados/NER/Named-Entity-Recognition/.venv/lib/python3.8/site-packages/tensorflow/python/eager/def_function.py?line=913'>914</a>\u001b[0m \u001b[39mwith\u001b[39;00m OptionalXlaContext(\u001b[39mself\u001b[39m\u001b[39m.\u001b[39m_jit_compile):\n\u001b[0;32m--> <a href='file:///home/mayara/Documentos/dados/NER/Named-Entity-Recognition/.venv/lib/python3.8/site-packages/tensorflow/python/eager/def_function.py?line=914'>915</a>\u001b[0m   result \u001b[39m=\u001b[39m \u001b[39mself\u001b[39;49m\u001b[39m.\u001b[39;49m_call(\u001b[39m*\u001b[39;49margs, \u001b[39m*\u001b[39;49m\u001b[39m*\u001b[39;49mkwds)\n\u001b[1;32m    <a href='file:///home/mayara/Documentos/dados/NER/Named-Entity-Recognition/.venv/lib/python3.8/site-packages/tensorflow/python/eager/def_function.py?line=916'>917</a>\u001b[0m new_tracing_count \u001b[39m=\u001b[39m \u001b[39mself\u001b[39m\u001b[39m.\u001b[39mexperimental_get_tracing_count()\n\u001b[1;32m    <a href='file:///home/mayara/Documentos/dados/NER/Named-Entity-Recognition/.venv/lib/python3.8/site-packages/tensorflow/python/eager/def_function.py?line=917'>918</a>\u001b[0m without_tracing \u001b[39m=\u001b[39m (tracing_count \u001b[39m==\u001b[39m new_tracing_count)\n",
      "File \u001b[0;32m~/Documentos/dados/NER/Named-Entity-Recognition/.venv/lib/python3.8/site-packages/tensorflow/python/eager/def_function.py:947\u001b[0m, in \u001b[0;36mFunction._call\u001b[0;34m(self, *args, **kwds)\u001b[0m\n\u001b[1;32m    <a href='file:///home/mayara/Documentos/dados/NER/Named-Entity-Recognition/.venv/lib/python3.8/site-packages/tensorflow/python/eager/def_function.py?line=943'>944</a>\u001b[0m   \u001b[39mself\u001b[39m\u001b[39m.\u001b[39m_lock\u001b[39m.\u001b[39mrelease()\n\u001b[1;32m    <a href='file:///home/mayara/Documentos/dados/NER/Named-Entity-Recognition/.venv/lib/python3.8/site-packages/tensorflow/python/eager/def_function.py?line=944'>945</a>\u001b[0m   \u001b[39m# In this case we have created variables on the first call, so we run the\u001b[39;00m\n\u001b[1;32m    <a href='file:///home/mayara/Documentos/dados/NER/Named-Entity-Recognition/.venv/lib/python3.8/site-packages/tensorflow/python/eager/def_function.py?line=945'>946</a>\u001b[0m   \u001b[39m# defunned version which is guaranteed to never create variables.\u001b[39;00m\n\u001b[0;32m--> <a href='file:///home/mayara/Documentos/dados/NER/Named-Entity-Recognition/.venv/lib/python3.8/site-packages/tensorflow/python/eager/def_function.py?line=946'>947</a>\u001b[0m   \u001b[39mreturn\u001b[39;00m \u001b[39mself\u001b[39;49m\u001b[39m.\u001b[39;49m_stateless_fn(\u001b[39m*\u001b[39;49margs, \u001b[39m*\u001b[39;49m\u001b[39m*\u001b[39;49mkwds)  \u001b[39m# pylint: disable=not-callable\u001b[39;00m\n\u001b[1;32m    <a href='file:///home/mayara/Documentos/dados/NER/Named-Entity-Recognition/.venv/lib/python3.8/site-packages/tensorflow/python/eager/def_function.py?line=947'>948</a>\u001b[0m \u001b[39melif\u001b[39;00m \u001b[39mself\u001b[39m\u001b[39m.\u001b[39m_stateful_fn \u001b[39mis\u001b[39;00m \u001b[39mnot\u001b[39;00m \u001b[39mNone\u001b[39;00m:\n\u001b[1;32m    <a href='file:///home/mayara/Documentos/dados/NER/Named-Entity-Recognition/.venv/lib/python3.8/site-packages/tensorflow/python/eager/def_function.py?line=948'>949</a>\u001b[0m   \u001b[39m# Release the lock early so that multiple threads can perform the call\u001b[39;00m\n\u001b[1;32m    <a href='file:///home/mayara/Documentos/dados/NER/Named-Entity-Recognition/.venv/lib/python3.8/site-packages/tensorflow/python/eager/def_function.py?line=949'>950</a>\u001b[0m   \u001b[39m# in parallel.\u001b[39;00m\n\u001b[1;32m    <a href='file:///home/mayara/Documentos/dados/NER/Named-Entity-Recognition/.venv/lib/python3.8/site-packages/tensorflow/python/eager/def_function.py?line=950'>951</a>\u001b[0m   \u001b[39mself\u001b[39m\u001b[39m.\u001b[39m_lock\u001b[39m.\u001b[39mrelease()\n",
      "File \u001b[0;32m~/Documentos/dados/NER/Named-Entity-Recognition/.venv/lib/python3.8/site-packages/tensorflow/python/eager/function.py:2453\u001b[0m, in \u001b[0;36mFunction.__call__\u001b[0;34m(self, *args, **kwargs)\u001b[0m\n\u001b[1;32m   <a href='file:///home/mayara/Documentos/dados/NER/Named-Entity-Recognition/.venv/lib/python3.8/site-packages/tensorflow/python/eager/function.py?line=2449'>2450</a>\u001b[0m \u001b[39mwith\u001b[39;00m \u001b[39mself\u001b[39m\u001b[39m.\u001b[39m_lock:\n\u001b[1;32m   <a href='file:///home/mayara/Documentos/dados/NER/Named-Entity-Recognition/.venv/lib/python3.8/site-packages/tensorflow/python/eager/function.py?line=2450'>2451</a>\u001b[0m   (graph_function,\n\u001b[1;32m   <a href='file:///home/mayara/Documentos/dados/NER/Named-Entity-Recognition/.venv/lib/python3.8/site-packages/tensorflow/python/eager/function.py?line=2451'>2452</a>\u001b[0m    filtered_flat_args) \u001b[39m=\u001b[39m \u001b[39mself\u001b[39m\u001b[39m.\u001b[39m_maybe_define_function(args, kwargs)\n\u001b[0;32m-> <a href='file:///home/mayara/Documentos/dados/NER/Named-Entity-Recognition/.venv/lib/python3.8/site-packages/tensorflow/python/eager/function.py?line=2452'>2453</a>\u001b[0m \u001b[39mreturn\u001b[39;00m graph_function\u001b[39m.\u001b[39;49m_call_flat(\n\u001b[1;32m   <a href='file:///home/mayara/Documentos/dados/NER/Named-Entity-Recognition/.venv/lib/python3.8/site-packages/tensorflow/python/eager/function.py?line=2453'>2454</a>\u001b[0m     filtered_flat_args, captured_inputs\u001b[39m=\u001b[39;49mgraph_function\u001b[39m.\u001b[39;49mcaptured_inputs)\n",
      "File \u001b[0;32m~/Documentos/dados/NER/Named-Entity-Recognition/.venv/lib/python3.8/site-packages/tensorflow/python/eager/function.py:1860\u001b[0m, in \u001b[0;36mConcreteFunction._call_flat\u001b[0;34m(self, args, captured_inputs, cancellation_manager)\u001b[0m\n\u001b[1;32m   <a href='file:///home/mayara/Documentos/dados/NER/Named-Entity-Recognition/.venv/lib/python3.8/site-packages/tensorflow/python/eager/function.py?line=1855'>1856</a>\u001b[0m possible_gradient_type \u001b[39m=\u001b[39m gradients_util\u001b[39m.\u001b[39mPossibleTapeGradientTypes(args)\n\u001b[1;32m   <a href='file:///home/mayara/Documentos/dados/NER/Named-Entity-Recognition/.venv/lib/python3.8/site-packages/tensorflow/python/eager/function.py?line=1856'>1857</a>\u001b[0m \u001b[39mif\u001b[39;00m (possible_gradient_type \u001b[39m==\u001b[39m gradients_util\u001b[39m.\u001b[39mPOSSIBLE_GRADIENT_TYPES_NONE\n\u001b[1;32m   <a href='file:///home/mayara/Documentos/dados/NER/Named-Entity-Recognition/.venv/lib/python3.8/site-packages/tensorflow/python/eager/function.py?line=1857'>1858</a>\u001b[0m     \u001b[39mand\u001b[39;00m executing_eagerly):\n\u001b[1;32m   <a href='file:///home/mayara/Documentos/dados/NER/Named-Entity-Recognition/.venv/lib/python3.8/site-packages/tensorflow/python/eager/function.py?line=1858'>1859</a>\u001b[0m   \u001b[39m# No tape is watching; skip to running the function.\u001b[39;00m\n\u001b[0;32m-> <a href='file:///home/mayara/Documentos/dados/NER/Named-Entity-Recognition/.venv/lib/python3.8/site-packages/tensorflow/python/eager/function.py?line=1859'>1860</a>\u001b[0m   \u001b[39mreturn\u001b[39;00m \u001b[39mself\u001b[39m\u001b[39m.\u001b[39m_build_call_outputs(\u001b[39mself\u001b[39;49m\u001b[39m.\u001b[39;49m_inference_function\u001b[39m.\u001b[39;49mcall(\n\u001b[1;32m   <a href='file:///home/mayara/Documentos/dados/NER/Named-Entity-Recognition/.venv/lib/python3.8/site-packages/tensorflow/python/eager/function.py?line=1860'>1861</a>\u001b[0m       ctx, args, cancellation_manager\u001b[39m=\u001b[39;49mcancellation_manager))\n\u001b[1;32m   <a href='file:///home/mayara/Documentos/dados/NER/Named-Entity-Recognition/.venv/lib/python3.8/site-packages/tensorflow/python/eager/function.py?line=1861'>1862</a>\u001b[0m forward_backward \u001b[39m=\u001b[39m \u001b[39mself\u001b[39m\u001b[39m.\u001b[39m_select_forward_and_backward_functions(\n\u001b[1;32m   <a href='file:///home/mayara/Documentos/dados/NER/Named-Entity-Recognition/.venv/lib/python3.8/site-packages/tensorflow/python/eager/function.py?line=1862'>1863</a>\u001b[0m     args,\n\u001b[1;32m   <a href='file:///home/mayara/Documentos/dados/NER/Named-Entity-Recognition/.venv/lib/python3.8/site-packages/tensorflow/python/eager/function.py?line=1863'>1864</a>\u001b[0m     possible_gradient_type,\n\u001b[1;32m   <a href='file:///home/mayara/Documentos/dados/NER/Named-Entity-Recognition/.venv/lib/python3.8/site-packages/tensorflow/python/eager/function.py?line=1864'>1865</a>\u001b[0m     executing_eagerly)\n\u001b[1;32m   <a href='file:///home/mayara/Documentos/dados/NER/Named-Entity-Recognition/.venv/lib/python3.8/site-packages/tensorflow/python/eager/function.py?line=1865'>1866</a>\u001b[0m forward_function, args_with_tangents \u001b[39m=\u001b[39m forward_backward\u001b[39m.\u001b[39mforward()\n",
      "File \u001b[0;32m~/Documentos/dados/NER/Named-Entity-Recognition/.venv/lib/python3.8/site-packages/tensorflow/python/eager/function.py:497\u001b[0m, in \u001b[0;36m_EagerDefinedFunction.call\u001b[0;34m(self, ctx, args, cancellation_manager)\u001b[0m\n\u001b[1;32m    <a href='file:///home/mayara/Documentos/dados/NER/Named-Entity-Recognition/.venv/lib/python3.8/site-packages/tensorflow/python/eager/function.py?line=494'>495</a>\u001b[0m \u001b[39mwith\u001b[39;00m _InterpolateFunctionError(\u001b[39mself\u001b[39m):\n\u001b[1;32m    <a href='file:///home/mayara/Documentos/dados/NER/Named-Entity-Recognition/.venv/lib/python3.8/site-packages/tensorflow/python/eager/function.py?line=495'>496</a>\u001b[0m   \u001b[39mif\u001b[39;00m cancellation_manager \u001b[39mis\u001b[39;00m \u001b[39mNone\u001b[39;00m:\n\u001b[0;32m--> <a href='file:///home/mayara/Documentos/dados/NER/Named-Entity-Recognition/.venv/lib/python3.8/site-packages/tensorflow/python/eager/function.py?line=496'>497</a>\u001b[0m     outputs \u001b[39m=\u001b[39m execute\u001b[39m.\u001b[39;49mexecute(\n\u001b[1;32m    <a href='file:///home/mayara/Documentos/dados/NER/Named-Entity-Recognition/.venv/lib/python3.8/site-packages/tensorflow/python/eager/function.py?line=497'>498</a>\u001b[0m         \u001b[39mstr\u001b[39;49m(\u001b[39mself\u001b[39;49m\u001b[39m.\u001b[39;49msignature\u001b[39m.\u001b[39;49mname),\n\u001b[1;32m    <a href='file:///home/mayara/Documentos/dados/NER/Named-Entity-Recognition/.venv/lib/python3.8/site-packages/tensorflow/python/eager/function.py?line=498'>499</a>\u001b[0m         num_outputs\u001b[39m=\u001b[39;49m\u001b[39mself\u001b[39;49m\u001b[39m.\u001b[39;49m_num_outputs,\n\u001b[1;32m    <a href='file:///home/mayara/Documentos/dados/NER/Named-Entity-Recognition/.venv/lib/python3.8/site-packages/tensorflow/python/eager/function.py?line=499'>500</a>\u001b[0m         inputs\u001b[39m=\u001b[39;49margs,\n\u001b[1;32m    <a href='file:///home/mayara/Documentos/dados/NER/Named-Entity-Recognition/.venv/lib/python3.8/site-packages/tensorflow/python/eager/function.py?line=500'>501</a>\u001b[0m         attrs\u001b[39m=\u001b[39;49mattrs,\n\u001b[1;32m    <a href='file:///home/mayara/Documentos/dados/NER/Named-Entity-Recognition/.venv/lib/python3.8/site-packages/tensorflow/python/eager/function.py?line=501'>502</a>\u001b[0m         ctx\u001b[39m=\u001b[39;49mctx)\n\u001b[1;32m    <a href='file:///home/mayara/Documentos/dados/NER/Named-Entity-Recognition/.venv/lib/python3.8/site-packages/tensorflow/python/eager/function.py?line=502'>503</a>\u001b[0m   \u001b[39melse\u001b[39;00m:\n\u001b[1;32m    <a href='file:///home/mayara/Documentos/dados/NER/Named-Entity-Recognition/.venv/lib/python3.8/site-packages/tensorflow/python/eager/function.py?line=503'>504</a>\u001b[0m     outputs \u001b[39m=\u001b[39m execute\u001b[39m.\u001b[39mexecute_with_cancellation(\n\u001b[1;32m    <a href='file:///home/mayara/Documentos/dados/NER/Named-Entity-Recognition/.venv/lib/python3.8/site-packages/tensorflow/python/eager/function.py?line=504'>505</a>\u001b[0m         \u001b[39mstr\u001b[39m(\u001b[39mself\u001b[39m\u001b[39m.\u001b[39msignature\u001b[39m.\u001b[39mname),\n\u001b[1;32m    <a href='file:///home/mayara/Documentos/dados/NER/Named-Entity-Recognition/.venv/lib/python3.8/site-packages/tensorflow/python/eager/function.py?line=505'>506</a>\u001b[0m         num_outputs\u001b[39m=\u001b[39m\u001b[39mself\u001b[39m\u001b[39m.\u001b[39m_num_outputs,\n\u001b[0;32m   (...)\u001b[0m\n\u001b[1;32m    <a href='file:///home/mayara/Documentos/dados/NER/Named-Entity-Recognition/.venv/lib/python3.8/site-packages/tensorflow/python/eager/function.py?line=508'>509</a>\u001b[0m         ctx\u001b[39m=\u001b[39mctx,\n\u001b[1;32m    <a href='file:///home/mayara/Documentos/dados/NER/Named-Entity-Recognition/.venv/lib/python3.8/site-packages/tensorflow/python/eager/function.py?line=509'>510</a>\u001b[0m         cancellation_manager\u001b[39m=\u001b[39mcancellation_manager)\n",
      "File \u001b[0;32m~/Documentos/dados/NER/Named-Entity-Recognition/.venv/lib/python3.8/site-packages/tensorflow/python/eager/execute.py:54\u001b[0m, in \u001b[0;36mquick_execute\u001b[0;34m(op_name, num_outputs, inputs, attrs, ctx, name)\u001b[0m\n\u001b[1;32m     <a href='file:///home/mayara/Documentos/dados/NER/Named-Entity-Recognition/.venv/lib/python3.8/site-packages/tensorflow/python/eager/execute.py?line=51'>52</a>\u001b[0m \u001b[39mtry\u001b[39;00m:\n\u001b[1;32m     <a href='file:///home/mayara/Documentos/dados/NER/Named-Entity-Recognition/.venv/lib/python3.8/site-packages/tensorflow/python/eager/execute.py?line=52'>53</a>\u001b[0m   ctx\u001b[39m.\u001b[39mensure_initialized()\n\u001b[0;32m---> <a href='file:///home/mayara/Documentos/dados/NER/Named-Entity-Recognition/.venv/lib/python3.8/site-packages/tensorflow/python/eager/execute.py?line=53'>54</a>\u001b[0m   tensors \u001b[39m=\u001b[39m pywrap_tfe\u001b[39m.\u001b[39;49mTFE_Py_Execute(ctx\u001b[39m.\u001b[39;49m_handle, device_name, op_name,\n\u001b[1;32m     <a href='file:///home/mayara/Documentos/dados/NER/Named-Entity-Recognition/.venv/lib/python3.8/site-packages/tensorflow/python/eager/execute.py?line=54'>55</a>\u001b[0m                                       inputs, attrs, num_outputs)\n\u001b[1;32m     <a href='file:///home/mayara/Documentos/dados/NER/Named-Entity-Recognition/.venv/lib/python3.8/site-packages/tensorflow/python/eager/execute.py?line=55'>56</a>\u001b[0m \u001b[39mexcept\u001b[39;00m core\u001b[39m.\u001b[39m_NotOkStatusException \u001b[39mas\u001b[39;00m e:\n\u001b[1;32m     <a href='file:///home/mayara/Documentos/dados/NER/Named-Entity-Recognition/.venv/lib/python3.8/site-packages/tensorflow/python/eager/execute.py?line=56'>57</a>\u001b[0m   \u001b[39mif\u001b[39;00m name \u001b[39mis\u001b[39;00m \u001b[39mnot\u001b[39;00m \u001b[39mNone\u001b[39;00m:\n",
      "\u001b[0;31mKeyboardInterrupt\u001b[0m: "
     ]
    }
   ],
   "source": [
    "model = create_model_bilstmcrf(MAX_SENTENCE, VOCAB_SIZE, NUM_TAGS)\n",
    "\n",
    "model.summary()\n",
    "\n",
    "model.compile(optimizer=Adam(learning_rate=0.001), \n",
    "                loss=SigmoidFocalCrossEntropy(), \n",
    "                metrics=['accuracy'])\n",
    "\n",
    "history = model.fit(X['train'],\n",
    "                    np.array(y['train']), \n",
    "                    validation_data=(X['val'], np.array(y['val'])),\n",
    "                    batch_size=8,\n",
    "                    callbacks=EarlyStopping(monitor='val_loss', mode='min', verbose=1, patience=5),\n",
    "                    epochs=20)"
   ]
  },
  {
   "cell_type": "code",
   "execution_count": null,
   "metadata": {},
   "outputs": [
    {
     "data": {
      "image/png": "[encoded data removed]",
      "text/plain": [
       "<Figure size 432x288 with 1 Axes>"
      ]
     },
     "metadata": {
      "needs_background": "light"
     },
     "output_type": "display_data"
    }
   ],
   "source": [
    "plt.plot(history.history['loss'])\n",
    "plt.plot(history.history['val_loss'])\n",
    "plt.title('Model loss')\n",
    "plt.ylabel('Loss')\n",
    "plt.xlabel('Epoch')\n",
    "plt.legend(['Train', 'Validation'], loc='upper left')\n",
    "plt.show()"
   ]
  },
  {
   "cell_type": "code",
   "execution_count": null,
   "metadata": {},
   "outputs": [
    {
     "data": {
      "image/png": "[encoded data removed]",
      "text/plain": [
       "<Figure size 432x288 with 1 Axes>"
      ]
     },
     "metadata": {
      "needs_background": "light"
     },
     "output_type": "display_data"
    }
   ],
   "source": [
    "plt.plot(history.history['accuracy'])\n",
    "plt.plot(history.history['val_accuracy'])\n",
    "plt.title('Model Accuracy')\n",
    "plt.ylabel('Accuracy')\n",
    "plt.xlabel('Epoch')\n",
    "plt.legend(['Train', 'Validation'], loc='upper left')\n",
    "plt.show()"
   ]
  },
  {
   "cell_type": "code",
   "execution_count": null,
   "metadata": {},
   "outputs": [
    {
     "name": "stdout",
     "output_type": "stream",
     "text": [
      "25/25 [==============================] - 0s 10ms/step\n",
      "Accuracy: 0.9514246604949389\n",
      "F1-score: 0.5580276608538786\n"
     ]
    }
   ],
   "source": [
    "y_pred = model.predict(X['val'])\n",
    "\n",
    "pred_index_array = np.argmax(y_pred, axis=-1)\n",
    "val_index_array = np.argmax(y['val'], axis=-1)\n",
    "\n",
    "real_tag, pred_tag = prepare_to_eval(idx_tag_dict, val_index_array, pred_index_array)\n",
    "\n",
    "print(f'Accuracy: {accuracy_score(real_tag, pred_tag)}')\n",
    "print(f'F1-score: {f1_score(real_tag, pred_tag)}')"
   ]
  },
  {
   "cell_type": "code",
   "execution_count": null,
   "metadata": {},
   "outputs": [
    {
     "name": "stdout",
     "output_type": "stream",
     "text": [
      "49/49 [==============================] - 1s 11ms/step\n",
      "Accuracy: 0.9498216923021505\n",
      "F1-score: 0.5397994679762635\n"
     ]
    }
   ],
   "source": [
    "y_pred = model.predict(X['test'])\n",
    "\n",
    "pred_index_array = np.argmax(y_pred, axis=-1)\n",
    "test_index_array = np.argmax(y['test'], axis=-1)\n",
    "\n",
    "real_tag, pred_tag = prepare_to_eval(idx_tag_dict, test_index_array, pred_index_array)\n",
    "\n",
    "print(f'Accuracy: {accuracy_score(real_tag, pred_tag)}')\n",
    "print(f'F1-score: {f1_score(real_tag, pred_tag)}')"
   ]
  },
  {
   "cell_type": "code",
   "execution_count": null,
   "metadata": {},
   "outputs": [
    {
     "name": "stdout",
     "output_type": "stream",
     "text": [
      "                precision    recall  f1-score   support\n",
      "\n",
      "         Actor       0.83      0.84      0.84       967\n",
      "         Award       0.28      0.34      0.31        62\n",
      "Character_Name       0.52      0.37      0.43       216\n",
      "      Director       0.66      0.73      0.69       357\n",
      "         Genre       0.54      0.64      0.59       684\n",
      "       Opinion       0.34      0.19      0.24       165\n",
      "        Origin       0.18      0.21      0.20       157\n",
      "          Plot       0.25      0.34      0.29      1321\n",
      "         Quote       0.07      0.16      0.10        19\n",
      "  Relationship       0.30      0.36      0.32       134\n",
      "    Soundtrack       0.00      0.00      0.00        11\n",
      "          Year       0.89      0.92      0.91       500\n",
      "\n",
      "     micro avg       0.51      0.57      0.54      4593\n",
      "     macro avg       0.41      0.42      0.41      4593\n",
      "  weighted avg       0.53      0.57      0.55      4593\n",
      "\n"
     ]
    }
   ],
   "source": [
    "print(classification_report(real_tag, pred_tag, zero_division=0))"
   ]
  }
 ],
 "metadata": {
  "interpreter": {
   "hash": "ad522d30e3dfc0e14e6af11be4b6def96f4bde859e5802fc4a9db0a62ee0582b"
  },
  "kernelspec": {
   "display_name": "Python 3.8.10 ('.venv': poetry)",
   "language": "python",
   "name": "python3"
  },
  "language_info": {
   "codemirror_mode": {
    "name": "ipython",
    "version": 3
   },
   "file_extension": ".py",
   "mimetype": "text/x-python",
   "name": "python",
   "nbconvert_exporter": "python",
   "pygments_lexer": "ipython3",
   "version": "3.8.10"
  },
  "orig_nbformat": 4
 },
 "nbformat": 4,
 "nbformat_minor": 2
}
